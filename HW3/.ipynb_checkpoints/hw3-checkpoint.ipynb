{
 "cells": [
  {
   "cell_type": "markdown",
   "metadata": {
    "colab_type": "text",
    "id": "L6dqb5EKz8_S"
   },
   "source": [
    "# FDA HW3 Predict the stock movement\n"
   ]
  },
  {
   "cell_type": "code",
   "execution_count": 1,
   "metadata": {
    "colab": {},
    "colab_type": "code",
    "id": "M3OCR6M5Qp8L"
   },
   "outputs": [],
   "source": [
    "import warnings\n",
    "warnings.filterwarnings(\"ignore\")"
   ]
  },
  {
   "cell_type": "code",
   "execution_count": 2,
   "metadata": {
    "colab": {},
    "colab_type": "code",
    "id": "6MQbM2mhPuvK"
   },
   "outputs": [
    {
     "data": {
      "text/html": [
       "<div>\n",
       "<style scoped>\n",
       "    .dataframe tbody tr th:only-of-type {\n",
       "        vertical-align: middle;\n",
       "    }\n",
       "\n",
       "    .dataframe tbody tr th {\n",
       "        vertical-align: top;\n",
       "    }\n",
       "\n",
       "    .dataframe thead th {\n",
       "        text-align: right;\n",
       "    }\n",
       "</style>\n",
       "<table border=\"1\" class=\"dataframe\">\n",
       "  <thead>\n",
       "    <tr style=\"text-align: right;\">\n",
       "      <th></th>\n",
       "      <th>Date</th>\n",
       "      <th>Open Price</th>\n",
       "      <th>Close Price</th>\n",
       "      <th>High Price</th>\n",
       "      <th>Low Price</th>\n",
       "      <th>Volume</th>\n",
       "    </tr>\n",
       "  </thead>\n",
       "  <tbody>\n",
       "    <tr>\n",
       "      <th>0</th>\n",
       "      <td>02-Jan-2009</td>\n",
       "      <td>902.99</td>\n",
       "      <td>931.80</td>\n",
       "      <td>934.73</td>\n",
       "      <td>899.35</td>\n",
       "      <td>4048270080</td>\n",
       "    </tr>\n",
       "    <tr>\n",
       "      <th>1</th>\n",
       "      <td>05-Jan-2009</td>\n",
       "      <td>929.17</td>\n",
       "      <td>927.45</td>\n",
       "      <td>936.63</td>\n",
       "      <td>919.53</td>\n",
       "      <td>5413910016</td>\n",
       "    </tr>\n",
       "    <tr>\n",
       "      <th>2</th>\n",
       "      <td>06-Jan-2009</td>\n",
       "      <td>931.17</td>\n",
       "      <td>934.70</td>\n",
       "      <td>943.85</td>\n",
       "      <td>927.28</td>\n",
       "      <td>5392620032</td>\n",
       "    </tr>\n",
       "    <tr>\n",
       "      <th>3</th>\n",
       "      <td>07-Jan-2009</td>\n",
       "      <td>927.45</td>\n",
       "      <td>906.65</td>\n",
       "      <td>927.45</td>\n",
       "      <td>902.37</td>\n",
       "      <td>4704940032</td>\n",
       "    </tr>\n",
       "    <tr>\n",
       "      <th>4</th>\n",
       "      <td>08-Jan-2009</td>\n",
       "      <td>905.73</td>\n",
       "      <td>909.73</td>\n",
       "      <td>910.00</td>\n",
       "      <td>896.81</td>\n",
       "      <td>4991549952</td>\n",
       "    </tr>\n",
       "  </tbody>\n",
       "</table>\n",
       "</div>"
      ],
      "text/plain": [
       "          Date  Open Price  Close Price  High Price  Low Price      Volume\n",
       "0  02-Jan-2009      902.99       931.80      934.73     899.35  4048270080\n",
       "1  05-Jan-2009      929.17       927.45      936.63     919.53  5413910016\n",
       "2  06-Jan-2009      931.17       934.70      943.85     927.28  5392620032\n",
       "3  07-Jan-2009      927.45       906.65      927.45     902.37  4704940032\n",
       "4  08-Jan-2009      905.73       909.73      910.00     896.81  4991549952"
      ]
     },
     "execution_count": 2,
     "metadata": {},
     "output_type": "execute_result"
    }
   ],
   "source": [
    "import pandas as pd\n",
    "import matplotlib.pyplot as plt\n",
    "import numpy as np\n",
    "\n",
    "train_data = pd.read_csv('stock_train.csv')\n",
    "train_data.head()\n"
   ]
  },
  {
   "cell_type": "code",
   "execution_count": 3,
   "metadata": {
    "colab": {},
    "colab_type": "code",
    "id": "7pi763MGUDvt"
   },
   "outputs": [
    {
     "data": {
      "text/html": [
       "<div>\n",
       "<style scoped>\n",
       "    .dataframe tbody tr th:only-of-type {\n",
       "        vertical-align: middle;\n",
       "    }\n",
       "\n",
       "    .dataframe tbody tr th {\n",
       "        vertical-align: top;\n",
       "    }\n",
       "\n",
       "    .dataframe thead th {\n",
       "        text-align: right;\n",
       "    }\n",
       "</style>\n",
       "<table border=\"1\" class=\"dataframe\">\n",
       "  <thead>\n",
       "    <tr style=\"text-align: right;\">\n",
       "      <th></th>\n",
       "      <th>Date</th>\n",
       "      <th>Open Price</th>\n",
       "      <th>Close Price</th>\n",
       "      <th>High Price</th>\n",
       "      <th>Low Price</th>\n",
       "      <th>Volume</th>\n",
       "    </tr>\n",
       "  </thead>\n",
       "  <tbody>\n",
       "    <tr>\n",
       "      <th>0</th>\n",
       "      <td>02-Jan-2018</td>\n",
       "      <td>2683.73</td>\n",
       "      <td>2695.81</td>\n",
       "      <td>2695.89</td>\n",
       "      <td>2682.36</td>\n",
       "      <td>1846463232</td>\n",
       "    </tr>\n",
       "    <tr>\n",
       "      <th>1</th>\n",
       "      <td>03-Jan-2018</td>\n",
       "      <td>2697.85</td>\n",
       "      <td>2713.06</td>\n",
       "      <td>2714.37</td>\n",
       "      <td>2697.77</td>\n",
       "      <td>2090595328</td>\n",
       "    </tr>\n",
       "    <tr>\n",
       "      <th>2</th>\n",
       "      <td>04-Jan-2018</td>\n",
       "      <td>2719.31</td>\n",
       "      <td>2723.99</td>\n",
       "      <td>2729.29</td>\n",
       "      <td>2719.07</td>\n",
       "      <td>2100767744</td>\n",
       "    </tr>\n",
       "    <tr>\n",
       "      <th>3</th>\n",
       "      <td>05-Jan-2018</td>\n",
       "      <td>2731.33</td>\n",
       "      <td>2743.15</td>\n",
       "      <td>2743.45</td>\n",
       "      <td>2727.92</td>\n",
       "      <td>1918869120</td>\n",
       "    </tr>\n",
       "    <tr>\n",
       "      <th>4</th>\n",
       "      <td>08-Jan-2018</td>\n",
       "      <td>2742.67</td>\n",
       "      <td>2747.71</td>\n",
       "      <td>2748.51</td>\n",
       "      <td>2737.60</td>\n",
       "      <td>1894823936</td>\n",
       "    </tr>\n",
       "  </tbody>\n",
       "</table>\n",
       "</div>"
      ],
      "text/plain": [
       "          Date  Open Price  Close Price  High Price  Low Price      Volume\n",
       "0  02-Jan-2018     2683.73      2695.81     2695.89    2682.36  1846463232\n",
       "1  03-Jan-2018     2697.85      2713.06     2714.37    2697.77  2090595328\n",
       "2  04-Jan-2018     2719.31      2723.99     2729.29    2719.07  2100767744\n",
       "3  05-Jan-2018     2731.33      2743.15     2743.45    2727.92  1918869120\n",
       "4  08-Jan-2018     2742.67      2747.71     2748.51    2737.60  1894823936"
      ]
     },
     "execution_count": 3,
     "metadata": {},
     "output_type": "execute_result"
    }
   ],
   "source": [
    "test_data = pd.read_csv('stock_test.csv')\n",
    "test_data.head()"
   ]
  },
  {
   "cell_type": "markdown",
   "metadata": {
    "colab_type": "text",
    "id": "dgkbvLsi6Ajn"
   },
   "source": [
    "## 判斷走勢"
   ]
  },
  {
   "cell_type": "code",
   "execution_count": 4,
   "metadata": {
    "colab": {},
    "colab_type": "code",
    "id": "GEwNbSE0QNaj"
   },
   "outputs": [
    {
     "data": {
      "text/html": [
       "<div>\n",
       "<style scoped>\n",
       "    .dataframe tbody tr th:only-of-type {\n",
       "        vertical-align: middle;\n",
       "    }\n",
       "\n",
       "    .dataframe tbody tr th {\n",
       "        vertical-align: top;\n",
       "    }\n",
       "\n",
       "    .dataframe thead th {\n",
       "        text-align: right;\n",
       "    }\n",
       "</style>\n",
       "<table border=\"1\" class=\"dataframe\">\n",
       "  <thead>\n",
       "    <tr style=\"text-align: right;\">\n",
       "      <th></th>\n",
       "      <th>Date</th>\n",
       "      <th>Open Price</th>\n",
       "      <th>Close Price</th>\n",
       "      <th>High Price</th>\n",
       "      <th>Low Price</th>\n",
       "      <th>Volume</th>\n",
       "      <th>movement</th>\n",
       "    </tr>\n",
       "  </thead>\n",
       "  <tbody>\n",
       "    <tr>\n",
       "      <th>0</th>\n",
       "      <td>02-Jan-2009</td>\n",
       "      <td>902.99</td>\n",
       "      <td>931.80</td>\n",
       "      <td>934.73</td>\n",
       "      <td>899.35</td>\n",
       "      <td>4048270080</td>\n",
       "      <td>0</td>\n",
       "    </tr>\n",
       "    <tr>\n",
       "      <th>1</th>\n",
       "      <td>05-Jan-2009</td>\n",
       "      <td>929.17</td>\n",
       "      <td>927.45</td>\n",
       "      <td>936.63</td>\n",
       "      <td>919.53</td>\n",
       "      <td>5413910016</td>\n",
       "      <td>1</td>\n",
       "    </tr>\n",
       "    <tr>\n",
       "      <th>2</th>\n",
       "      <td>06-Jan-2009</td>\n",
       "      <td>931.17</td>\n",
       "      <td>934.70</td>\n",
       "      <td>943.85</td>\n",
       "      <td>927.28</td>\n",
       "      <td>5392620032</td>\n",
       "      <td>0</td>\n",
       "    </tr>\n",
       "    <tr>\n",
       "      <th>3</th>\n",
       "      <td>07-Jan-2009</td>\n",
       "      <td>927.45</td>\n",
       "      <td>906.65</td>\n",
       "      <td>927.45</td>\n",
       "      <td>902.37</td>\n",
       "      <td>4704940032</td>\n",
       "      <td>1</td>\n",
       "    </tr>\n",
       "    <tr>\n",
       "      <th>4</th>\n",
       "      <td>08-Jan-2009</td>\n",
       "      <td>905.73</td>\n",
       "      <td>909.73</td>\n",
       "      <td>910.00</td>\n",
       "      <td>896.81</td>\n",
       "      <td>4991549952</td>\n",
       "      <td>0</td>\n",
       "    </tr>\n",
       "  </tbody>\n",
       "</table>\n",
       "</div>"
      ],
      "text/plain": [
       "          Date  Open Price  Close Price  High Price  Low Price      Volume  \\\n",
       "0  02-Jan-2009      902.99       931.80      934.73     899.35  4048270080   \n",
       "1  05-Jan-2009      929.17       927.45      936.63     919.53  5413910016   \n",
       "2  06-Jan-2009      931.17       934.70      943.85     927.28  5392620032   \n",
       "3  07-Jan-2009      927.45       906.65      927.45     902.37  4704940032   \n",
       "4  08-Jan-2009      905.73       909.73      910.00     896.81  4991549952   \n",
       "\n",
       "   movement  \n",
       "0         0  \n",
       "1         1  \n",
       "2         0  \n",
       "3         1  \n",
       "4         0  "
      ]
     },
     "execution_count": 4,
     "metadata": {},
     "output_type": "execute_result"
    }
   ],
   "source": [
    "train_data['movement'] = 0\n",
    "\n",
    "for i in range(0, train_data.shape[0]-1):\n",
    "    if(train_data['Close Price'][i] < train_data['Close Price'][i+1]):\n",
    "        train_data['movement'][i] = 1\n",
    "    \n",
    "train_data.head()"
   ]
  },
  {
   "cell_type": "code",
   "execution_count": 5,
   "metadata": {
    "colab": {},
    "colab_type": "code",
    "id": "B3gI-85mUUWL"
   },
   "outputs": [
    {
     "data": {
      "text/html": [
       "<div>\n",
       "<style scoped>\n",
       "    .dataframe tbody tr th:only-of-type {\n",
       "        vertical-align: middle;\n",
       "    }\n",
       "\n",
       "    .dataframe tbody tr th {\n",
       "        vertical-align: top;\n",
       "    }\n",
       "\n",
       "    .dataframe thead th {\n",
       "        text-align: right;\n",
       "    }\n",
       "</style>\n",
       "<table border=\"1\" class=\"dataframe\">\n",
       "  <thead>\n",
       "    <tr style=\"text-align: right;\">\n",
       "      <th></th>\n",
       "      <th>Date</th>\n",
       "      <th>Open Price</th>\n",
       "      <th>Close Price</th>\n",
       "      <th>High Price</th>\n",
       "      <th>Low Price</th>\n",
       "      <th>Volume</th>\n",
       "      <th>movement</th>\n",
       "    </tr>\n",
       "  </thead>\n",
       "  <tbody>\n",
       "    <tr>\n",
       "      <th>0</th>\n",
       "      <td>02-Jan-2018</td>\n",
       "      <td>2683.73</td>\n",
       "      <td>2695.81</td>\n",
       "      <td>2695.89</td>\n",
       "      <td>2682.36</td>\n",
       "      <td>1846463232</td>\n",
       "      <td>1</td>\n",
       "    </tr>\n",
       "    <tr>\n",
       "      <th>1</th>\n",
       "      <td>03-Jan-2018</td>\n",
       "      <td>2697.85</td>\n",
       "      <td>2713.06</td>\n",
       "      <td>2714.37</td>\n",
       "      <td>2697.77</td>\n",
       "      <td>2090595328</td>\n",
       "      <td>1</td>\n",
       "    </tr>\n",
       "    <tr>\n",
       "      <th>2</th>\n",
       "      <td>04-Jan-2018</td>\n",
       "      <td>2719.31</td>\n",
       "      <td>2723.99</td>\n",
       "      <td>2729.29</td>\n",
       "      <td>2719.07</td>\n",
       "      <td>2100767744</td>\n",
       "      <td>1</td>\n",
       "    </tr>\n",
       "    <tr>\n",
       "      <th>3</th>\n",
       "      <td>05-Jan-2018</td>\n",
       "      <td>2731.33</td>\n",
       "      <td>2743.15</td>\n",
       "      <td>2743.45</td>\n",
       "      <td>2727.92</td>\n",
       "      <td>1918869120</td>\n",
       "      <td>1</td>\n",
       "    </tr>\n",
       "    <tr>\n",
       "      <th>4</th>\n",
       "      <td>08-Jan-2018</td>\n",
       "      <td>2742.67</td>\n",
       "      <td>2747.71</td>\n",
       "      <td>2748.51</td>\n",
       "      <td>2737.60</td>\n",
       "      <td>1894823936</td>\n",
       "      <td>1</td>\n",
       "    </tr>\n",
       "  </tbody>\n",
       "</table>\n",
       "</div>"
      ],
      "text/plain": [
       "          Date  Open Price  Close Price  High Price  Low Price      Volume  \\\n",
       "0  02-Jan-2018     2683.73      2695.81     2695.89    2682.36  1846463232   \n",
       "1  03-Jan-2018     2697.85      2713.06     2714.37    2697.77  2090595328   \n",
       "2  04-Jan-2018     2719.31      2723.99     2729.29    2719.07  2100767744   \n",
       "3  05-Jan-2018     2731.33      2743.15     2743.45    2727.92  1918869120   \n",
       "4  08-Jan-2018     2742.67      2747.71     2748.51    2737.60  1894823936   \n",
       "\n",
       "   movement  \n",
       "0         1  \n",
       "1         1  \n",
       "2         1  \n",
       "3         1  \n",
       "4         1  "
      ]
     },
     "execution_count": 5,
     "metadata": {},
     "output_type": "execute_result"
    }
   ],
   "source": [
    "test_data['movement'] = 0\n",
    "\n",
    "for i in range(0, test_data.shape[0]-1):\n",
    "    if(test_data['Close Price'][i] < test_data['Close Price'][i+1]):\n",
    "        test_data['movement'][i] = 1\n",
    "    \n",
    "test_data.head()"
   ]
  },
  {
   "cell_type": "code",
   "execution_count": 6,
   "metadata": {
    "colab": {},
    "colab_type": "code",
    "id": "-b5p_iqsUmoH"
   },
   "outputs": [],
   "source": [
    "#train set x\n",
    "train_x = train_data[['Open Price', 'Close Price', 'High Price', 'Low Price', 'Volume']]\n",
    "#train set y\n",
    "train_y = train_data[['movement']]\n",
    "\n",
    "#test set x\n",
    "test_x = test_data[['Open Price', 'Close Price', 'High Price', 'Low Price', 'Volume']]\n",
    "test_y = test_data[['movement']]"
   ]
  },
  {
   "cell_type": "code",
   "execution_count": 7,
   "metadata": {
    "colab": {},
    "colab_type": "code",
    "id": "PO5cYrSOXBYt"
   },
   "outputs": [
    {
     "name": "stdout",
     "output_type": "stream",
     "text": [
      "3.6.8\n"
     ]
    }
   ],
   "source": [
    "from platform import python_version\n",
    "\n",
    "print(python_version())"
   ]
  },
  {
   "cell_type": "markdown",
   "metadata": {
    "colab_type": "text",
    "id": "B7j_yjxPBYAE"
   },
   "source": [
    "## Preprocessing\n",
    "### Standardization"
   ]
  },
  {
   "cell_type": "code",
   "execution_count": 8,
   "metadata": {
    "colab": {},
    "colab_type": "code",
    "id": "OsycMSGBVNOM"
   },
   "outputs": [],
   "source": [
    "from sklearn.preprocessing import StandardScaler\n",
    "\n",
    "\n",
    "scaler = StandardScaler().fit(train_x)\n",
    "\n",
    "train_x = scaler.transform(train_x)\n",
    "\n",
    "scaler = StandardScaler().fit(test_x)\n",
    "test_x = scaler.transform(test_x)\n"
   ]
  },
  {
   "cell_type": "markdown",
   "metadata": {
    "colab_type": "text",
    "id": "g4mjDzzk9zTO"
   },
   "source": [
    "## Logistic Regression\n",
    "準確率 54.59%並不算高 "
   ]
  },
  {
   "cell_type": "code",
   "execution_count": 9,
   "metadata": {
    "colab": {},
    "colab_type": "code",
    "id": "0VnzyNp8YLDX"
   },
   "outputs": [
    {
     "name": "stdout",
     "output_type": "stream",
     "text": [
      "0.5459363957597173\n"
     ]
    }
   ],
   "source": [
    "from sklearn.linear_model import LogisticRegression\n",
    "from sklearn.metrics import accuracy_score\n",
    "\n",
    "LR = LogisticRegression()\n",
    "LR.fit(train_x, train_y)\n",
    "\n",
    "result = LR.predict(train_x)\n",
    "acc_rate = accuracy_score(train_y, result)\n",
    "print(acc_rate)"
   ]
  },
  {
   "cell_type": "markdown",
   "metadata": {
    "colab_type": "text",
    "id": "Qj98WofY7Ci3"
   },
   "source": []
  },
  {
   "cell_type": "markdown",
   "metadata": {
    "colab_type": "text",
    "id": "rJJLyCmTcAzd"
   },
   "source": [
    "## Neuro Network"
   ]
  },
  {
   "cell_type": "code",
   "execution_count": 10,
   "metadata": {
    "colab": {},
    "colab_type": "code",
    "id": "cwNPk3x-nL91"
   },
   "outputs": [
    {
     "name": "stderr",
     "output_type": "stream",
     "text": [
      "Using TensorFlow backend.\n"
     ]
    }
   ],
   "source": [
    "import pandas as pd\n",
    "import numpy as np\n",
    "from keras.models import Sequential\n",
    "from keras.layers import Dense, Dropout, Activation, Flatten, LSTM, TimeDistributed, RepeatVector\n",
    "from keras.layers.normalization import BatchNormalization\n",
    "from keras.optimizers import Adam\n",
    "from keras.callbacks import EarlyStopping, ModelCheckpoint\n",
    "import matplotlib.pyplot as plt\n",
    "\n",
    "from keras import models, layers, optimizers, regularizers\n"
   ]
  },
  {
   "cell_type": "code",
   "execution_count": 11,
   "metadata": {
    "colab": {},
    "colab_type": "code",
    "id": "wgWDV0e-99qL"
   },
   "outputs": [],
   "source": [
    "#train set x\n",
    "train_x = train_data[['Open Price', 'Close Price', 'High Price', 'Low Price', 'Volume']]\n",
    "#train set y\n",
    "train_y = train_data[['movement']]\n",
    "\n",
    "#test set x\n",
    "test_x = test_data[['Open Price', 'Close Price', 'High Price', 'Low Price', 'Volume']]\n",
    "test_y = test_data[['movement']]\n"
   ]
  },
  {
   "cell_type": "code",
   "execution_count": 12,
   "metadata": {
    "colab": {},
    "colab_type": "code",
    "id": "AsIFKtbKIUvT"
   },
   "outputs": [],
   "source": [
    "\n",
    "hidden_units = 10\n",
    "activation = 'relu'\n",
    "l2 = 0.001\n",
    "learning_rate = 0.1\n",
    "epochs = 20\n",
    "batch_size = 100"
   ]
  },
  {
   "cell_type": "code",
   "execution_count": 13,
   "metadata": {
    "colab": {},
    "colab_type": "code",
    "id": "FK4kEtGaIVh1"
   },
   "outputs": [
    {
     "name": "stdout",
     "output_type": "stream",
     "text": [
      "WARNING:tensorflow:From /home/bk/.local/lib/python3.6/site-packages/tensorflow/python/ops/nn_impl.py:180: add_dispatch_support.<locals>.wrapper (from tensorflow.python.ops.array_ops) is deprecated and will be removed in a future version.\n",
      "Instructions for updating:\n",
      "Use tf.where in 2.0, which has the same broadcast rule as np.where\n"
     ]
    }
   ],
   "source": [
    "model = models.Sequential()\n",
    "#hidden layer\n",
    "model.add(layers.Dense(input_dim = 5, units = hidden_units, activation=activation))\n",
    "\n",
    "#output layer\n",
    "model.add(layers.Dense(input_dim = hidden_units, units = 1, activation='sigmoid'))\n",
    "\n",
    "#loss function and optimizer\n",
    "model.compile(loss='binary_crossentropy',\n",
    "              optimizer=optimizers.Adam(lr=learning_rate),\n",
    "              metrics=['accuracy'])"
   ]
  },
  {
   "cell_type": "code",
   "execution_count": 14,
   "metadata": {
    "colab": {},
    "colab_type": "code",
    "id": "3WHqBfrKIbVr"
   },
   "outputs": [
    {
     "name": "stdout",
     "output_type": "stream",
     "text": [
      "0's : 1028\n",
      "1's : 1236\n"
     ]
    }
   ],
   "source": [
    "n = train_y['movement'].value_counts()\n",
    "print(\"0's : %d\" % n[0])\n",
    "print(\"1's : %d\" % n[1])\n",
    "class_weight = {\n",
    "    0: 1.,\n",
    "    1: n[1] / n[0]\n",
    "}"
   ]
  },
  {
   "cell_type": "code",
   "execution_count": 15,
   "metadata": {
    "colab": {},
    "colab_type": "code",
    "id": "euEv_W5NI7ZO"
   },
   "outputs": [],
   "source": [
    "from sklearn.preprocessing import StandardScaler\n",
    "\n",
    "scaler = StandardScaler()\n",
    "scaler.fit(train_x)\n",
    "train_x_std = scaler.transform(train_x)\n",
    "test_x_std = scaler.transform(test_x)\n"
   ]
  },
  {
   "cell_type": "markdown",
   "metadata": {
    "colab_type": "text",
    "id": "Pg7eeDdLCsxk"
   },
   "source": [
    "### 1 hidden layer\n",
    "結果並沒有比 Regression 好太多"
   ]
  },
  {
   "cell_type": "code",
   "execution_count": 16,
   "metadata": {
    "colab": {},
    "colab_type": "code",
    "id": "ir0pb2VBIeIW"
   },
   "outputs": [
    {
     "name": "stdout",
     "output_type": "stream",
     "text": [
      "WARNING:tensorflow:From /home/bk/.local/lib/python3.6/site-packages/keras/backend/tensorflow_backend.py:422: The name tf.global_variables is deprecated. Please use tf.compat.v1.global_variables instead.\n",
      "\n",
      "Epoch 1/20\n",
      "2264/2264 [==============================] - 0s 41us/step - loss: 0.7751 - accuracy: 0.5380\n",
      "Epoch 2/20\n",
      "2264/2264 [==============================] - 0s 8us/step - loss: 0.7547 - accuracy: 0.5415\n",
      "Epoch 3/20\n",
      "2264/2264 [==============================] - 0s 7us/step - loss: 0.7537 - accuracy: 0.5464\n",
      "Epoch 4/20\n",
      "2264/2264 [==============================] - 0s 7us/step - loss: 0.7541 - accuracy: 0.5420\n",
      "Epoch 5/20\n",
      "2264/2264 [==============================] - 0s 7us/step - loss: 0.7537 - accuracy: 0.5446\n",
      "Epoch 6/20\n",
      "2264/2264 [==============================] - 0s 8us/step - loss: 0.7527 - accuracy: 0.5459\n",
      "Epoch 7/20\n",
      "2264/2264 [==============================] - 0s 7us/step - loss: 0.7520 - accuracy: 0.5459\n",
      "Epoch 8/20\n",
      "2264/2264 [==============================] - 0s 7us/step - loss: 0.7518 - accuracy: 0.5459\n",
      "Epoch 9/20\n",
      "2264/2264 [==============================] - 0s 8us/step - loss: 0.7522 - accuracy: 0.5468\n",
      "Epoch 10/20\n",
      "2264/2264 [==============================] - 0s 7us/step - loss: 0.7545 - accuracy: 0.5424\n",
      "Epoch 11/20\n",
      "2264/2264 [==============================] - 0s 8us/step - loss: 0.7515 - accuracy: 0.5459\n",
      "Epoch 12/20\n",
      "2264/2264 [==============================] - 0s 7us/step - loss: 0.7520 - accuracy: 0.5459\n",
      "Epoch 13/20\n",
      "2264/2264 [==============================] - 0s 7us/step - loss: 0.7524 - accuracy: 0.5459\n",
      "Epoch 14/20\n",
      "2264/2264 [==============================] - 0s 8us/step - loss: 0.7518 - accuracy: 0.5459\n",
      "Epoch 15/20\n",
      "2264/2264 [==============================] - 0s 7us/step - loss: 0.7526 - accuracy: 0.5459\n",
      "Epoch 16/20\n",
      "2264/2264 [==============================] - 0s 7us/step - loss: 0.7519 - accuracy: 0.5459\n",
      "Epoch 17/20\n",
      "2264/2264 [==============================] - 0s 7us/step - loss: 0.7514 - accuracy: 0.5459\n",
      "Epoch 18/20\n",
      "2264/2264 [==============================] - 0s 7us/step - loss: 0.7526 - accuracy: 0.5464\n",
      "Epoch 19/20\n",
      "2264/2264 [==============================] - 0s 7us/step - loss: 0.7527 - accuracy: 0.5459\n",
      "Epoch 20/20\n",
      "2264/2264 [==============================] - 0s 7us/step - loss: 0.7527 - accuracy: 0.5459\n",
      "2264/2264 [==============================] - 0s 14us/step\n",
      "252/252 [==============================] - 0s 11us/step\n",
      "Training accuracy: 0.5459364056587219\n",
      "Testing accuracy: 0.5198412537574768\n"
     ]
    },
    {
     "data": {
      "image/png": "[encoded data removed]",
      "text/plain": [
       "<Figure size 432x288 with 1 Axes>"
      ]
     },
     "metadata": {
      "needs_background": "light"
     },
     "output_type": "display_data"
    }
   ],
   "source": [
    "import matplotlib.pyplot as plt\n",
    "# train\n",
    "history = model.fit(train_x_std, train_y, epochs=epochs, batch_size=batch_size, class_weight=class_weight)\n",
    "\n",
    "# evaluate accuracy\n",
    "train_acc = model.evaluate(train_x_std, train_y, batch_size=32)[1]\n",
    "test_acc = model.evaluate(test_x_std, test_y, batch_size=32)[1]\n",
    "print('Training accuracy: %s' % train_acc)\n",
    "print('Testing accuracy: %s' % test_acc)\n",
    "\n",
    "losses = history.history['loss']\n",
    "plt.plot(range(len(losses)), losses, 'r')\n",
    "plt.show()"
   ]
  },
  {
   "cell_type": "markdown",
   "metadata": {
    "colab_type": "text",
    "id": "6UUUiixfDJo2"
   },
   "source": [
    "### 2 hidden layers\n",
    "多一層也沒有好多好"
   ]
  },
  {
   "cell_type": "code",
   "execution_count": 17,
   "metadata": {
    "colab": {},
    "colab_type": "code",
    "id": "n1OiuoJZIe6b"
   },
   "outputs": [],
   "source": [
    "model = models.Sequential()\n",
    "\n",
    "#hidden layer\n",
    "model.add(layers.Dense(input_dim = 5, units = hidden_units, activation=activation))\n",
    "\n",
    "#hidden layer2\n",
    "model.add(layers.Dense(input_dim = hidden_units, units = hidden_units*2, activation=activation))\n",
    "\n",
    "#output layer\n",
    "model.add(layers.Dense(input_dim = hidden_units*2, units = 1, activation='sigmoid'))\n",
    "\n",
    "#loss function and optimizer\n",
    "model.compile(loss='binary_crossentropy',\n",
    "              optimizer=optimizers.Adam(lr=learning_rate),\n",
    "              metrics=['accuracy'])"
   ]
  },
  {
   "cell_type": "code",
   "execution_count": 18,
   "metadata": {
    "colab": {},
    "colab_type": "code",
    "id": "zglBZEfqIiN6"
   },
   "outputs": [
    {
     "name": "stdout",
     "output_type": "stream",
     "text": [
      "Epoch 1/20\n",
      "2264/2264 [==============================] - 0s 41us/step - loss: 0.7746 - accuracy: 0.5415\n",
      "Epoch 2/20\n",
      "2264/2264 [==============================] - 0s 8us/step - loss: 0.7517 - accuracy: 0.5459\n",
      "Epoch 3/20\n",
      "2264/2264 [==============================] - 0s 8us/step - loss: 0.7552 - accuracy: 0.5464\n",
      "Epoch 4/20\n",
      "2264/2264 [==============================] - 0s 8us/step - loss: 0.7515 - accuracy: 0.5459\n",
      "Epoch 5/20\n",
      "2264/2264 [==============================] - 0s 8us/step - loss: 0.7516 - accuracy: 0.5459\n",
      "Epoch 6/20\n",
      "2264/2264 [==============================] - 0s 8us/step - loss: 0.7520 - accuracy: 0.5459\n",
      "Epoch 7/20\n",
      "2264/2264 [==============================] - 0s 8us/step - loss: 0.7529 - accuracy: 0.5459\n",
      "Epoch 8/20\n",
      "2264/2264 [==============================] - 0s 8us/step - loss: 0.7523 - accuracy: 0.5459\n",
      "Epoch 9/20\n",
      "2264/2264 [==============================] - 0s 8us/step - loss: 0.7516 - accuracy: 0.5459\n",
      "Epoch 10/20\n",
      "2264/2264 [==============================] - 0s 8us/step - loss: 0.7526 - accuracy: 0.5459\n",
      "Epoch 11/20\n",
      "2264/2264 [==============================] - 0s 8us/step - loss: 0.7519 - accuracy: 0.5459\n",
      "Epoch 12/20\n",
      "2264/2264 [==============================] - 0s 8us/step - loss: 0.7518 - accuracy: 0.5459\n",
      "Epoch 13/20\n",
      "2264/2264 [==============================] - 0s 8us/step - loss: 0.7514 - accuracy: 0.5459\n",
      "Epoch 14/20\n",
      "2264/2264 [==============================] - 0s 8us/step - loss: 0.7530 - accuracy: 0.5459\n",
      "Epoch 15/20\n",
      "2264/2264 [==============================] - 0s 8us/step - loss: 0.7535 - accuracy: 0.5459\n",
      "Epoch 16/20\n",
      "2264/2264 [==============================] - 0s 8us/step - loss: 0.7528 - accuracy: 0.5464\n",
      "Epoch 17/20\n",
      "2264/2264 [==============================] - 0s 8us/step - loss: 0.7518 - accuracy: 0.5459\n",
      "Epoch 18/20\n",
      "2264/2264 [==============================] - 0s 8us/step - loss: 0.7521 - accuracy: 0.5459\n",
      "Epoch 19/20\n",
      "2264/2264 [==============================] - 0s 7us/step - loss: 0.7524 - accuracy: 0.5459\n",
      "Epoch 20/20\n",
      "2264/2264 [==============================] - 0s 7us/step - loss: 0.7517 - accuracy: 0.5459\n",
      "2264/2264 [==============================] - 0s 16us/step\n",
      "252/252 [==============================] - 0s 11us/step\n",
      "Training accuracy: 0.5459364056587219\n",
      "Testing accuracy: 0.5198412537574768\n"
     ]
    },
    {
     "data": {
      "image/png": "[encoded data removed]",
      "text/plain": [
       "<Figure size 432x288 with 1 Axes>"
      ]
     },
     "metadata": {
      "needs_background": "light"
     },
     "output_type": "display_data"
    }
   ],
   "source": [
    "# train\n",
    "history = model.fit(train_x_std, train_y, epochs=epochs, batch_size=batch_size, class_weight=class_weight)\n",
    "\n",
    "# evaluate accuracy\n",
    "train_acc = model.evaluate(train_x_std, train_y, batch_size=32)[1]\n",
    "test_acc = model.evaluate(test_x_std, test_y, batch_size=32)[1]\n",
    "print('Training accuracy: %s' % train_acc)\n",
    "print('Testing accuracy: %s' % test_acc)\n",
    "\n",
    "losses = history.history['loss']\n",
    "plt.plot(range(len(losses)), losses, 'r')\n",
    "plt.show()"
   ]
  },
  {
   "cell_type": "markdown",
   "metadata": {
    "colab_type": "text",
    "id": "o_DszaGvDjFL"
   },
   "source": [
    "## SVM"
   ]
  },
  {
   "cell_type": "markdown",
   "metadata": {
    "colab_type": "text",
    "id": "cxpOaUwDGN23"
   },
   "source": [
    "用預設的參數似乎沒有很高"
   ]
  },
  {
   "cell_type": "code",
   "execution_count": 19,
   "metadata": {
    "colab": {},
    "colab_type": "code",
    "id": "yZ_cnZSXDggG"
   },
   "outputs": [
    {
     "name": "stdout",
     "output_type": "stream",
     "text": [
      "0.5198412698412699\n"
     ]
    }
   ],
   "source": [
    "from sklearn.svm import SVC\n",
    "\n",
    "svm = SVC()\n",
    "svm.fit(train_x_std, train_y)\n",
    "\n",
    "result = svm.predict(test_x_std)\n",
    "acc_rate = accuracy_score(test_y, result)\n",
    "print(acc_rate)"
   ]
  },
  {
   "cell_type": "markdown",
   "metadata": {
    "colab_type": "text",
    "id": "F6PcwRYUGVWw"
   },
   "source": [
    "試著只用 open price 跟 close price 預測，竟然完全一樣\n"
   ]
  },
  {
   "cell_type": "code",
   "execution_count": 20,
   "metadata": {
    "colab": {},
    "colab_type": "code",
    "id": "b6EZVbogEWBN"
   },
   "outputs": [
    {
     "name": "stdout",
     "output_type": "stream",
     "text": [
      "0.5198412698412699\n"
     ]
    }
   ],
   "source": [
    "\n",
    "train_xs = train_x_std[:, 0:2]\n",
    "test_xs = test_x_std[:, 0:2]\n",
    "\n",
    "\n",
    "svm = SVC()\n",
    "svm.fit(train_xs, train_y)\n",
    "\n",
    "result = svm.predict(test_xs)\n",
    "acc_rate = accuracy_score(test_y, result)\n",
    "print(acc_rate)\n"
   ]
  },
  {
   "cell_type": "markdown",
   "metadata": {
    "colab_type": "text",
    "id": "X07zgu5nGsAI"
   },
   "source": [
    "換個 kernel 還是一樣"
   ]
  },
  {
   "cell_type": "code",
   "execution_count": 21,
   "metadata": {
    "colab": {},
    "colab_type": "code",
    "id": "p2N5elmiE8pS"
   },
   "outputs": [
    {
     "name": "stdout",
     "output_type": "stream",
     "text": [
      "0.5198412698412699\n"
     ]
    }
   ],
   "source": [
    "svm = SVC(kernel = 'linear')\n",
    "svm.fit(train_x_std, train_y)\n",
    "\n",
    "result = svm.predict(test_x_std)\n",
    "acc_rate = accuracy_score(test_y, result)\n",
    "print(acc_rate)\n"
   ]
  },
  {
   "cell_type": "markdown",
   "metadata": {
    "colab_type": "text",
    "id": "wBLoNzKAGtYu"
   },
   "source": [
    "調整 penalty 結果準確率來到了 60 %"
   ]
  },
  {
   "cell_type": "code",
   "execution_count": 22,
   "metadata": {
    "colab": {},
    "colab_type": "code",
    "id": "Cnmobw56FPCx"
   },
   "outputs": [
    {
     "name": "stdout",
     "output_type": "stream",
     "text": [
      "0.6031746031746031\n"
     ]
    }
   ],
   "source": [
    "svm = SVC(C = 6)\n",
    "svm.fit(train_x_std, train_y)\n",
    "\n",
    "result = svm.predict(test_x_std)\n",
    "acc_rate = accuracy_score(test_y, result)\n",
    "print(acc_rate)"
   ]
  },
  {
   "cell_type": "markdown",
   "metadata": {
    "colab_type": "text",
    "id": "XR04O76iHGk0"
   },
   "source": [
    "## 討論\n",
    "\n",
    "三個模型不管怎麼調，最佳的準確率三個都沒太高可能以上的參數不足以預估股票的帳跌，可能需要更多的 background knowledge 支撐，而且隨機性太大誰知道哪天出現個地名肺炎(已經出現)讓股市大跌。而且股票是連續時序性的變化，可能要多考慮幾天。"
   ]
  },
  {
   "cell_type": "markdown",
   "metadata": {
    "colab_type": "text",
    "id": "QGW8R0N0Izni"
   },
   "source": [
    "## 套用至不同 dataset\n",
    "依照剛剛的討論，不如為每天加入前幾天的資料作依據做為新的 data set 試試看呀!"
   ]
  },
  {
   "cell_type": "code",
   "execution_count": 23,
   "metadata": {
    "colab": {},
    "colab_type": "code",
    "id": "yIHcpozLJ5IT"
   },
   "outputs": [
    {
     "data": {
      "text/html": [
       "<div>\n",
       "<style scoped>\n",
       "    .dataframe tbody tr th:only-of-type {\n",
       "        vertical-align: middle;\n",
       "    }\n",
       "\n",
       "    .dataframe tbody tr th {\n",
       "        vertical-align: top;\n",
       "    }\n",
       "\n",
       "    .dataframe thead th {\n",
       "        text-align: right;\n",
       "    }\n",
       "</style>\n",
       "<table border=\"1\" class=\"dataframe\">\n",
       "  <thead>\n",
       "    <tr style=\"text-align: right;\">\n",
       "      <th></th>\n",
       "      <th>Date</th>\n",
       "      <th>Open Price</th>\n",
       "      <th>Close Price</th>\n",
       "      <th>High Price</th>\n",
       "      <th>Low Price</th>\n",
       "      <th>Volume</th>\n",
       "      <th>movement</th>\n",
       "      <th>open1</th>\n",
       "      <th>close1</th>\n",
       "      <th>volume1</th>\n",
       "      <th>open2</th>\n",
       "      <th>close2</th>\n",
       "      <th>volume2</th>\n",
       "      <th>open3</th>\n",
       "      <th>close3</th>\n",
       "      <th>volume3</th>\n",
       "      <th>open4</th>\n",
       "      <th>close4</th>\n",
       "      <th>volume4</th>\n",
       "    </tr>\n",
       "  </thead>\n",
       "  <tbody>\n",
       "    <tr>\n",
       "      <th>0</th>\n",
       "      <td>02-Jan-2009</td>\n",
       "      <td>902.99</td>\n",
       "      <td>931.80</td>\n",
       "      <td>934.73</td>\n",
       "      <td>899.35</td>\n",
       "      <td>4048270080</td>\n",
       "      <td>0</td>\n",
       "      <td>0</td>\n",
       "      <td>0</td>\n",
       "      <td>0</td>\n",
       "      <td>0</td>\n",
       "      <td>0</td>\n",
       "      <td>0</td>\n",
       "      <td>0</td>\n",
       "      <td>0</td>\n",
       "      <td>0</td>\n",
       "      <td>0</td>\n",
       "      <td>0</td>\n",
       "      <td>0</td>\n",
       "    </tr>\n",
       "    <tr>\n",
       "      <th>1</th>\n",
       "      <td>05-Jan-2009</td>\n",
       "      <td>929.17</td>\n",
       "      <td>927.45</td>\n",
       "      <td>936.63</td>\n",
       "      <td>919.53</td>\n",
       "      <td>5413910016</td>\n",
       "      <td>1</td>\n",
       "      <td>0</td>\n",
       "      <td>0</td>\n",
       "      <td>0</td>\n",
       "      <td>0</td>\n",
       "      <td>0</td>\n",
       "      <td>0</td>\n",
       "      <td>0</td>\n",
       "      <td>0</td>\n",
       "      <td>0</td>\n",
       "      <td>0</td>\n",
       "      <td>0</td>\n",
       "      <td>0</td>\n",
       "    </tr>\n",
       "    <tr>\n",
       "      <th>2</th>\n",
       "      <td>06-Jan-2009</td>\n",
       "      <td>931.17</td>\n",
       "      <td>934.70</td>\n",
       "      <td>943.85</td>\n",
       "      <td>927.28</td>\n",
       "      <td>5392620032</td>\n",
       "      <td>0</td>\n",
       "      <td>0</td>\n",
       "      <td>0</td>\n",
       "      <td>0</td>\n",
       "      <td>0</td>\n",
       "      <td>0</td>\n",
       "      <td>0</td>\n",
       "      <td>0</td>\n",
       "      <td>0</td>\n",
       "      <td>0</td>\n",
       "      <td>0</td>\n",
       "      <td>0</td>\n",
       "      <td>0</td>\n",
       "    </tr>\n",
       "    <tr>\n",
       "      <th>3</th>\n",
       "      <td>07-Jan-2009</td>\n",
       "      <td>927.45</td>\n",
       "      <td>906.65</td>\n",
       "      <td>927.45</td>\n",
       "      <td>902.37</td>\n",
       "      <td>4704940032</td>\n",
       "      <td>1</td>\n",
       "      <td>0</td>\n",
       "      <td>0</td>\n",
       "      <td>0</td>\n",
       "      <td>0</td>\n",
       "      <td>0</td>\n",
       "      <td>0</td>\n",
       "      <td>0</td>\n",
       "      <td>0</td>\n",
       "      <td>0</td>\n",
       "      <td>0</td>\n",
       "      <td>0</td>\n",
       "      <td>0</td>\n",
       "    </tr>\n",
       "    <tr>\n",
       "      <th>4</th>\n",
       "      <td>08-Jan-2009</td>\n",
       "      <td>905.73</td>\n",
       "      <td>909.73</td>\n",
       "      <td>910.00</td>\n",
       "      <td>896.81</td>\n",
       "      <td>4991549952</td>\n",
       "      <td>0</td>\n",
       "      <td>902</td>\n",
       "      <td>931</td>\n",
       "      <td>4048270080</td>\n",
       "      <td>929</td>\n",
       "      <td>927</td>\n",
       "      <td>5413910016</td>\n",
       "      <td>931</td>\n",
       "      <td>934</td>\n",
       "      <td>5392620032</td>\n",
       "      <td>927</td>\n",
       "      <td>906</td>\n",
       "      <td>4704940032</td>\n",
       "    </tr>\n",
       "  </tbody>\n",
       "</table>\n",
       "</div>"
      ],
      "text/plain": [
       "          Date  Open Price  Close Price  High Price  Low Price      Volume  \\\n",
       "0  02-Jan-2009      902.99       931.80      934.73     899.35  4048270080   \n",
       "1  05-Jan-2009      929.17       927.45      936.63     919.53  5413910016   \n",
       "2  06-Jan-2009      931.17       934.70      943.85     927.28  5392620032   \n",
       "3  07-Jan-2009      927.45       906.65      927.45     902.37  4704940032   \n",
       "4  08-Jan-2009      905.73       909.73      910.00     896.81  4991549952   \n",
       "\n",
       "   movement  open1  close1     volume1  open2  close2     volume2  open3  \\\n",
       "0         0      0       0           0      0       0           0      0   \n",
       "1         1      0       0           0      0       0           0      0   \n",
       "2         0      0       0           0      0       0           0      0   \n",
       "3         1      0       0           0      0       0           0      0   \n",
       "4         0    902     931  4048270080    929     927  5413910016    931   \n",
       "\n",
       "   close3     volume3  open4  close4     volume4  \n",
       "0       0           0      0       0           0  \n",
       "1       0           0      0       0           0  \n",
       "2       0           0      0       0           0  \n",
       "3       0           0      0       0           0  \n",
       "4     934  5392620032    927     906  4704940032  "
      ]
     },
     "execution_count": 23,
     "metadata": {},
     "output_type": "execute_result"
    }
   ],
   "source": [
    "train_data['open1'] = 0\n",
    "train_data['close1'] = 0\n",
    "train_data['volume1'] = 0\n",
    "\n",
    "train_data['open2'] = 0\n",
    "train_data['close2'] = 0\n",
    "train_data['volume2'] = 0\n",
    "\n",
    "train_data['open3'] = 0\n",
    "train_data['close3'] = 0\n",
    "train_data['volume3'] = 0\n",
    "\n",
    "train_data['open4'] = 0\n",
    "train_data['close4'] = 0\n",
    "train_data['volume4'] = 0\n",
    "\n",
    "\n",
    "for i in range(4, train_data.shape[0]):\n",
    "  train_data['open1'][i] = train_data['Open Price'][i-4]\n",
    "  train_data['close1'][i] = train_data['Close Price'][i-4]\n",
    "  train_data['volume1'][i] = train_data['Volume'][i-4]\n",
    "  \n",
    "\n",
    "  train_data['open2'][i] = train_data['Open Price'][i-3]\n",
    "  train_data['close2'][i] = train_data['Close Price'][i-3]\n",
    "  train_data['volume2'][i] = train_data['Volume'][i-3]\n",
    "  \n",
    "  train_data['open3'][i] = train_data['Open Price'][i-2]\n",
    "  train_data['close3'][i] = train_data['Close Price'][i-2]\n",
    "  train_data['volume3'][i] = train_data['Volume'][i-2]\n",
    "  \n",
    "  train_data['open4'][i] = train_data['Open Price'][i-1]\n",
    "  train_data['close4'][i] = train_data['Close Price'][i-1]\n",
    "  train_data['volume4'][i] = train_data['Volume'][i-1]\n",
    "  \n",
    "\n",
    "train_data.head()"
   ]
  },
  {
   "cell_type": "code",
   "execution_count": 24,
   "metadata": {
    "colab": {},
    "colab_type": "code",
    "id": "2q2TjrCcNrO-"
   },
   "outputs": [],
   "source": [
    "test_data['open1'] = 0\n",
    "test_data['close1'] = 0\n",
    "test_data['volume1'] = 0\n",
    "\n",
    "test_data['open2'] = 0\n",
    "test_data['close2'] = 0\n",
    "test_data['volume2'] = 0\n",
    "\n",
    "test_data['open3'] = 0\n",
    "test_data['close3'] = 0\n",
    "test_data['volume3'] = 0\n",
    "\n",
    "test_data['open4'] = 0\n",
    "test_data['close4'] = 0\n",
    "test_data['volume4'] = 0\n",
    "\n",
    "\n",
    "for i in range(4, test_data.shape[0]):\n",
    "  test_data['open1'][i] = test_data['Open Price'][i-4]\n",
    "  test_data['close1'][i] = test_data['Close Price'][i-4]\n",
    "  test_data['volume1'][i] = test_data['Volume'][i-4]\n",
    "  \n",
    "  test_data['open2'][i] = test_data['Open Price'][i-3]\n",
    "  test_data['close2'][i] = test_data['Close Price'][i-3]\n",
    "  test_data['volume2'][i] = test_data['Volume'][i-3]\n",
    "  \n",
    "  test_data['open3'][i] = test_data['Open Price'][i-2]\n",
    "  test_data['close3'][i] = test_data['Close Price'][i-2]\n",
    "  test_data['volume3'][i] = test_data['Volume'][i-2]\n",
    "  \n",
    "  test_data['open4'][i] = test_data['Open Price'][i-1]\n",
    "  test_data['close4'][i] = test_data['Close Price'][i-1]\n",
    "  test_data['volume4'][i] = test_data['Volume'][i-1]\n",
    "  "
   ]
  },
  {
   "cell_type": "code",
   "execution_count": 25,
   "metadata": {
    "colab": {},
    "colab_type": "code",
    "id": "i4eDgXLxNebU"
   },
   "outputs": [],
   "source": [
    "#train set x\n",
    "train_x = train_data[['Open Price', 'Close Price', 'High Price', 'Low Price', 'Volume','open1','close1','volume1','open2','close2','volume2','open3','close3','volume3','open4','close4','volume4']]\n",
    "#train set y\n",
    "train_y = train_data[['movement']]\n",
    "\n",
    "#test set x\n",
    "test_x = test_data[['Open Price', 'Close Price', 'High Price', 'Low Price', 'Volume','open1','close1','volume1','open2','close2','volume2','open3','close3','volume3','open4','close4','volume4']]\n",
    "test_y = test_data[['movement']]"
   ]
  },
  {
   "cell_type": "markdown",
   "metadata": {
    "colab_type": "text",
    "id": "KdlkNmIdPfrb"
   },
   "source": [
    "### Preprocessing\n",
    "standardization"
   ]
  },
  {
   "cell_type": "code",
   "execution_count": 26,
   "metadata": {
    "colab": {},
    "colab_type": "code",
    "id": "u4CilZ-8Oc83"
   },
   "outputs": [],
   "source": [
    "\n",
    "scaler = StandardScaler().fit(train_x)\n",
    "\n",
    "train_x = scaler.transform(train_x)\n",
    "\n",
    "scaler = StandardScaler().fit(test_x)\n",
    "test_x = scaler.transform(test_x)"
   ]
  },
  {
   "cell_type": "markdown",
   "metadata": {
    "colab_type": "text",
    "id": "oyZcWBfaPlzK"
   },
   "source": [
    "### Logistic Regression"
   ]
  },
  {
   "cell_type": "code",
   "execution_count": 27,
   "metadata": {
    "colab": {},
    "colab_type": "code",
    "id": "AG2QlQ0jOjJ9"
   },
   "outputs": [
    {
     "name": "stdout",
     "output_type": "stream",
     "text": [
      "0.5485865724381626\n"
     ]
    }
   ],
   "source": [
    "from sklearn.linear_model import LogisticRegression\n",
    "from sklearn.metrics import accuracy_score\n",
    "\n",
    "LR = LogisticRegression()\n",
    "LR.fit(train_x, train_y)\n",
    "\n",
    "result = LR.predict(train_x)\n",
    "acc_rate = accuracy_score(train_y, result)\n",
    "print(acc_rate)"
   ]
  },
  {
   "cell_type": "markdown",
   "metadata": {
    "colab_type": "text",
    "id": "zPHeVWR8Pqqh"
   },
   "source": [
    "### NN"
   ]
  },
  {
   "cell_type": "code",
   "execution_count": 28,
   "metadata": {
    "colab": {},
    "colab_type": "code",
    "id": "fCyfq4BuPJ6N"
   },
   "outputs": [],
   "source": [
    "\n",
    "hidden_units = 10\n",
    "activation = 'relu'\n",
    "l2 = 0.001\n",
    "learning_rate = 0.1\n",
    "epochs = 20\n",
    "batch_size = 100"
   ]
  },
  {
   "cell_type": "code",
   "execution_count": 29,
   "metadata": {
    "colab": {},
    "colab_type": "code",
    "id": "UxC1k-UTO1sZ"
   },
   "outputs": [],
   "source": [
    "model = models.Sequential()\n",
    "\n",
    "#hidden layer\n",
    "model.add(layers.Dense(input_dim = 17, units = hidden_units, activation=activation))\n",
    "\n",
    "#hidden layer2\n",
    "model.add(layers.Dense(input_dim = hidden_units, units = hidden_units*2, activation=activation))\n",
    "\n",
    "#output layer\n",
    "model.add(layers.Dense(input_dim = hidden_units*2, units = 1, activation='sigmoid'))\n",
    "\n",
    "#loss function and optimizer\n",
    "model.compile(loss='binary_crossentropy',\n",
    "              optimizer=optimizers.Adam(lr=learning_rate),\n",
    "              metrics=['accuracy'])"
   ]
  },
  {
   "cell_type": "code",
   "execution_count": 30,
   "metadata": {
    "colab": {},
    "colab_type": "code",
    "id": "xlvOCRfuO2uW"
   },
   "outputs": [
    {
     "name": "stdout",
     "output_type": "stream",
     "text": [
      "Epoch 1/20\n",
      "2264/2264 [==============================] - 0s 44us/step - loss: 0.7977 - accuracy: 0.5225\n",
      "Epoch 2/20\n",
      "2264/2264 [==============================] - 0s 9us/step - loss: 0.7532 - accuracy: 0.5455\n",
      "Epoch 3/20\n",
      "2264/2264 [==============================] - 0s 12us/step - loss: 0.7516 - accuracy: 0.5459\n",
      "Epoch 4/20\n",
      "2264/2264 [==============================] - 0s 11us/step - loss: 0.7519 - accuracy: 0.5459\n",
      "Epoch 5/20\n",
      "2264/2264 [==============================] - 0s 11us/step - loss: 0.7529 - accuracy: 0.5459\n",
      "Epoch 6/20\n",
      "2264/2264 [==============================] - 0s 9us/step - loss: 0.7527 - accuracy: 0.5459\n",
      "Epoch 7/20\n",
      "2264/2264 [==============================] - 0s 9us/step - loss: 0.7528 - accuracy: 0.5459\n",
      "Epoch 8/20\n",
      "2264/2264 [==============================] - 0s 9us/step - loss: 0.7530 - accuracy: 0.5459\n",
      "Epoch 9/20\n",
      "2264/2264 [==============================] - 0s 8us/step - loss: 0.7514 - accuracy: 0.5459\n",
      "Epoch 10/20\n",
      "2264/2264 [==============================] - 0s 10us/step - loss: 0.7511 - accuracy: 0.5459\n",
      "Epoch 11/20\n",
      "2264/2264 [==============================] - 0s 8us/step - loss: 0.7550 - accuracy: 0.5459\n",
      "Epoch 12/20\n",
      "2264/2264 [==============================] - 0s 10us/step - loss: 0.7541 - accuracy: 0.5459\n",
      "Epoch 13/20\n",
      "2264/2264 [==============================] - 0s 11us/step - loss: 0.7524 - accuracy: 0.5459\n",
      "Epoch 14/20\n",
      "2264/2264 [==============================] - 0s 12us/step - loss: 0.7538 - accuracy: 0.5459\n",
      "Epoch 15/20\n",
      "2264/2264 [==============================] - 0s 11us/step - loss: 0.7527 - accuracy: 0.5459\n",
      "Epoch 16/20\n",
      "2264/2264 [==============================] - 0s 10us/step - loss: 0.7534 - accuracy: 0.5459\n",
      "Epoch 17/20\n",
      "2264/2264 [==============================] - 0s 10us/step - loss: 0.7538 - accuracy: 0.5459\n",
      "Epoch 18/20\n",
      "2264/2264 [==============================] - 0s 11us/step - loss: 0.7501 - accuracy: 0.5459\n",
      "Epoch 19/20\n",
      "2264/2264 [==============================] - 0s 9us/step - loss: 0.7550 - accuracy: 0.5459\n",
      "Epoch 20/20\n",
      "2264/2264 [==============================] - 0s 9us/step - loss: 0.7525 - accuracy: 0.5459\n",
      "2264/2264 [==============================] - 0s 17us/step\n",
      "252/252 [==============================] - 0s 17us/step\n",
      "Training accuracy: 0.5459364056587219\n",
      "Testing accuracy: 0.5198412537574768\n"
     ]
    },
    {
     "data": {
      "image/png": "[encoded data removed]",
      "text/plain": [
       "<Figure size 432x288 with 1 Axes>"
      ]
     },
     "metadata": {
      "needs_background": "light"
     },
     "output_type": "display_data"
    }
   ],
   "source": [
    "history = model.fit(train_x, train_y, epochs=epochs, batch_size=batch_size, class_weight=class_weight)\n",
    "\n",
    "# evaluate accuracy\n",
    "train_acc = model.evaluate(train_x, train_y, batch_size=32)[1]\n",
    "test_acc = model.evaluate(test_x, test_y, batch_size=32)[1]\n",
    "print('Training accuracy: %s' % train_acc)\n",
    "print('Testing accuracy: %s' % test_acc)\n",
    "\n",
    "losses = history.history['loss']\n",
    "plt.plot(range(len(losses)), losses, 'r')\n",
    "plt.show()"
   ]
  },
  {
   "cell_type": "markdown",
   "metadata": {
    "colab_type": "text",
    "id": "un7s1YZ8Puw7"
   },
   "source": [
    "### SVM"
   ]
  },
  {
   "cell_type": "code",
   "execution_count": 31,
   "metadata": {
    "colab": {},
    "colab_type": "code",
    "id": "XTeWh23ZPw08"
   },
   "outputs": [
    {
     "name": "stdout",
     "output_type": "stream",
     "text": [
      "0.5158730158730159\n"
     ]
    }
   ],
   "source": [
    "svm = SVC(C = 12)\n",
    "svm.fit(train_x, train_y)\n",
    "\n",
    "result = svm.predict(test_x)\n",
    "acc_rate = accuracy_score(test_y, result)\n",
    "print(acc_rate)"
   ]
  },
  {
   "cell_type": "markdown",
   "metadata": {},
   "source": [
    "## 討論\n",
    "結果加入更多天對 LR 跟 NN 都沒有太大的差別本來怕會 overfitting 但好像也還好反而 SVM 變得怎樣調準確率都不高了QQ"
   ]
  }
 ],
 "metadata": {
  "accelerator": "GPU",
  "colab": {
   "collapsed_sections": [],
   "name": "hw3.ipynb",
   "private_outputs": true,
   "provenance": [],
   "toc_visible": true
  },
  "kernelspec": {
   "display_name": "Python 3",
   "language": "python",
   "name": "python3"
  },
  "language_info": {
   "codemirror_mode": {
    "name": "ipython",
    "version": 3
   },
   "file_extension": ".py",
   "mimetype": "text/x-python",
   "name": "python",
   "nbconvert_exporter": "python",
   "pygments_lexer": "ipython3",
   "version": "3.6.8"
  }
 },
 "nbformat": 4,
 "nbformat_minor": 1
}
