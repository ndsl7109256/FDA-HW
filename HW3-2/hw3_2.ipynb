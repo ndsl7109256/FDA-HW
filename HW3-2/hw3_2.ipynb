{
  "nbformat": 4,
  "nbformat_minor": 0,
  "metadata": {
    "colab": {
      "name": "hw3-2.ipynb",
      "provenance": [],
      "collapsed_sections": []
    },
    "kernelspec": {
      "name": "python3",
      "display_name": "Python 3"
    }
  },
  "cells": [
    {
      "cell_type": "code",
      "metadata": {
        "id": "qM-L94eAv_at",
        "colab_type": "code",
        "outputId": "577620bb-f329-4712-dea9-9d63fa3abc2d",
        "colab": {
          "base_uri": "https://localhost:8080/",
          "height": 34
        }
      },
      "source": [
        "from google.colab import drive\n",
        "import os\n",
        "drive.mount('/content/gdrive')"
      ],
      "execution_count": 1,
      "outputs": [
        {
          "output_type": "stream",
          "text": [
            "Drive already mounted at /content/gdrive; to attempt to forcibly remount, call drive.mount(\"/content/gdrive\", force_remount=True).\n"
          ],
          "name": "stdout"
        }
      ]
    },
    {
      "cell_type": "code",
      "metadata": {
        "id": "i_2sLYHJwMhD",
        "colab_type": "code",
        "outputId": "5c354c47-28b5-419e-f9e3-f4b007dd40a5",
        "colab": {
          "base_uri": "https://localhost:8080/",
          "height": 34
        }
      },
      "source": [
        "os.chdir(\"/content/gdrive/My Drive/Colab Notebooks\") #更改路徑\n",
        "os.getcwd() #查看當前路徑\n"
      ],
      "execution_count": 2,
      "outputs": [
        {
          "output_type": "execute_result",
          "data": {
            "text/plain": [
              "'/content/gdrive/My Drive/Colab Notebooks'"
            ]
          },
          "metadata": {
            "tags": []
          },
          "execution_count": 2
        }
      ]
    },
    {
      "cell_type": "code",
      "metadata": {
        "id": "4oj9FDB6xouB",
        "colab_type": "code",
        "colab": {}
      },
      "source": [
        "import warnings\n",
        "warnings.filterwarnings(\"ignore\")"
      ],
      "execution_count": 0,
      "outputs": []
    },
    {
      "cell_type": "markdown",
      "metadata": {
        "id": "tvqCVN9IL6eT",
        "colab_type": "text"
      },
      "source": [
        "## Attribute Information\n",
        "- Team won the game (1 or -1)\n",
        " -![](https://i.imgur.com/YjrlB1j.jpg=10x10)\n",
        " - 1 代表左下 -1 代表右上\n",
        "- Cluster ID (related to location)\n",
        " - 代表遊戲比賽所在伺服器區域\n",
        " - [regions](https://github.com/kronusme/dota2-api/blob/master/data/regions.json)\n",
        "- Game mode (eg All Pick)\n",
        " - 哪種遊戲模式\n",
        " - [mods](https://github.com/kronusme/dota2-api/blob/master/data/mods.json)\n",
        "- Game type (eg. Ranked)\n",
        " - 看這是積分還是NG之類ㄉ\n",
        " - [lobbies](https://github.com/kronusme/dota2-api/blob/master/data/lobbies.json)\n",
        "- Each element is an indicator for a hero. Value of 1 indicates that a player from team '1' played as that hero and '-1' for the other team. Hero can be selected by only one player each game. This means that each row has five '1' and five '-1' values\n",
        "\n",
        " - [heroes](https://github.com/kronusme/dota2-api/blob/master/data/heroes.json)"
      ]
    },
    {
      "cell_type": "code",
      "metadata": {
        "id": "dbGR3tZDzEqV",
        "colab_type": "code",
        "outputId": "6f07e7fb-95d6-4263-d2fd-0e9241323e7f",
        "colab": {
          "base_uri": "https://localhost:8080/",
          "height": 244
        }
      },
      "source": [
        "import pandas as pd\n",
        "import matplotlib.pyplot as plt\n",
        "import numpy as np\n",
        "\n",
        "train_data = pd.read_csv('data/dota2Train.csv',header=None)\n",
        "test_data = pd.read_csv('data/dota2Test.csv',header=None)\n",
        "\n",
        "cols = ['win_team','region','mod','type']\n",
        "\n",
        "for i in range(1,114):\n",
        "  cols.append(i)# hero 1~113\n",
        "\n",
        "train_data.columns = cols;\n",
        "test_data.columns = cols;\n",
        "\n",
        "\n",
        "train_data.head()\n",
        "test_data.head()"
      ],
      "execution_count": 5,
      "outputs": [
        {
          "output_type": "execute_result",
          "data": {
            "text/html": [
              "<div>\n",
              "<style scoped>\n",
              "    .dataframe tbody tr th:only-of-type {\n",
              "        vertical-align: middle;\n",
              "    }\n",
              "\n",
              "    .dataframe tbody tr th {\n",
              "        vertical-align: top;\n",
              "    }\n",
              "\n",
              "    .dataframe thead th {\n",
              "        text-align: right;\n",
              "    }\n",
              "</style>\n",
              "<table border=\"1\" class=\"dataframe\">\n",
              "  <thead>\n",
              "    <tr style=\"text-align: right;\">\n",
              "      <th></th>\n",
              "      <th>win_team</th>\n",
              "      <th>region</th>\n",
              "      <th>mod</th>\n",
              "      <th>type</th>\n",
              "      <th>1</th>\n",
              "      <th>2</th>\n",
              "      <th>3</th>\n",
              "      <th>4</th>\n",
              "      <th>5</th>\n",
              "      <th>6</th>\n",
              "      <th>7</th>\n",
              "      <th>8</th>\n",
              "      <th>9</th>\n",
              "      <th>10</th>\n",
              "      <th>11</th>\n",
              "      <th>12</th>\n",
              "      <th>13</th>\n",
              "      <th>14</th>\n",
              "      <th>15</th>\n",
              "      <th>16</th>\n",
              "      <th>17</th>\n",
              "      <th>18</th>\n",
              "      <th>19</th>\n",
              "      <th>20</th>\n",
              "      <th>21</th>\n",
              "      <th>22</th>\n",
              "      <th>23</th>\n",
              "      <th>24</th>\n",
              "      <th>25</th>\n",
              "      <th>26</th>\n",
              "      <th>27</th>\n",
              "      <th>28</th>\n",
              "      <th>29</th>\n",
              "      <th>30</th>\n",
              "      <th>31</th>\n",
              "      <th>32</th>\n",
              "      <th>33</th>\n",
              "      <th>34</th>\n",
              "      <th>35</th>\n",
              "      <th>36</th>\n",
              "      <th>...</th>\n",
              "      <th>74</th>\n",
              "      <th>75</th>\n",
              "      <th>76</th>\n",
              "      <th>77</th>\n",
              "      <th>78</th>\n",
              "      <th>79</th>\n",
              "      <th>80</th>\n",
              "      <th>81</th>\n",
              "      <th>82</th>\n",
              "      <th>83</th>\n",
              "      <th>84</th>\n",
              "      <th>85</th>\n",
              "      <th>86</th>\n",
              "      <th>87</th>\n",
              "      <th>88</th>\n",
              "      <th>89</th>\n",
              "      <th>90</th>\n",
              "      <th>91</th>\n",
              "      <th>92</th>\n",
              "      <th>93</th>\n",
              "      <th>94</th>\n",
              "      <th>95</th>\n",
              "      <th>96</th>\n",
              "      <th>97</th>\n",
              "      <th>98</th>\n",
              "      <th>99</th>\n",
              "      <th>100</th>\n",
              "      <th>101</th>\n",
              "      <th>102</th>\n",
              "      <th>103</th>\n",
              "      <th>104</th>\n",
              "      <th>105</th>\n",
              "      <th>106</th>\n",
              "      <th>107</th>\n",
              "      <th>108</th>\n",
              "      <th>109</th>\n",
              "      <th>110</th>\n",
              "      <th>111</th>\n",
              "      <th>112</th>\n",
              "      <th>113</th>\n",
              "    </tr>\n",
              "  </thead>\n",
              "  <tbody>\n",
              "    <tr>\n",
              "      <th>0</th>\n",
              "      <td>-1</td>\n",
              "      <td>223</td>\n",
              "      <td>8</td>\n",
              "      <td>2</td>\n",
              "      <td>0</td>\n",
              "      <td>-1</td>\n",
              "      <td>0</td>\n",
              "      <td>0</td>\n",
              "      <td>0</td>\n",
              "      <td>0</td>\n",
              "      <td>0</td>\n",
              "      <td>0</td>\n",
              "      <td>1</td>\n",
              "      <td>0</td>\n",
              "      <td>0</td>\n",
              "      <td>0</td>\n",
              "      <td>0</td>\n",
              "      <td>0</td>\n",
              "      <td>0</td>\n",
              "      <td>0</td>\n",
              "      <td>0</td>\n",
              "      <td>0</td>\n",
              "      <td>0</td>\n",
              "      <td>0</td>\n",
              "      <td>0</td>\n",
              "      <td>0</td>\n",
              "      <td>0</td>\n",
              "      <td>0</td>\n",
              "      <td>0</td>\n",
              "      <td>1</td>\n",
              "      <td>0</td>\n",
              "      <td>0</td>\n",
              "      <td>0</td>\n",
              "      <td>0</td>\n",
              "      <td>0</td>\n",
              "      <td>0</td>\n",
              "      <td>0</td>\n",
              "      <td>0</td>\n",
              "      <td>0</td>\n",
              "      <td>0</td>\n",
              "      <td>...</td>\n",
              "      <td>0</td>\n",
              "      <td>0</td>\n",
              "      <td>0</td>\n",
              "      <td>0</td>\n",
              "      <td>0</td>\n",
              "      <td>0</td>\n",
              "      <td>0</td>\n",
              "      <td>0</td>\n",
              "      <td>0</td>\n",
              "      <td>0</td>\n",
              "      <td>0</td>\n",
              "      <td>0</td>\n",
              "      <td>0</td>\n",
              "      <td>0</td>\n",
              "      <td>0</td>\n",
              "      <td>0</td>\n",
              "      <td>0</td>\n",
              "      <td>0</td>\n",
              "      <td>0</td>\n",
              "      <td>0</td>\n",
              "      <td>0</td>\n",
              "      <td>0</td>\n",
              "      <td>0</td>\n",
              "      <td>0</td>\n",
              "      <td>0</td>\n",
              "      <td>0</td>\n",
              "      <td>0</td>\n",
              "      <td>0</td>\n",
              "      <td>0</td>\n",
              "      <td>0</td>\n",
              "      <td>-1</td>\n",
              "      <td>0</td>\n",
              "      <td>0</td>\n",
              "      <td>0</td>\n",
              "      <td>0</td>\n",
              "      <td>0</td>\n",
              "      <td>0</td>\n",
              "      <td>0</td>\n",
              "      <td>0</td>\n",
              "      <td>0</td>\n",
              "    </tr>\n",
              "    <tr>\n",
              "      <th>1</th>\n",
              "      <td>1</td>\n",
              "      <td>227</td>\n",
              "      <td>8</td>\n",
              "      <td>2</td>\n",
              "      <td>0</td>\n",
              "      <td>0</td>\n",
              "      <td>0</td>\n",
              "      <td>0</td>\n",
              "      <td>0</td>\n",
              "      <td>0</td>\n",
              "      <td>0</td>\n",
              "      <td>0</td>\n",
              "      <td>1</td>\n",
              "      <td>0</td>\n",
              "      <td>0</td>\n",
              "      <td>0</td>\n",
              "      <td>0</td>\n",
              "      <td>1</td>\n",
              "      <td>0</td>\n",
              "      <td>0</td>\n",
              "      <td>0</td>\n",
              "      <td>1</td>\n",
              "      <td>0</td>\n",
              "      <td>0</td>\n",
              "      <td>-1</td>\n",
              "      <td>0</td>\n",
              "      <td>0</td>\n",
              "      <td>0</td>\n",
              "      <td>0</td>\n",
              "      <td>0</td>\n",
              "      <td>-1</td>\n",
              "      <td>0</td>\n",
              "      <td>0</td>\n",
              "      <td>0</td>\n",
              "      <td>0</td>\n",
              "      <td>0</td>\n",
              "      <td>0</td>\n",
              "      <td>0</td>\n",
              "      <td>0</td>\n",
              "      <td>0</td>\n",
              "      <td>...</td>\n",
              "      <td>0</td>\n",
              "      <td>0</td>\n",
              "      <td>0</td>\n",
              "      <td>0</td>\n",
              "      <td>0</td>\n",
              "      <td>0</td>\n",
              "      <td>0</td>\n",
              "      <td>0</td>\n",
              "      <td>0</td>\n",
              "      <td>0</td>\n",
              "      <td>1</td>\n",
              "      <td>0</td>\n",
              "      <td>0</td>\n",
              "      <td>0</td>\n",
              "      <td>0</td>\n",
              "      <td>0</td>\n",
              "      <td>0</td>\n",
              "      <td>1</td>\n",
              "      <td>0</td>\n",
              "      <td>0</td>\n",
              "      <td>0</td>\n",
              "      <td>0</td>\n",
              "      <td>0</td>\n",
              "      <td>0</td>\n",
              "      <td>0</td>\n",
              "      <td>0</td>\n",
              "      <td>0</td>\n",
              "      <td>0</td>\n",
              "      <td>0</td>\n",
              "      <td>0</td>\n",
              "      <td>-1</td>\n",
              "      <td>0</td>\n",
              "      <td>0</td>\n",
              "      <td>0</td>\n",
              "      <td>0</td>\n",
              "      <td>0</td>\n",
              "      <td>0</td>\n",
              "      <td>0</td>\n",
              "      <td>0</td>\n",
              "      <td>0</td>\n",
              "    </tr>\n",
              "    <tr>\n",
              "      <th>2</th>\n",
              "      <td>-1</td>\n",
              "      <td>136</td>\n",
              "      <td>2</td>\n",
              "      <td>2</td>\n",
              "      <td>1</td>\n",
              "      <td>0</td>\n",
              "      <td>0</td>\n",
              "      <td>0</td>\n",
              "      <td>-1</td>\n",
              "      <td>0</td>\n",
              "      <td>0</td>\n",
              "      <td>0</td>\n",
              "      <td>1</td>\n",
              "      <td>1</td>\n",
              "      <td>0</td>\n",
              "      <td>0</td>\n",
              "      <td>0</td>\n",
              "      <td>0</td>\n",
              "      <td>0</td>\n",
              "      <td>0</td>\n",
              "      <td>0</td>\n",
              "      <td>0</td>\n",
              "      <td>0</td>\n",
              "      <td>0</td>\n",
              "      <td>-1</td>\n",
              "      <td>0</td>\n",
              "      <td>0</td>\n",
              "      <td>0</td>\n",
              "      <td>-1</td>\n",
              "      <td>0</td>\n",
              "      <td>1</td>\n",
              "      <td>0</td>\n",
              "      <td>0</td>\n",
              "      <td>0</td>\n",
              "      <td>0</td>\n",
              "      <td>0</td>\n",
              "      <td>0</td>\n",
              "      <td>0</td>\n",
              "      <td>0</td>\n",
              "      <td>0</td>\n",
              "      <td>...</td>\n",
              "      <td>0</td>\n",
              "      <td>0</td>\n",
              "      <td>0</td>\n",
              "      <td>0</td>\n",
              "      <td>0</td>\n",
              "      <td>0</td>\n",
              "      <td>0</td>\n",
              "      <td>0</td>\n",
              "      <td>0</td>\n",
              "      <td>0</td>\n",
              "      <td>0</td>\n",
              "      <td>0</td>\n",
              "      <td>0</td>\n",
              "      <td>0</td>\n",
              "      <td>0</td>\n",
              "      <td>0</td>\n",
              "      <td>0</td>\n",
              "      <td>0</td>\n",
              "      <td>0</td>\n",
              "      <td>-1</td>\n",
              "      <td>0</td>\n",
              "      <td>0</td>\n",
              "      <td>0</td>\n",
              "      <td>0</td>\n",
              "      <td>0</td>\n",
              "      <td>0</td>\n",
              "      <td>0</td>\n",
              "      <td>0</td>\n",
              "      <td>0</td>\n",
              "      <td>0</td>\n",
              "      <td>0</td>\n",
              "      <td>0</td>\n",
              "      <td>0</td>\n",
              "      <td>0</td>\n",
              "      <td>0</td>\n",
              "      <td>0</td>\n",
              "      <td>0</td>\n",
              "      <td>0</td>\n",
              "      <td>0</td>\n",
              "      <td>0</td>\n",
              "    </tr>\n",
              "    <tr>\n",
              "      <th>3</th>\n",
              "      <td>1</td>\n",
              "      <td>227</td>\n",
              "      <td>2</td>\n",
              "      <td>2</td>\n",
              "      <td>-1</td>\n",
              "      <td>0</td>\n",
              "      <td>0</td>\n",
              "      <td>0</td>\n",
              "      <td>0</td>\n",
              "      <td>0</td>\n",
              "      <td>0</td>\n",
              "      <td>0</td>\n",
              "      <td>1</td>\n",
              "      <td>0</td>\n",
              "      <td>0</td>\n",
              "      <td>0</td>\n",
              "      <td>0</td>\n",
              "      <td>0</td>\n",
              "      <td>0</td>\n",
              "      <td>0</td>\n",
              "      <td>0</td>\n",
              "      <td>0</td>\n",
              "      <td>0</td>\n",
              "      <td>0</td>\n",
              "      <td>0</td>\n",
              "      <td>0</td>\n",
              "      <td>-1</td>\n",
              "      <td>0</td>\n",
              "      <td>0</td>\n",
              "      <td>0</td>\n",
              "      <td>0</td>\n",
              "      <td>0</td>\n",
              "      <td>0</td>\n",
              "      <td>0</td>\n",
              "      <td>0</td>\n",
              "      <td>0</td>\n",
              "      <td>0</td>\n",
              "      <td>0</td>\n",
              "      <td>0</td>\n",
              "      <td>0</td>\n",
              "      <td>...</td>\n",
              "      <td>0</td>\n",
              "      <td>0</td>\n",
              "      <td>0</td>\n",
              "      <td>0</td>\n",
              "      <td>0</td>\n",
              "      <td>0</td>\n",
              "      <td>0</td>\n",
              "      <td>0</td>\n",
              "      <td>0</td>\n",
              "      <td>0</td>\n",
              "      <td>1</td>\n",
              "      <td>0</td>\n",
              "      <td>-1</td>\n",
              "      <td>0</td>\n",
              "      <td>0</td>\n",
              "      <td>0</td>\n",
              "      <td>0</td>\n",
              "      <td>0</td>\n",
              "      <td>0</td>\n",
              "      <td>0</td>\n",
              "      <td>0</td>\n",
              "      <td>0</td>\n",
              "      <td>0</td>\n",
              "      <td>0</td>\n",
              "      <td>1</td>\n",
              "      <td>0</td>\n",
              "      <td>0</td>\n",
              "      <td>0</td>\n",
              "      <td>0</td>\n",
              "      <td>0</td>\n",
              "      <td>0</td>\n",
              "      <td>0</td>\n",
              "      <td>0</td>\n",
              "      <td>0</td>\n",
              "      <td>0</td>\n",
              "      <td>0</td>\n",
              "      <td>0</td>\n",
              "      <td>0</td>\n",
              "      <td>0</td>\n",
              "      <td>0</td>\n",
              "    </tr>\n",
              "    <tr>\n",
              "      <th>4</th>\n",
              "      <td>1</td>\n",
              "      <td>184</td>\n",
              "      <td>2</td>\n",
              "      <td>3</td>\n",
              "      <td>0</td>\n",
              "      <td>0</td>\n",
              "      <td>0</td>\n",
              "      <td>-1</td>\n",
              "      <td>0</td>\n",
              "      <td>0</td>\n",
              "      <td>0</td>\n",
              "      <td>-1</td>\n",
              "      <td>0</td>\n",
              "      <td>0</td>\n",
              "      <td>0</td>\n",
              "      <td>0</td>\n",
              "      <td>0</td>\n",
              "      <td>0</td>\n",
              "      <td>0</td>\n",
              "      <td>0</td>\n",
              "      <td>0</td>\n",
              "      <td>0</td>\n",
              "      <td>0</td>\n",
              "      <td>0</td>\n",
              "      <td>1</td>\n",
              "      <td>0</td>\n",
              "      <td>0</td>\n",
              "      <td>0</td>\n",
              "      <td>0</td>\n",
              "      <td>-1</td>\n",
              "      <td>0</td>\n",
              "      <td>0</td>\n",
              "      <td>0</td>\n",
              "      <td>0</td>\n",
              "      <td>0</td>\n",
              "      <td>0</td>\n",
              "      <td>0</td>\n",
              "      <td>0</td>\n",
              "      <td>0</td>\n",
              "      <td>0</td>\n",
              "      <td>...</td>\n",
              "      <td>0</td>\n",
              "      <td>0</td>\n",
              "      <td>0</td>\n",
              "      <td>0</td>\n",
              "      <td>0</td>\n",
              "      <td>0</td>\n",
              "      <td>0</td>\n",
              "      <td>0</td>\n",
              "      <td>0</td>\n",
              "      <td>0</td>\n",
              "      <td>0</td>\n",
              "      <td>0</td>\n",
              "      <td>0</td>\n",
              "      <td>0</td>\n",
              "      <td>0</td>\n",
              "      <td>0</td>\n",
              "      <td>0</td>\n",
              "      <td>0</td>\n",
              "      <td>0</td>\n",
              "      <td>1</td>\n",
              "      <td>0</td>\n",
              "      <td>0</td>\n",
              "      <td>0</td>\n",
              "      <td>0</td>\n",
              "      <td>0</td>\n",
              "      <td>0</td>\n",
              "      <td>0</td>\n",
              "      <td>0</td>\n",
              "      <td>0</td>\n",
              "      <td>0</td>\n",
              "      <td>0</td>\n",
              "      <td>0</td>\n",
              "      <td>0</td>\n",
              "      <td>0</td>\n",
              "      <td>0</td>\n",
              "      <td>0</td>\n",
              "      <td>0</td>\n",
              "      <td>0</td>\n",
              "      <td>0</td>\n",
              "      <td>0</td>\n",
              "    </tr>\n",
              "  </tbody>\n",
              "</table>\n",
              "<p>5 rows × 117 columns</p>\n",
              "</div>"
            ],
            "text/plain": [
              "   win_team  region  mod  type  1  2  3  ...  107  108  109  110  111  112  113\n",
              "0        -1     223    8     2  0 -1  0  ...    0    0    0    0    0    0    0\n",
              "1         1     227    8     2  0  0  0  ...    0    0    0    0    0    0    0\n",
              "2        -1     136    2     2  1  0  0  ...    0    0    0    0    0    0    0\n",
              "3         1     227    2     2 -1  0  0  ...    0    0    0    0    0    0    0\n",
              "4         1     184    2     3  0  0  0  ...    0    0    0    0    0    0    0\n",
              "\n",
              "[5 rows x 117 columns]"
            ]
          },
          "metadata": {
            "tags": []
          },
          "execution_count": 5
        }
      ]
    },
    {
      "cell_type": "code",
      "metadata": {
        "id": "4qVLksG8LyAB",
        "colab_type": "code",
        "colab": {
          "base_uri": "https://localhost:8080/",
          "height": 521
        },
        "outputId": "aac6b943-c3b2-4e61-bf67-7a03e9d8c133"
      },
      "source": [
        "for i in range(0, train_data.shape[0]):\n",
        "    t = train_data['region'][i]\n",
        "    if t == 111 or t == 112 or t == 113 or t == 114:\n",
        "        # US west\n",
        "        train_data['region'][i] = 0\n",
        "    elif t == 121 or t == 122 or t == 123 or t == 124:\n",
        "        # US east\n",
        "        train_data['region'][i] = 1\n",
        "    elif t == 131 or t == 132 or t == 133 or t == 134 or t == 135 or t == 136 or t == 137 or t == 138:\n",
        "        # Europe West\n",
        "        train_data['region'][i] = 2\n",
        "    elif t == 142 or t == 143 or t == 144 or t == 145:\n",
        "        # South Korea\n",
        "        train_data['region'][i] = 3\n",
        "    elif t == 151 or t == 152 or t == 153 or t == 154 or t == 155 or t == 156:\n",
        "        # Southest Asia\n",
        "        train_data['region'][i] = 4\n",
        "    elif t == 161 or t == 163 or t == 221 or t == 222 or t == 223 or t == 224 or t == 225 or t == 227 or t == 231 or t == 232:\n",
        "        # China\n",
        "        train_data['region'][i] = 5\n",
        "    elif t == 171:\n",
        "        # Australia\n",
        "        train_data['region'][i] = 6\n",
        "    elif t == 181 or t == 182 or t == 183 or t == 184 or t == 185 or t == 186 or t == 187 or t == 188:\n",
        "        # Russia\n",
        "        train_data['region'][i] = 7\n",
        "    elif t == 191 or t == 192:\n",
        "        # Europe East\n",
        "        train_data['region'][i] = 8\n",
        "    elif t == 200 or t == 202 or t == 203 or t == 204:\n",
        "        # South America\n",
        "        train_data['region'][i] = 9\n",
        "    elif t == 211 or t == 212 or t == 213:\n",
        "        # South Africa\n",
        "        train_data['region'][i] = 10\n",
        "    elif t == 241 or t == 242:\n",
        "        # Chile\n",
        "        train_data['region'][i] = 11\n",
        "    elif t == 251:\n",
        "        # Peru\n",
        "        train_data['region'][i] = 12\n",
        "    elif t == 261:\n",
        "        # India\n",
        "        train_data['region'][i] = 13\n",
        "        \n",
        "print(train_data['region'].value_counts())\n",
        "\n",
        "for i in range(0, test_data.shape[0]):\n",
        "    t = test_data['region'][i]\n",
        "    if t == 111 or t == 112 or t == 113 or t == 114:\n",
        "        # US west\n",
        "        test_data['region'][i] = 0\n",
        "    elif t == 121 or t == 122 or t == 123 or t == 124:\n",
        "        # US east\n",
        "        test_data['region'][i] = 1\n",
        "    elif t == 131 or t == 132 or t == 133 or t == 134 or t == 135 or t == 136 or t == 137 or t == 138:\n",
        "        # Europe West\n",
        "        test_data['region'][i] = 2\n",
        "    elif t == 142 or t == 143 or t == 144 or t == 145:\n",
        "        # South Korea\n",
        "        test_data['region'][i] = 3\n",
        "    elif t == 151 or t == 152 or t == 153 or t == 154 or t == 155 or t == 156:\n",
        "        # Southest Asia\n",
        "        test_data['region'][i] = 4\n",
        "    elif t == 161 or t == 163 or t == 221 or t == 222 or t == 223 or t == 224 or t == 225 or t == 227 or t == 231 or t == 232:\n",
        "        # China\n",
        "        test_data['region'][i] = 5\n",
        "    elif t == 171:\n",
        "        # Australia\n",
        "        test_data['region'][i] = 6\n",
        "    elif t == 181 or t == 182 or t == 183 or t == 184 or t == 185 or t == 186 or t == 187 or t == 188:\n",
        "        # Russia\n",
        "        test_data['region'][i] = 7\n",
        "    elif t == 191 or t == 192:\n",
        "        # Europe East\n",
        "        test_data['region'][i] = 8\n",
        "    elif t == 200 or t == 202 or t == 203 or t == 204:\n",
        "        # South America\n",
        "        test_data['region'][i] = 9\n",
        "    elif t == 211 or t == 212 or t == 213:\n",
        "        # South Africa\n",
        "        test_data['region'][i] = 10\n",
        "    elif t == 241 or t == 242:\n",
        "        # Chile\n",
        "        test_data['region'][i] = 11\n",
        "    elif t == 251:\n",
        "        # Peru\n",
        "        test_data['region'][i] = 12\n",
        "    elif t == 261:\n",
        "        # India\n",
        "        test_data['region'][i] = 13\n",
        "        \n",
        "print(test_data['region'].value_counts())\n"
      ],
      "execution_count": 6,
      "outputs": [
        {
          "output_type": "stream",
          "text": [
            "4     40843\n",
            "5     25597\n",
            "7      8982\n",
            "2      5442\n",
            "1      2703\n",
            "3      2444\n",
            "8      1751\n",
            "0      1642\n",
            "9      1463\n",
            "6      1122\n",
            "13      262\n",
            "12      154\n",
            "11      127\n",
            "10      118\n",
            "Name: region, dtype: int64\n",
            "4     4486\n",
            "5     2839\n",
            "7     1020\n",
            "2      641\n",
            "1      292\n",
            "3      278\n",
            "8      200\n",
            "9      183\n",
            "0      177\n",
            "6      102\n",
            "13      38\n",
            "11      15\n",
            "12      14\n",
            "10       9\n",
            "Name: region, dtype: int64\n"
          ],
          "name": "stdout"
        }
      ]
    },
    {
      "cell_type": "markdown",
      "metadata": {
        "id": "f_uUO5KNa0zq",
        "colab_type": "text"
      },
      "source": [
        "## Data Analysis\n",
        "### Win rate\n",
        "結果在兩方的勝率並沒有完全平衡，在有九萬多筆資料的情況依舊有 2% 的誤差。可能地圖或一些使用者設計沒有到完全平衡?\n"
      ]
    },
    {
      "cell_type": "code",
      "metadata": {
        "id": "h9xkfKabZKqf",
        "colab_type": "code",
        "colab": {
          "base_uri": "https://localhost:8080/",
          "height": 273
        },
        "outputId": "80392906-da53-4fa9-fd71-172b93eccd28"
      },
      "source": [
        "import matplotlib.pyplot as plt\n",
        "\n",
        "x = train_data['win_team'].value_counts()[1]\n",
        "y = train_data['win_team'].value_counts()[-1]\n",
        "\n",
        "label = ['left buttom', 'right top']\n",
        "plt.pie([x, y], autopct='%1.3f%%', textprops = {'fontsize':15})\n",
        "plt.axis('equal')\n",
        "plt.legend(label, fontsize = '12')\n",
        "plt.title(\" win rate\", fontsize = '25')\n",
        "plt.show()"
      ],
      "execution_count": 7,
      "outputs": [
        {
          "output_type": "display_data",
          "data": {
            "image/png": "[encoded data removed]",
            "text/plain": [
              "<Figure size 432x288 with 1 Axes>"
            ]
          },
          "metadata": {
            "tags": []
          }
        }
      ]
    },
    {
      "cell_type": "markdown",
      "metadata": {
        "id": "wmtc3wiB6lc6",
        "colab_type": "text"
      },
      "source": [
        "### 全球玩家分布"
      ]
    },
    {
      "cell_type": "code",
      "metadata": {
        "id": "tA5PaGMlkbb5",
        "colab_type": "code",
        "colab": {
          "base_uri": "https://localhost:8080/",
          "height": 561
        },
        "outputId": "0e9dd680-44cf-484d-b048-c76a1a9ec0c6"
      },
      "source": [
        "plt.pie(train_data['region'].value_counts(), autopct='%1.2f%%', radius = 3)\n",
        "label = ['Southest Asia', 'china', 'Russia', 'Europe West', 'US east', 'South Korea', 'Europe East', 'US west', 'South America', 'Australia', 'India', 'Peru', 'Chile', 'South Africa']\n",
        "plt.legend(label, fontsize = 10, bbox_to_anchor = (1, 0.5))\n",
        "plt.show()"
      ],
      "execution_count": 8,
      "outputs": [
        {
          "output_type": "display_data",
          "data": {
            "image/png": "[encoded data removed]",
            "text/plain": [
              "<Figure size 432x288 with 1 Axes>"
            ]
          },
          "metadata": {
            "tags": []
          }
        }
      ]
    },
    {
      "cell_type": "markdown",
      "metadata": {
        "id": "HO2Pu3JU63On",
        "colab_type": "text"
      },
      "source": [
        "### Game mode\n",
        "大家幾乎只玩 mode 2 (Captains Mode) "
      ]
    },
    {
      "cell_type": "code",
      "metadata": {
        "id": "3EpWJPl3lkVq",
        "colab_type": "code",
        "colab": {
          "base_uri": "https://localhost:8080/",
          "height": 481
        },
        "outputId": "5ce54964-a62f-4593-d8ef-60d46d0dfc85"
      },
      "source": [
        "print(train_data['mod'].value_counts())\n",
        "x = train_data['mod'].value_counts().index\n",
        "print(train_data['mod'].value_counts().index)\n",
        "y = train_data['mod'].value_counts().values\n",
        "print(train_data['mod'].value_counts().values)\n",
        "\n",
        "plt.bar(x, y)\n",
        "plt.xticks(x)\n",
        "plt.xlabel('Game mode')\n",
        "plt.ylabel('times')\n",
        "plt.show()"
      ],
      "execution_count": 9,
      "outputs": [
        {
          "output_type": "stream",
          "text": [
            "2    71897\n",
            "9    10033\n",
            "8     8306\n",
            "1     1229\n",
            "6      498\n",
            "3      386\n",
            "4      208\n",
            "7       81\n",
            "5       12\n",
            "Name: mod, dtype: int64\n",
            "Int64Index([2, 9, 8, 1, 6, 3, 4, 7, 5], dtype='int64')\n",
            "[71897 10033  8306  1229   498   386   208    81    12]\n"
          ],
          "name": "stdout"
        },
        {
          "output_type": "display_data",
          "data": {
            "image/png": "[encoded data removed]",
            "text/plain": [
              "<Figure size 432x288 with 1 Axes>"
            ]
          },
          "metadata": {
            "tags": [],
            "needs_background": "light"
          }
        }
      ]
    },
    {
      "cell_type": "markdown",
      "metadata": {
        "id": "Mi76-E9CbPQR",
        "colab_type": "text"
      },
      "source": [
        "### 看哪個英雄是 meta 角\n"
      ]
    },
    {
      "cell_type": "code",
      "metadata": {
        "id": "v5pyNP5ibj0b",
        "colab_type": "code",
        "colab": {
          "base_uri": "https://localhost:8080/",
          "height": 269
        },
        "outputId": "55e8f2d5-339d-4164-ce58-1f6a64957433"
      },
      "source": [
        "import collections\n",
        "l1 = [i for i in range(1, 114)]\n",
        "l2 = [0 for i in range(1, 114)]\n",
        "win_rate = dict(zip(l1, l2))\n",
        "for i in train_data.columns[4:117]:\n",
        "    if train_data[i].value_counts().size != 1:\n",
        "        r = train_data[i].value_counts()[1] / (train_data[i].value_counts()[1] + train_data[i].value_counts()[-1])\n",
        "        win_rate[int(i)] = r\n",
        "\n",
        "srt_win_rate = sorted(win_rate.items(), key=lambda s: s[1], reverse = True)\n",
        "\n",
        "print(\"你是鬼吧\")\n",
        "for i in range(0, 5):\n",
        "    print(\"number: %d    win rate: %.2f %%\" % (srt_win_rate[i][0], srt_win_rate[i][1]*100))\n",
        "\n",
        "print('\\n')    \n",
        "srt_win_rate = sorted(win_rate.items(), key=lambda s: s[1])\n",
        "\n",
        "print(srt_win_rate[0:5])\n",
        "\n",
        "print(\"怎麼這麼爛\")\n",
        "\n",
        "srt_win_rate = [(x[0],x[1]) for x in srt_win_rate if x[1] != 0];\n",
        "\n",
        "\n",
        "for i in range(0, 5):\n",
        "    print(\"number: %d    win rate: %.2f %%\" % (srt_win_rate[i][0], srt_win_rate[i][1]*100))"
      ],
      "execution_count": 10,
      "outputs": [
        {
          "output_type": "stream",
          "text": [
            "你是鬼吧\n",
            "number: 53    win rate: 55.67 %\n",
            "number: 91    win rate: 52.76 %\n",
            "number: 113    win rate: 52.32 %\n",
            "number: 66    win rate: 51.90 %\n",
            "number: 89    win rate: 51.40 %\n",
            "\n",
            "\n",
            "[(24, 0), (108, 0), (92, 0.481981981981982), (43, 0.485978968452679), (51, 0.48813472824700177)]\n",
            "怎麼這麼爛\n",
            "number: 92    win rate: 48.20 %\n",
            "number: 43    win rate: 48.60 %\n",
            "number: 51    win rate: 48.81 %\n",
            "number: 99    win rate: 48.85 %\n",
            "number: 105    win rate: 48.88 %\n"
          ],
          "name": "stdout"
        }
      ]
    },
    {
      "cell_type": "markdown",
      "metadata": {
        "id": "Xz1zMNJR7TNy",
        "colab_type": "text"
      },
      "source": [
        "## 預估每場比賽的結果\n",
        "### 把沒人用的英雄拿掉"
      ]
    },
    {
      "cell_type": "code",
      "metadata": {
        "id": "LXbv6i4XpFQx",
        "colab_type": "code",
        "colab": {}
      },
      "source": [
        "train_data = train_data.drop([24, 108], axis = 1)\n",
        "test_data = test_data.drop([24, 108], axis = 1)"
      ],
      "execution_count": 0,
      "outputs": []
    },
    {
      "cell_type": "code",
      "metadata": {
        "id": "YhqxPL7lmm3k",
        "colab_type": "code",
        "colab": {}
      },
      "source": [
        "train = train_data;\n",
        "test = test_data;"
      ],
      "execution_count": 0,
      "outputs": []
    },
    {
      "cell_type": "code",
      "metadata": {
        "id": "LMh5AONWpMqv",
        "colab_type": "code",
        "colab": {
          "base_uri": "https://localhost:8080/",
          "height": 252
        },
        "outputId": "b33f7db4-4cf2-42e1-8570-fe01d99215f2"
      },
      "source": [
        "y_train = train['win_team']\n",
        "x_train = train.drop(['win_team','region','mod','type'], axis = 1)\n",
        "y_test = test['win_team']\n",
        "x_test = test.drop(['win_team','region','mod','type'], axis = 1)\n",
        "print(x_train.head())\n",
        "print(y_train.head())"
      ],
      "execution_count": 13,
      "outputs": [
        {
          "output_type": "stream",
          "text": [
            "   1    2    3    4    5    6    7    ...  106  107  109  110  111  112  113\n",
            "0    0    0    0    0    0    0    0  ...    0    0    0    0    0    0    0\n",
            "1    0    0    0    1    0   -1    0  ...    0    0    0    0    0    0    0\n",
            "2    0    0    0    1    0   -1    0  ...    0    0    0    0    0    0    0\n",
            "3    0    0    0    0    0    0   -1  ...    0    0    0    0    0    0    0\n",
            "4    0    0    0    0    0   -1    0  ...    0    0    0    0    0    0    0\n",
            "\n",
            "[5 rows x 111 columns]\n",
            "0   -1\n",
            "1    1\n",
            "2    1\n",
            "3    1\n",
            "4   -1\n",
            "Name: win_team, dtype: int64\n"
          ],
          "name": "stdout"
        }
      ]
    },
    {
      "cell_type": "markdown",
      "metadata": {
        "id": "OSFqC8d89Rc7",
        "colab_type": "text"
      },
      "source": [
        "### Class Weight\n",
        "因為結果的權重有偏差，很適合引進 class weight 來幫忙"
      ]
    },
    {
      "cell_type": "code",
      "metadata": {
        "id": "9J8SX8cev6Ud",
        "colab_type": "code",
        "colab": {
          "base_uri": "https://localhost:8080/",
          "height": 67
        },
        "outputId": "8bc4ff2b-4ea9-48a1-e5e2-8f8bf517e0ac"
      },
      "source": [
        "\n",
        "n = y_train.value_counts()\n",
        "print(\"-1 : %d\" % n[-1])\n",
        "print(\"1 : %d\" % n[1])\n",
        "class_weight = {\n",
        "    -1: n[-1],\n",
        "    1: n[1]\n",
        "}\n",
        "print(class_weight)"
      ],
      "execution_count": 14,
      "outputs": [
        {
          "output_type": "stream",
          "text": [
            "-1 : 43868\n",
            "1 : 48782\n",
            "{-1: 43868, 1: 48782}\n"
          ],
          "name": "stdout"
        }
      ]
    },
    {
      "cell_type": "markdown",
      "metadata": {
        "id": "idwYl48A9oP4",
        "colab_type": "text"
      },
      "source": [
        "### DecisionTreeClassifier\n",
        "#### Defalut depth"
      ]
    },
    {
      "cell_type": "code",
      "metadata": {
        "id": "Y85wAGSF9_8X",
        "colab_type": "code",
        "colab": {
          "base_uri": "https://localhost:8080/",
          "height": 151
        },
        "outputId": "5f798e34-7c4c-43da-fef1-9c3212a0939f"
      },
      "source": [
        "from sklearn.tree import DecisionTreeClassifier\n",
        "from sklearn.externals.six import StringIO   \n",
        "from sklearn.tree import export_graphviz\n",
        "from sklearn import tree\n",
        "from sklearn.metrics import accuracy_score\n",
        "import pydotplus\n",
        "dtree = DecisionTreeClassifier(class_weight=class_weight)\n",
        "dtree.fit(x_train, y_train)\n",
        "\n",
        "predict = dtree.predict(x_test)\n",
        "s = accuracy_score(y_test, predict)\n",
        "print(\"accuracy score: %.2f %%\" % (s*100))\n",
        "print(dtree)"
      ],
      "execution_count": 15,
      "outputs": [
        {
          "output_type": "stream",
          "text": [
            "accuracy score: 52.95 %\n",
            "DecisionTreeClassifier(ccp_alpha=0.0, class_weight={-1: 43868, 1: 48782},\n",
            "                       criterion='gini', max_depth=None, max_features=None,\n",
            "                       max_leaf_nodes=None, min_impurity_decrease=0.0,\n",
            "                       min_impurity_split=None, min_samples_leaf=1,\n",
            "                       min_samples_split=2, min_weight_fraction_leaf=0.0,\n",
            "                       presort='deprecated', random_state=None,\n",
            "                       splitter='best')\n"
          ],
          "name": "stdout"
        }
      ]
    },
    {
      "cell_type": "markdown",
      "metadata": {
        "id": "tE-Tzin6-VJr",
        "colab_type": "text"
      },
      "source": [
        "#### max_depth = 4\n",
        "準確率反而變高"
      ]
    },
    {
      "cell_type": "code",
      "metadata": {
        "id": "zS45eZCIqI99",
        "colab_type": "code",
        "colab": {
          "base_uri": "https://localhost:8080/",
          "height": 911
        },
        "outputId": "2f7dd1f4-b2bd-4391-c853-15b983259f12"
      },
      "source": [
        "\n",
        "\n",
        "dtree = DecisionTreeClassifier(max_depth=4,class_weight=class_weight)\n",
        "dtree.fit(x_train, y_train)\n",
        "\n",
        "predict = dtree.predict(x_test)\n",
        "s = accuracy_score(y_test, predict)\n",
        "print(\"accuracy score: %.2f %%\" % (s*100))\n",
        "print(dtree)\n",
        "\n",
        "import graphviz\n",
        "from IPython.display import display\n",
        "columns=list(x_train.columns)\n",
        "dot_data = tree.export_graphviz(dtree,out_file=None,feature_names=columns,class_names=True)\n",
        "graph = graphviz.Source(dot_data)\n",
        "graph.render(\"image\",view=True)\n",
        "graph"
      ],
      "execution_count": 16,
      "outputs": [
        {
          "output_type": "stream",
          "text": [
            "accuracy score: 54.18 %\n",
            "DecisionTreeClassifier(ccp_alpha=0.0, class_weight={-1: 43868, 1: 48782},\n",
            "                       criterion='gini', max_depth=4, max_features=None,\n",
            "                       max_leaf_nodes=None, min_impurity_decrease=0.0,\n",
            "                       min_impurity_split=None, min_samples_leaf=1,\n",
            "                       min_samples_split=2, min_weight_fraction_leaf=0.0,\n",
            "                       presort='deprecated', random_state=None,\n",
            "                       splitter='best')\n"
          ],
          "name": "stdout"
        },
        {
          "output_type": "execute_result",
          "data": {
            "text/plain": [
              "<graphviz.files.Source at 0x7f3ac51adfd0>"
            ],
            "image/svg+xml": "<?xml version=\"1.0\" encoding=\"UTF-8\" standalone=\"no\"?>\n<!DOCTYPE svg PUBLIC \"-//W3C//DTD SVG 1.1//EN\"\n \"http://www.w3.org/Graphics/SVG/1.1/DTD/svg11.dtd\">\n<!-- Generated by graphviz version 2.40.1 (20161225.0304)\n -->\n<!-- Title: Tree Pages: 1 -->\n<svg width=\"3266pt\" height=\"552pt\"\n viewBox=\"0.00 0.00 3266.00 552.00\" xmlns=\"http://www.w3.org/2000/svg\" xmlns:xlink=\"http://www.w3.org/1999/xlink\">\n<g id=\"graph0\" class=\"graph\" transform=\"scale(1 1) rotate(0) translate(4 548)\">\n<title>Tree</title>\n<polygon fill=\"#ffffff\" stroke=\"transparent\" points=\"-4,4 -4,-548 3262,-548 3262,4 -4,4\"/>\n<!-- 0 -->\n<g id=\"node1\" class=\"node\">\n<title>0</title>\n<polygon fill=\"none\" stroke=\"#000000\" points=\"1718.5,-544 1488.5,-544 1488.5,-461 1718.5,-461 1718.5,-544\"/>\n<text text-anchor=\"middle\" x=\"1603.5\" y=\"-528.8\" font-family=\"Times,serif\" font-size=\"14.00\" fill=\"#000000\">9 &lt;= 0.5</text>\n<text text-anchor=\"middle\" x=\"1603.5\" y=\"-513.8\" font-family=\"Times,serif\" font-size=\"14.00\" fill=\"#000000\">gini = 0.494</text>\n<text text-anchor=\"middle\" x=\"1603.5\" y=\"-498.8\" font-family=\"Times,serif\" font-size=\"14.00\" fill=\"#000000\">samples = 92650</text>\n<text text-anchor=\"middle\" x=\"1603.5\" y=\"-483.8\" font-family=\"Times,serif\" font-size=\"14.00\" fill=\"#000000\">value = [1924401424, 2379683524]</text>\n<text text-anchor=\"middle\" x=\"1603.5\" y=\"-468.8\" font-family=\"Times,serif\" font-size=\"14.00\" fill=\"#000000\">class = y[1]</text>\n</g>\n<!-- 1 -->\n<g id=\"node2\" class=\"node\">\n<title>1</title>\n<polygon fill=\"none\" stroke=\"#000000\" points=\"1344.5,-425 1114.5,-425 1114.5,-342 1344.5,-342 1344.5,-425\"/>\n<text text-anchor=\"middle\" x=\"1229.5\" y=\"-409.8\" font-family=\"Times,serif\" font-size=\"14.00\" fill=\"#000000\">57 &lt;= 0.5</text>\n<text text-anchor=\"middle\" x=\"1229.5\" y=\"-394.8\" font-family=\"Times,serif\" font-size=\"14.00\" fill=\"#000000\">gini = 0.497</text>\n<text text-anchor=\"middle\" x=\"1229.5\" y=\"-379.8\" font-family=\"Times,serif\" font-size=\"14.00\" fill=\"#000000\">samples = 76349</text>\n<text text-anchor=\"middle\" x=\"1229.5\" y=\"-364.8\" font-family=\"Times,serif\" font-size=\"14.00\" fill=\"#000000\">value = [1627327328, 1914839846]</text>\n<text text-anchor=\"middle\" x=\"1229.5\" y=\"-349.8\" font-family=\"Times,serif\" font-size=\"14.00\" fill=\"#000000\">class = y[1]</text>\n</g>\n<!-- 0&#45;&gt;1 -->\n<g id=\"edge1\" class=\"edge\">\n<title>0&#45;&gt;1</title>\n<path fill=\"none\" stroke=\"#000000\" d=\"M1488.491,-465.9062C1445.9799,-452.38 1397.6108,-436.9898 1354.274,-423.2008\"/>\n<polygon fill=\"#000000\" stroke=\"#000000\" points=\"1355.1229,-419.7981 1344.5324,-420.1012 1353.0004,-426.4686 1355.1229,-419.7981\"/>\n<text text-anchor=\"middle\" x=\"1356.0179\" y=\"-438.6067\" font-family=\"Times,serif\" font-size=\"14.00\" fill=\"#000000\">True</text>\n</g>\n<!-- 16 -->\n<g id=\"node17\" class=\"node\">\n<title>16</title>\n<polygon fill=\"none\" stroke=\"#000000\" points=\"2088,-425 1873,-425 1873,-342 2088,-342 2088,-425\"/>\n<text text-anchor=\"middle\" x=\"1980.5\" y=\"-409.8\" font-family=\"Times,serif\" font-size=\"14.00\" fill=\"#000000\">36 &lt;= &#45;0.5</text>\n<text text-anchor=\"middle\" x=\"1980.5\" y=\"-394.8\" font-family=\"Times,serif\" font-size=\"14.00\" fill=\"#000000\">gini = 0.476</text>\n<text text-anchor=\"middle\" x=\"1980.5\" y=\"-379.8\" font-family=\"Times,serif\" font-size=\"14.00\" fill=\"#000000\">samples = 16301</text>\n<text text-anchor=\"middle\" x=\"1980.5\" y=\"-364.8\" font-family=\"Times,serif\" font-size=\"14.00\" fill=\"#000000\">value = [297074096, 464843678]</text>\n<text text-anchor=\"middle\" x=\"1980.5\" y=\"-349.8\" font-family=\"Times,serif\" font-size=\"14.00\" fill=\"#000000\">class = y[1]</text>\n</g>\n<!-- 0&#45;&gt;16 -->\n<g id=\"edge16\" class=\"edge\">\n<title>0&#45;&gt;16</title>\n<path fill=\"none\" stroke=\"#000000\" d=\"M1718.6609,-466.1495C1764.4504,-451.696 1817.0801,-435.0835 1863.0895,-420.5606\"/>\n<polygon fill=\"#000000\" stroke=\"#000000\" points=\"1864.3194,-423.8427 1872.802,-417.4948 1862.2123,-417.1673 1864.3194,-423.8427\"/>\n<text text-anchor=\"middle\" x=\"1861.2654\" y=\"-435.9738\" font-family=\"Times,serif\" font-size=\"14.00\" fill=\"#000000\">False</text>\n</g>\n<!-- 2 -->\n<g id=\"node3\" class=\"node\">\n<title>2</title>\n<polygon fill=\"none\" stroke=\"#000000\" points=\"760.5,-306 530.5,-306 530.5,-223 760.5,-223 760.5,-306\"/>\n<text text-anchor=\"middle\" x=\"645.5\" y=\"-290.8\" font-family=\"Times,serif\" font-size=\"14.00\" fill=\"#000000\">57 &lt;= &#45;0.5</text>\n<text text-anchor=\"middle\" x=\"645.5\" y=\"-275.8\" font-family=\"Times,serif\" font-size=\"14.00\" fill=\"#000000\">gini = 0.498</text>\n<text text-anchor=\"middle\" x=\"645.5\" y=\"-260.8\" font-family=\"Times,serif\" font-size=\"14.00\" fill=\"#000000\">samples = 72720</text>\n<text text-anchor=\"middle\" x=\"645.5\" y=\"-245.8\" font-family=\"Times,serif\" font-size=\"14.00\" fill=\"#000000\">value = [1568939020, 1802738810]</text>\n<text text-anchor=\"middle\" x=\"645.5\" y=\"-230.8\" font-family=\"Times,serif\" font-size=\"14.00\" fill=\"#000000\">class = y[1]</text>\n</g>\n<!-- 1&#45;&gt;2 -->\n<g id=\"edge2\" class=\"edge\">\n<title>1&#45;&gt;2</title>\n<path fill=\"none\" stroke=\"#000000\" d=\"M1114.469,-360.0605C1015.4197,-339.8775 872.7514,-310.8064 770.8228,-290.0367\"/>\n<polygon fill=\"#000000\" stroke=\"#000000\" points=\"771.2763,-286.5572 760.7788,-287.99 769.8786,-293.4163 771.2763,-286.5572\"/>\n</g>\n<!-- 9 -->\n<g id=\"node10\" class=\"node\">\n<title>9</title>\n<polygon fill=\"none\" stroke=\"#000000\" points=\"1332.5,-306 1126.5,-306 1126.5,-223 1332.5,-223 1332.5,-306\"/>\n<text text-anchor=\"middle\" x=\"1229.5\" y=\"-290.8\" font-family=\"Times,serif\" font-size=\"14.00\" fill=\"#000000\">19 &lt;= &#45;0.5</text>\n<text text-anchor=\"middle\" x=\"1229.5\" y=\"-275.8\" font-family=\"Times,serif\" font-size=\"14.00\" fill=\"#000000\">gini = 0.45</text>\n<text text-anchor=\"middle\" x=\"1229.5\" y=\"-260.8\" font-family=\"Times,serif\" font-size=\"14.00\" fill=\"#000000\">samples = 3629</text>\n<text text-anchor=\"middle\" x=\"1229.5\" y=\"-245.8\" font-family=\"Times,serif\" font-size=\"14.00\" fill=\"#000000\">value = [58388308, 112101036]</text>\n<text text-anchor=\"middle\" x=\"1229.5\" y=\"-230.8\" font-family=\"Times,serif\" font-size=\"14.00\" fill=\"#000000\">class = y[1]</text>\n</g>\n<!-- 1&#45;&gt;9 -->\n<g id=\"edge9\" class=\"edge\">\n<title>1&#45;&gt;9</title>\n<path fill=\"none\" stroke=\"#000000\" d=\"M1229.5,-341.8796C1229.5,-333.6838 1229.5,-324.9891 1229.5,-316.5013\"/>\n<polygon fill=\"#000000\" stroke=\"#000000\" points=\"1233.0001,-316.298 1229.5,-306.2981 1226.0001,-316.2981 1233.0001,-316.298\"/>\n</g>\n<!-- 3 -->\n<g id=\"node4\" class=\"node\">\n<title>3</title>\n<polygon fill=\"none\" stroke=\"#000000\" points=\"395.5,-187 195.5,-187 195.5,-104 395.5,-104 395.5,-187\"/>\n<text text-anchor=\"middle\" x=\"295.5\" y=\"-171.8\" font-family=\"Times,serif\" font-size=\"14.00\" fill=\"#000000\">61 &lt;= &#45;0.5</text>\n<text text-anchor=\"middle\" x=\"295.5\" y=\"-156.8\" font-family=\"Times,serif\" font-size=\"14.00\" fill=\"#000000\">gini = 0.492</text>\n<text text-anchor=\"middle\" x=\"295.5\" y=\"-141.8\" font-family=\"Times,serif\" font-size=\"14.00\" fill=\"#000000\">samples = 3397</text>\n<text text-anchor=\"middle\" x=\"295.5\" y=\"-126.8\" font-family=\"Times,serif\" font-size=\"14.00\" fill=\"#000000\">value = [87736000, 68148454]</text>\n<text text-anchor=\"middle\" x=\"295.5\" y=\"-111.8\" font-family=\"Times,serif\" font-size=\"14.00\" fill=\"#000000\">class = y[0]</text>\n</g>\n<!-- 2&#45;&gt;3 -->\n<g id=\"edge3\" class=\"edge\">\n<title>2&#45;&gt;3</title>\n<path fill=\"none\" stroke=\"#000000\" d=\"M530.4121,-225.3701C490.109,-211.667 444.9843,-196.3247 405.1389,-182.7772\"/>\n<polygon fill=\"#000000\" stroke=\"#000000\" points=\"406.2572,-179.4607 395.6628,-179.5553 404.0038,-186.0881 406.2572,-179.4607\"/>\n</g>\n<!-- 6 -->\n<g id=\"node7\" class=\"node\">\n<title>6</title>\n<polygon fill=\"none\" stroke=\"#000000\" points=\"760.5,-187 530.5,-187 530.5,-104 760.5,-104 760.5,-187\"/>\n<text text-anchor=\"middle\" x=\"645.5\" y=\"-171.8\" font-family=\"Times,serif\" font-size=\"14.00\" fill=\"#000000\">53 &lt;= 0.5</text>\n<text text-anchor=\"middle\" x=\"645.5\" y=\"-156.8\" font-family=\"Times,serif\" font-size=\"14.00\" fill=\"#000000\">gini = 0.497</text>\n<text text-anchor=\"middle\" x=\"645.5\" y=\"-141.8\" font-family=\"Times,serif\" font-size=\"14.00\" fill=\"#000000\">samples = 69323</text>\n<text text-anchor=\"middle\" x=\"645.5\" y=\"-126.8\" font-family=\"Times,serif\" font-size=\"14.00\" fill=\"#000000\">value = [1481203020, 1734590356]</text>\n<text text-anchor=\"middle\" x=\"645.5\" y=\"-111.8\" font-family=\"Times,serif\" font-size=\"14.00\" fill=\"#000000\">class = y[1]</text>\n</g>\n<!-- 2&#45;&gt;6 -->\n<g id=\"edge6\" class=\"edge\">\n<title>2&#45;&gt;6</title>\n<path fill=\"none\" stroke=\"#000000\" d=\"M645.5,-222.8796C645.5,-214.6838 645.5,-205.9891 645.5,-197.5013\"/>\n<polygon fill=\"#000000\" stroke=\"#000000\" points=\"649.0001,-197.298 645.5,-187.2981 642.0001,-197.2981 649.0001,-197.298\"/>\n</g>\n<!-- 4 -->\n<g id=\"node5\" class=\"node\">\n<title>4</title>\n<polygon fill=\"none\" stroke=\"#000000\" points=\"177,-68 0,-68 0,0 177,0 177,-68\"/>\n<text text-anchor=\"middle\" x=\"88.5\" y=\"-52.8\" font-family=\"Times,serif\" font-size=\"14.00\" fill=\"#000000\">gini = 0.371</text>\n<text text-anchor=\"middle\" x=\"88.5\" y=\"-37.8\" font-family=\"Times,serif\" font-size=\"14.00\" fill=\"#000000\">samples = 30</text>\n<text text-anchor=\"middle\" x=\"88.5\" y=\"-22.8\" font-family=\"Times,serif\" font-size=\"14.00\" fill=\"#000000\">value = [350944, 1073204]</text>\n<text text-anchor=\"middle\" x=\"88.5\" y=\"-7.8\" font-family=\"Times,serif\" font-size=\"14.00\" fill=\"#000000\">class = y[1]</text>\n</g>\n<!-- 3&#45;&gt;4 -->\n<g id=\"edge4\" class=\"edge\">\n<title>3&#45;&gt;4</title>\n<path fill=\"none\" stroke=\"#000000\" d=\"M218.4208,-103.9815C199.5533,-93.8186 179.4304,-82.9794 160.7962,-72.9421\"/>\n<polygon fill=\"#000000\" stroke=\"#000000\" points=\"162.2439,-69.7465 151.78,-68.0856 158.9243,-75.9094 162.2439,-69.7465\"/>\n</g>\n<!-- 5 -->\n<g id=\"node6\" class=\"node\">\n<title>5</title>\n<polygon fill=\"none\" stroke=\"#000000\" points=\"395.5,-68 195.5,-68 195.5,0 395.5,0 395.5,-68\"/>\n<text text-anchor=\"middle\" x=\"295.5\" y=\"-52.8\" font-family=\"Times,serif\" font-size=\"14.00\" fill=\"#000000\">gini = 0.491</text>\n<text text-anchor=\"middle\" x=\"295.5\" y=\"-37.8\" font-family=\"Times,serif\" font-size=\"14.00\" fill=\"#000000\">samples = 3367</text>\n<text text-anchor=\"middle\" x=\"295.5\" y=\"-22.8\" font-family=\"Times,serif\" font-size=\"14.00\" fill=\"#000000\">value = [87385056, 67075250]</text>\n<text text-anchor=\"middle\" x=\"295.5\" y=\"-7.8\" font-family=\"Times,serif\" font-size=\"14.00\" fill=\"#000000\">class = y[0]</text>\n</g>\n<!-- 3&#45;&gt;5 -->\n<g id=\"edge5\" class=\"edge\">\n<title>3&#45;&gt;5</title>\n<path fill=\"none\" stroke=\"#000000\" d=\"M295.5,-103.9815C295.5,-95.618 295.5,-86.7965 295.5,-78.3409\"/>\n<polygon fill=\"#000000\" stroke=\"#000000\" points=\"299.0001,-78.2636 295.5,-68.2637 292.0001,-78.2637 299.0001,-78.2636\"/>\n</g>\n<!-- 7 -->\n<g id=\"node8\" class=\"node\">\n<title>7</title>\n<polygon fill=\"none\" stroke=\"#000000\" points=\"643.5,-68 413.5,-68 413.5,0 643.5,0 643.5,-68\"/>\n<text text-anchor=\"middle\" x=\"528.5\" y=\"-52.8\" font-family=\"Times,serif\" font-size=\"14.00\" fill=\"#000000\">gini = 0.496</text>\n<text text-anchor=\"middle\" x=\"528.5\" y=\"-37.8\" font-family=\"Times,serif\" font-size=\"14.00\" fill=\"#000000\">samples = 66083</text>\n<text text-anchor=\"middle\" x=\"528.5\" y=\"-22.8\" font-family=\"Times,serif\" font-size=\"14.00\" fill=\"#000000\">value = [1399125992, 1667807798]</text>\n<text text-anchor=\"middle\" x=\"528.5\" y=\"-7.8\" font-family=\"Times,serif\" font-size=\"14.00\" fill=\"#000000\">class = y[1]</text>\n</g>\n<!-- 6&#45;&gt;7 -->\n<g id=\"edge7\" class=\"edge\">\n<title>6&#45;&gt;7</title>\n<path fill=\"none\" stroke=\"#000000\" d=\"M601.9335,-103.9815C592.0966,-94.607 581.656,-84.6572 571.8289,-75.2921\"/>\n<polygon fill=\"#000000\" stroke=\"#000000\" points=\"574.1076,-72.6289 564.4538,-68.2637 569.2784,-77.6963 574.1076,-72.6289\"/>\n</g>\n<!-- 8 -->\n<g id=\"node9\" class=\"node\">\n<title>8</title>\n<polygon fill=\"none\" stroke=\"#000000\" points=\"861.5,-68 661.5,-68 661.5,0 861.5,0 861.5,-68\"/>\n<text text-anchor=\"middle\" x=\"761.5\" y=\"-52.8\" font-family=\"Times,serif\" font-size=\"14.00\" fill=\"#000000\">gini = 0.495</text>\n<text text-anchor=\"middle\" x=\"761.5\" y=\"-37.8\" font-family=\"Times,serif\" font-size=\"14.00\" fill=\"#000000\">samples = 3240</text>\n<text text-anchor=\"middle\" x=\"761.5\" y=\"-22.8\" font-family=\"Times,serif\" font-size=\"14.00\" fill=\"#000000\">value = [82077028, 66782558]</text>\n<text text-anchor=\"middle\" x=\"761.5\" y=\"-7.8\" font-family=\"Times,serif\" font-size=\"14.00\" fill=\"#000000\">class = y[0]</text>\n</g>\n<!-- 6&#45;&gt;8 -->\n<g id=\"edge8\" class=\"edge\">\n<title>6&#45;&gt;8</title>\n<path fill=\"none\" stroke=\"#000000\" d=\"M688.6941,-103.9815C698.4469,-94.607 708.7983,-84.6572 718.5414,-75.2921\"/>\n<polygon fill=\"#000000\" stroke=\"#000000\" points=\"721.0694,-77.7169 725.8535,-68.2637 716.2185,-72.6702 721.0694,-77.7169\"/>\n</g>\n<!-- 10 -->\n<g id=\"node11\" class=\"node\">\n<title>10</title>\n<polygon fill=\"none\" stroke=\"#000000\" points=\"1215,-187 1030,-187 1030,-104 1215,-104 1215,-187\"/>\n<text text-anchor=\"middle\" x=\"1122.5\" y=\"-171.8\" font-family=\"Times,serif\" font-size=\"14.00\" fill=\"#000000\">109 &lt;= &#45;0.5</text>\n<text text-anchor=\"middle\" x=\"1122.5\" y=\"-156.8\" font-family=\"Times,serif\" font-size=\"14.00\" fill=\"#000000\">gini = 0.34</text>\n<text text-anchor=\"middle\" x=\"1122.5\" y=\"-141.8\" font-family=\"Times,serif\" font-size=\"14.00\" fill=\"#000000\">samples = 161</text>\n<text text-anchor=\"middle\" x=\"1122.5\" y=\"-126.8\" font-family=\"Times,serif\" font-size=\"14.00\" fill=\"#000000\">value = [1666984, 6000186]</text>\n<text text-anchor=\"middle\" x=\"1122.5\" y=\"-111.8\" font-family=\"Times,serif\" font-size=\"14.00\" fill=\"#000000\">class = y[1]</text>\n</g>\n<!-- 9&#45;&gt;10 -->\n<g id=\"edge10\" class=\"edge\">\n<title>9&#45;&gt;10</title>\n<path fill=\"none\" stroke=\"#000000\" d=\"M1192.0766,-222.8796C1183.9785,-213.8733 1175.3386,-204.2644 1166.9991,-194.9897\"/>\n<polygon fill=\"#000000\" stroke=\"#000000\" points=\"1169.372,-192.394 1160.0831,-187.2981 1164.1667,-197.0743 1169.372,-192.394\"/>\n</g>\n<!-- 13 -->\n<g id=\"node14\" class=\"node\">\n<title>13</title>\n<polygon fill=\"none\" stroke=\"#000000\" points=\"1440,-187 1233,-187 1233,-104 1440,-104 1440,-187\"/>\n<text text-anchor=\"middle\" x=\"1336.5\" y=\"-171.8\" font-family=\"Times,serif\" font-size=\"14.00\" fill=\"#000000\">69 &lt;= 0.5</text>\n<text text-anchor=\"middle\" x=\"1336.5\" y=\"-156.8\" font-family=\"Times,serif\" font-size=\"14.00\" fill=\"#000000\">gini = 0.454</text>\n<text text-anchor=\"middle\" x=\"1336.5\" y=\"-141.8\" font-family=\"Times,serif\" font-size=\"14.00\" fill=\"#000000\">samples = 3468</text>\n<text text-anchor=\"middle\" x=\"1336.5\" y=\"-126.8\" font-family=\"Times,serif\" font-size=\"14.00\" fill=\"#000000\">value = [56721324, 106100850]</text>\n<text text-anchor=\"middle\" x=\"1336.5\" y=\"-111.8\" font-family=\"Times,serif\" font-size=\"14.00\" fill=\"#000000\">class = y[1]</text>\n</g>\n<!-- 9&#45;&gt;13 -->\n<g id=\"edge13\" class=\"edge\">\n<title>9&#45;&gt;13</title>\n<path fill=\"none\" stroke=\"#000000\" d=\"M1266.9234,-222.8796C1275.0215,-213.8733 1283.6614,-204.2644 1292.0009,-194.9897\"/>\n<polygon fill=\"#000000\" stroke=\"#000000\" points=\"1294.8333,-197.0743 1298.9169,-187.2981 1289.628,-192.394 1294.8333,-197.0743\"/>\n</g>\n<!-- 11 -->\n<g id=\"node12\" class=\"node\">\n<title>11</title>\n<polygon fill=\"none\" stroke=\"#000000\" points=\"1011.5,-68 879.5,-68 879.5,0 1011.5,0 1011.5,-68\"/>\n<text text-anchor=\"middle\" x=\"945.5\" y=\"-52.8\" font-family=\"Times,serif\" font-size=\"14.00\" fill=\"#000000\">gini = 0.0</text>\n<text text-anchor=\"middle\" x=\"945.5\" y=\"-37.8\" font-family=\"Times,serif\" font-size=\"14.00\" fill=\"#000000\">samples = 3</text>\n<text text-anchor=\"middle\" x=\"945.5\" y=\"-22.8\" font-family=\"Times,serif\" font-size=\"14.00\" fill=\"#000000\">value = [131604, 0]</text>\n<text text-anchor=\"middle\" x=\"945.5\" y=\"-7.8\" font-family=\"Times,serif\" font-size=\"14.00\" fill=\"#000000\">class = y[0]</text>\n</g>\n<!-- 10&#45;&gt;11 -->\n<g id=\"edge11\" class=\"edge\">\n<title>10&#45;&gt;11</title>\n<path fill=\"none\" stroke=\"#000000\" d=\"M1056.5917,-103.9815C1040.752,-94.0034 1023.8774,-83.3733 1008.1888,-73.4904\"/>\n<polygon fill=\"#000000\" stroke=\"#000000\" points=\"1009.9357,-70.4543 999.609,-68.0856 1006.2046,-76.3771 1009.9357,-70.4543\"/>\n</g>\n<!-- 12 -->\n<g id=\"node13\" class=\"node\">\n<title>12</title>\n<polygon fill=\"none\" stroke=\"#000000\" points=\"1215,-68 1030,-68 1030,0 1215,0 1215,-68\"/>\n<text text-anchor=\"middle\" x=\"1122.5\" y=\"-52.8\" font-family=\"Times,serif\" font-size=\"14.00\" fill=\"#000000\">gini = 0.324</text>\n<text text-anchor=\"middle\" x=\"1122.5\" y=\"-37.8\" font-family=\"Times,serif\" font-size=\"14.00\" fill=\"#000000\">samples = 158</text>\n<text text-anchor=\"middle\" x=\"1122.5\" y=\"-22.8\" font-family=\"Times,serif\" font-size=\"14.00\" fill=\"#000000\">value = [1535380, 6000186]</text>\n<text text-anchor=\"middle\" x=\"1122.5\" y=\"-7.8\" font-family=\"Times,serif\" font-size=\"14.00\" fill=\"#000000\">class = y[1]</text>\n</g>\n<!-- 10&#45;&gt;12 -->\n<g id=\"edge12\" class=\"edge\">\n<title>10&#45;&gt;12</title>\n<path fill=\"none\" stroke=\"#000000\" d=\"M1122.5,-103.9815C1122.5,-95.618 1122.5,-86.7965 1122.5,-78.3409\"/>\n<polygon fill=\"#000000\" stroke=\"#000000\" points=\"1126.0001,-78.2636 1122.5,-68.2637 1119.0001,-78.2637 1126.0001,-78.2636\"/>\n</g>\n<!-- 14 -->\n<g id=\"node15\" class=\"node\">\n<title>14</title>\n<polygon fill=\"none\" stroke=\"#000000\" points=\"1440,-68 1233,-68 1233,0 1440,0 1440,-68\"/>\n<text text-anchor=\"middle\" x=\"1336.5\" y=\"-52.8\" font-family=\"Times,serif\" font-size=\"14.00\" fill=\"#000000\">gini = 0.452</text>\n<text text-anchor=\"middle\" x=\"1336.5\" y=\"-37.8\" font-family=\"Times,serif\" font-size=\"14.00\" fill=\"#000000\">samples = 3426</text>\n<text text-anchor=\"middle\" x=\"1336.5\" y=\"-22.8\" font-family=\"Times,serif\" font-size=\"14.00\" fill=\"#000000\">value = [55624624, 105271556]</text>\n<text text-anchor=\"middle\" x=\"1336.5\" y=\"-7.8\" font-family=\"Times,serif\" font-size=\"14.00\" fill=\"#000000\">class = y[1]</text>\n</g>\n<!-- 13&#45;&gt;14 -->\n<g id=\"edge14\" class=\"edge\">\n<title>13&#45;&gt;14</title>\n<path fill=\"none\" stroke=\"#000000\" d=\"M1336.5,-103.9815C1336.5,-95.618 1336.5,-86.7965 1336.5,-78.3409\"/>\n<polygon fill=\"#000000\" stroke=\"#000000\" points=\"1340.0001,-78.2636 1336.5,-68.2637 1333.0001,-78.2637 1340.0001,-78.2636\"/>\n</g>\n<!-- 15 -->\n<g id=\"node16\" class=\"node\">\n<title>15</title>\n<polygon fill=\"none\" stroke=\"#000000\" points=\"1635,-68 1458,-68 1458,0 1635,0 1635,-68\"/>\n<text text-anchor=\"middle\" x=\"1546.5\" y=\"-52.8\" font-family=\"Times,serif\" font-size=\"14.00\" fill=\"#000000\">gini = 0.49</text>\n<text text-anchor=\"middle\" x=\"1546.5\" y=\"-37.8\" font-family=\"Times,serif\" font-size=\"14.00\" fill=\"#000000\">samples = 42</text>\n<text text-anchor=\"middle\" x=\"1546.5\" y=\"-22.8\" font-family=\"Times,serif\" font-size=\"14.00\" fill=\"#000000\">value = [1096700, 829294]</text>\n<text text-anchor=\"middle\" x=\"1546.5\" y=\"-7.8\" font-family=\"Times,serif\" font-size=\"14.00\" fill=\"#000000\">class = y[0]</text>\n</g>\n<!-- 13&#45;&gt;15 -->\n<g id=\"edge15\" class=\"edge\">\n<title>13&#45;&gt;15</title>\n<path fill=\"none\" stroke=\"#000000\" d=\"M1414.6962,-103.9815C1433.9242,-93.7724 1454.4374,-82.8809 1473.4138,-72.8053\"/>\n<polygon fill=\"#000000\" stroke=\"#000000\" points=\"1475.1119,-75.8665 1482.3029,-68.0856 1471.8293,-69.6839 1475.1119,-75.8665\"/>\n</g>\n<!-- 17 -->\n<g id=\"node18\" class=\"node\">\n<title>17</title>\n<polygon fill=\"none\" stroke=\"#000000\" points=\"2080.5,-306 1880.5,-306 1880.5,-223 2080.5,-223 2080.5,-306\"/>\n<text text-anchor=\"middle\" x=\"1980.5\" y=\"-290.8\" font-family=\"Times,serif\" font-size=\"14.00\" fill=\"#000000\">94 &lt;= &#45;0.5</text>\n<text text-anchor=\"middle\" x=\"1980.5\" y=\"-275.8\" font-family=\"Times,serif\" font-size=\"14.00\" fill=\"#000000\">gini = 0.499</text>\n<text text-anchor=\"middle\" x=\"1980.5\" y=\"-260.8\" font-family=\"Times,serif\" font-size=\"14.00\" fill=\"#000000\">samples = 993</text>\n<text text-anchor=\"middle\" x=\"1980.5\" y=\"-245.8\" font-family=\"Times,serif\" font-size=\"14.00\" fill=\"#000000\">value = [22241076, 23708052]</text>\n<text text-anchor=\"middle\" x=\"1980.5\" y=\"-230.8\" font-family=\"Times,serif\" font-size=\"14.00\" fill=\"#000000\">class = y[1]</text>\n</g>\n<!-- 16&#45;&gt;17 -->\n<g id=\"edge17\" class=\"edge\">\n<title>16&#45;&gt;17</title>\n<path fill=\"none\" stroke=\"#000000\" d=\"M1980.5,-341.8796C1980.5,-333.6838 1980.5,-324.9891 1980.5,-316.5013\"/>\n<polygon fill=\"#000000\" stroke=\"#000000\" points=\"1984.0001,-316.298 1980.5,-306.2981 1977.0001,-316.2981 1984.0001,-316.298\"/>\n</g>\n<!-- 24 -->\n<g id=\"node25\" class=\"node\">\n<title>24</title>\n<polygon fill=\"none\" stroke=\"#000000\" points=\"2704.5,-306 2490.5,-306 2490.5,-223 2704.5,-223 2704.5,-306\"/>\n<text text-anchor=\"middle\" x=\"2597.5\" y=\"-290.8\" font-family=\"Times,serif\" font-size=\"14.00\" fill=\"#000000\">22 &lt;= &#45;0.5</text>\n<text text-anchor=\"middle\" x=\"2597.5\" y=\"-275.8\" font-family=\"Times,serif\" font-size=\"14.00\" fill=\"#000000\">gini = 0.473</text>\n<text text-anchor=\"middle\" x=\"2597.5\" y=\"-260.8\" font-family=\"Times,serif\" font-size=\"14.00\" fill=\"#000000\">samples = 15308</text>\n<text text-anchor=\"middle\" x=\"2597.5\" y=\"-245.8\" font-family=\"Times,serif\" font-size=\"14.00\" fill=\"#000000\">value = [274833020, 441135626]</text>\n<text text-anchor=\"middle\" x=\"2597.5\" y=\"-230.8\" font-family=\"Times,serif\" font-size=\"14.00\" fill=\"#000000\">class = y[1]</text>\n</g>\n<!-- 16&#45;&gt;24 -->\n<g id=\"edge24\" class=\"edge\">\n<title>16&#45;&gt;24</title>\n<path fill=\"none\" stroke=\"#000000\" d=\"M2088.326,-362.7037C2197.9748,-341.5559 2367.3694,-308.885 2480.2861,-287.1069\"/>\n<polygon fill=\"#000000\" stroke=\"#000000\" points=\"2481.1962,-290.496 2490.3524,-285.1654 2479.8705,-283.6226 2481.1962,-290.496\"/>\n</g>\n<!-- 18 -->\n<g id=\"node19\" class=\"node\">\n<title>18</title>\n<polygon fill=\"none\" stroke=\"#000000\" points=\"1966,-187 1789,-187 1789,-104 1966,-104 1966,-187\"/>\n<text text-anchor=\"middle\" x=\"1877.5\" y=\"-171.8\" font-family=\"Times,serif\" font-size=\"14.00\" fill=\"#000000\">21 &lt;= &#45;0.5</text>\n<text text-anchor=\"middle\" x=\"1877.5\" y=\"-156.8\" font-family=\"Times,serif\" font-size=\"14.00\" fill=\"#000000\">gini = 0.389</text>\n<text text-anchor=\"middle\" x=\"1877.5\" y=\"-141.8\" font-family=\"Times,serif\" font-size=\"14.00\" fill=\"#000000\">samples = 45</text>\n<text text-anchor=\"middle\" x=\"1877.5\" y=\"-126.8\" font-family=\"Times,serif\" font-size=\"14.00\" fill=\"#000000\">value = [1491512, 536602]</text>\n<text text-anchor=\"middle\" x=\"1877.5\" y=\"-111.8\" font-family=\"Times,serif\" font-size=\"14.00\" fill=\"#000000\">class = y[0]</text>\n</g>\n<!-- 17&#45;&gt;18 -->\n<g id=\"edge18\" class=\"edge\">\n<title>17&#45;&gt;18</title>\n<path fill=\"none\" stroke=\"#000000\" d=\"M1944.4756,-222.8796C1936.6802,-213.8733 1928.3633,-204.2644 1920.3356,-194.9897\"/>\n<polygon fill=\"#000000\" stroke=\"#000000\" points=\"1922.8691,-192.5686 1913.6782,-187.2981 1917.5763,-197.1498 1922.8691,-192.5686\"/>\n</g>\n<!-- 21 -->\n<g id=\"node22\" class=\"node\">\n<title>21</title>\n<polygon fill=\"none\" stroke=\"#000000\" points=\"2184.5,-187 1984.5,-187 1984.5,-104 2184.5,-104 2184.5,-187\"/>\n<text text-anchor=\"middle\" x=\"2084.5\" y=\"-171.8\" font-family=\"Times,serif\" font-size=\"14.00\" fill=\"#000000\">57 &lt;= &#45;0.5</text>\n<text text-anchor=\"middle\" x=\"2084.5\" y=\"-156.8\" font-family=\"Times,serif\" font-size=\"14.00\" fill=\"#000000\">gini = 0.498</text>\n<text text-anchor=\"middle\" x=\"2084.5\" y=\"-141.8\" font-family=\"Times,serif\" font-size=\"14.00\" fill=\"#000000\">samples = 948</text>\n<text text-anchor=\"middle\" x=\"2084.5\" y=\"-126.8\" font-family=\"Times,serif\" font-size=\"14.00\" fill=\"#000000\">value = [20749564, 23171450]</text>\n<text text-anchor=\"middle\" x=\"2084.5\" y=\"-111.8\" font-family=\"Times,serif\" font-size=\"14.00\" fill=\"#000000\">class = y[1]</text>\n</g>\n<!-- 17&#45;&gt;21 -->\n<g id=\"edge21\" class=\"edge\">\n<title>17&#45;&gt;21</title>\n<path fill=\"none\" stroke=\"#000000\" d=\"M2016.8742,-222.8796C2024.7452,-213.8733 2033.1429,-204.2644 2041.2485,-194.9897\"/>\n<polygon fill=\"#000000\" stroke=\"#000000\" points=\"2044.0254,-197.131 2047.9706,-187.2981 2038.7546,-192.5246 2044.0254,-197.131\"/>\n</g>\n<!-- 19 -->\n<g id=\"node20\" class=\"node\">\n<title>19</title>\n<polygon fill=\"none\" stroke=\"#000000\" points=\"1778,-68 1653,-68 1653,0 1778,0 1778,-68\"/>\n<text text-anchor=\"middle\" x=\"1715.5\" y=\"-52.8\" font-family=\"Times,serif\" font-size=\"14.00\" fill=\"#000000\">gini = 0.0</text>\n<text text-anchor=\"middle\" x=\"1715.5\" y=\"-37.8\" font-family=\"Times,serif\" font-size=\"14.00\" fill=\"#000000\">samples = 2</text>\n<text text-anchor=\"middle\" x=\"1715.5\" y=\"-22.8\" font-family=\"Times,serif\" font-size=\"14.00\" fill=\"#000000\">value = [0, 97564]</text>\n<text text-anchor=\"middle\" x=\"1715.5\" y=\"-7.8\" font-family=\"Times,serif\" font-size=\"14.00\" fill=\"#000000\">class = y[1]</text>\n</g>\n<!-- 18&#45;&gt;19 -->\n<g id=\"edge19\" class=\"edge\">\n<title>18&#45;&gt;19</title>\n<path fill=\"none\" stroke=\"#000000\" d=\"M1817.1772,-103.9815C1802.814,-94.0957 1787.5212,-83.5701 1773.2753,-73.7651\"/>\n<polygon fill=\"#000000\" stroke=\"#000000\" points=\"1775.2454,-70.8722 1765.0235,-68.0856 1771.2766,-76.6384 1775.2454,-70.8722\"/>\n</g>\n<!-- 20 -->\n<g id=\"node21\" class=\"node\">\n<title>20</title>\n<polygon fill=\"none\" stroke=\"#000000\" points=\"1973,-68 1796,-68 1796,0 1973,0 1973,-68\"/>\n<text text-anchor=\"middle\" x=\"1884.5\" y=\"-52.8\" font-family=\"Times,serif\" font-size=\"14.00\" fill=\"#000000\">gini = 0.351</text>\n<text text-anchor=\"middle\" x=\"1884.5\" y=\"-37.8\" font-family=\"Times,serif\" font-size=\"14.00\" fill=\"#000000\">samples = 43</text>\n<text text-anchor=\"middle\" x=\"1884.5\" y=\"-22.8\" font-family=\"Times,serif\" font-size=\"14.00\" fill=\"#000000\">value = [1491512, 439038]</text>\n<text text-anchor=\"middle\" x=\"1884.5\" y=\"-7.8\" font-family=\"Times,serif\" font-size=\"14.00\" fill=\"#000000\">class = y[0]</text>\n</g>\n<!-- 18&#45;&gt;20 -->\n<g id=\"edge20\" class=\"edge\">\n<title>18&#45;&gt;20</title>\n<path fill=\"none\" stroke=\"#000000\" d=\"M1880.1065,-103.9815C1880.6316,-95.618 1881.1854,-86.7965 1881.7163,-78.3409\"/>\n<polygon fill=\"#000000\" stroke=\"#000000\" points=\"1885.2154,-78.4634 1882.3489,-68.2637 1878.2291,-78.0247 1885.2154,-78.4634\"/>\n</g>\n<!-- 22 -->\n<g id=\"node23\" class=\"node\">\n<title>22</title>\n<polygon fill=\"none\" stroke=\"#000000\" points=\"2166.5,-68 1990.5,-68 1990.5,0 2166.5,0 2166.5,-68\"/>\n<text text-anchor=\"middle\" x=\"2078.5\" y=\"-52.8\" font-family=\"Times,serif\" font-size=\"14.00\" fill=\"#000000\">gini = 0.42</text>\n<text text-anchor=\"middle\" x=\"2078.5\" y=\"-37.8\" font-family=\"Times,serif\" font-size=\"14.00\" fill=\"#000000\">samples = 36</text>\n<text text-anchor=\"middle\" x=\"2078.5\" y=\"-22.8\" font-family=\"Times,serif\" font-size=\"14.00\" fill=\"#000000\">value = [1140568, 487820]</text>\n<text text-anchor=\"middle\" x=\"2078.5\" y=\"-7.8\" font-family=\"Times,serif\" font-size=\"14.00\" fill=\"#000000\">class = y[0]</text>\n</g>\n<!-- 21&#45;&gt;22 -->\n<g id=\"edge22\" class=\"edge\">\n<title>21&#45;&gt;22</title>\n<path fill=\"none\" stroke=\"#000000\" d=\"M2082.2658,-103.9815C2081.8158,-95.618 2081.3411,-86.7965 2080.8861,-78.3409\"/>\n<polygon fill=\"#000000\" stroke=\"#000000\" points=\"2084.3762,-78.0611 2080.3438,-68.2637 2077.3863,-78.4373 2084.3762,-78.0611\"/>\n</g>\n<!-- 23 -->\n<g id=\"node24\" class=\"node\">\n<title>23</title>\n<polygon fill=\"none\" stroke=\"#000000\" points=\"2384.5,-68 2184.5,-68 2184.5,0 2384.5,0 2384.5,-68\"/>\n<text text-anchor=\"middle\" x=\"2284.5\" y=\"-52.8\" font-family=\"Times,serif\" font-size=\"14.00\" fill=\"#000000\">gini = 0.497</text>\n<text text-anchor=\"middle\" x=\"2284.5\" y=\"-37.8\" font-family=\"Times,serif\" font-size=\"14.00\" fill=\"#000000\">samples = 912</text>\n<text text-anchor=\"middle\" x=\"2284.5\" y=\"-22.8\" font-family=\"Times,serif\" font-size=\"14.00\" fill=\"#000000\">value = [19608996, 22683630]</text>\n<text text-anchor=\"middle\" x=\"2284.5\" y=\"-7.8\" font-family=\"Times,serif\" font-size=\"14.00\" fill=\"#000000\">class = y[1]</text>\n</g>\n<!-- 21&#45;&gt;23 -->\n<g id=\"edge23\" class=\"edge\">\n<title>21&#45;&gt;23</title>\n<path fill=\"none\" stroke=\"#000000\" d=\"M2158.9726,-103.9815C2177.0364,-93.911 2196.2911,-83.1764 2214.1573,-73.2161\"/>\n<polygon fill=\"#000000\" stroke=\"#000000\" points=\"2216.3298,-76.0121 2223.3599,-68.0856 2212.9212,-69.898 2216.3298,-76.0121\"/>\n</g>\n<!-- 25 -->\n<g id=\"node26\" class=\"node\">\n<title>25</title>\n<polygon fill=\"none\" stroke=\"#000000\" points=\"2697,-187 2498,-187 2498,-104 2697,-104 2697,-187\"/>\n<text text-anchor=\"middle\" x=\"2597.5\" y=\"-171.8\" font-family=\"Times,serif\" font-size=\"14.00\" fill=\"#000000\">32 &lt;= &#45;0.5</text>\n<text text-anchor=\"middle\" x=\"2597.5\" y=\"-156.8\" font-family=\"Times,serif\" font-size=\"14.00\" fill=\"#000000\">gini = 0.499</text>\n<text text-anchor=\"middle\" x=\"2597.5\" y=\"-141.8\" font-family=\"Times,serif\" font-size=\"14.00\" fill=\"#000000\">samples = 949</text>\n<text text-anchor=\"middle\" x=\"2597.5\" y=\"-126.8\" font-family=\"Times,serif\" font-size=\"14.00\" fill=\"#000000\">value = [21100508, 22829976]</text>\n<text text-anchor=\"middle\" x=\"2597.5\" y=\"-111.8\" font-family=\"Times,serif\" font-size=\"14.00\" fill=\"#000000\">class = y[1]</text>\n</g>\n<!-- 24&#45;&gt;25 -->\n<g id=\"edge25\" class=\"edge\">\n<title>24&#45;&gt;25</title>\n<path fill=\"none\" stroke=\"#000000\" d=\"M2597.5,-222.8796C2597.5,-214.6838 2597.5,-205.9891 2597.5,-197.5013\"/>\n<polygon fill=\"#000000\" stroke=\"#000000\" points=\"2601.0001,-197.298 2597.5,-187.2981 2594.0001,-197.2981 2601.0001,-197.298\"/>\n</g>\n<!-- 28 -->\n<g id=\"node29\" class=\"node\">\n<title>28</title>\n<polygon fill=\"none\" stroke=\"#000000\" points=\"3032,-187 2817,-187 2817,-104 3032,-104 3032,-187\"/>\n<text text-anchor=\"middle\" x=\"2924.5\" y=\"-171.8\" font-family=\"Times,serif\" font-size=\"14.00\" fill=\"#000000\">103 &lt;= &#45;0.5</text>\n<text text-anchor=\"middle\" x=\"2924.5\" y=\"-156.8\" font-family=\"Times,serif\" font-size=\"14.00\" fill=\"#000000\">gini = 0.47</text>\n<text text-anchor=\"middle\" x=\"2924.5\" y=\"-141.8\" font-family=\"Times,serif\" font-size=\"14.00\" fill=\"#000000\">samples = 14359</text>\n<text text-anchor=\"middle\" x=\"2924.5\" y=\"-126.8\" font-family=\"Times,serif\" font-size=\"14.00\" fill=\"#000000\">value = [253732512, 418305650]</text>\n<text text-anchor=\"middle\" x=\"2924.5\" y=\"-111.8\" font-family=\"Times,serif\" font-size=\"14.00\" fill=\"#000000\">class = y[1]</text>\n</g>\n<!-- 24&#45;&gt;28 -->\n<g id=\"edge28\" class=\"edge\">\n<title>24&#45;&gt;28</title>\n<path fill=\"none\" stroke=\"#000000\" d=\"M2704.572,-225.5349C2737.3759,-213.5971 2773.634,-200.4023 2807.0886,-188.2277\"/>\n<polygon fill=\"#000000\" stroke=\"#000000\" points=\"2808.7076,-191.3631 2816.9078,-184.6544 2806.3138,-184.7852 2808.7076,-191.3631\"/>\n</g>\n<!-- 26 -->\n<g id=\"node27\" class=\"node\">\n<title>26</title>\n<polygon fill=\"none\" stroke=\"#000000\" points=\"2588,-68 2403,-68 2403,0 2588,0 2588,-68\"/>\n<text text-anchor=\"middle\" x=\"2495.5\" y=\"-52.8\" font-family=\"Times,serif\" font-size=\"14.00\" fill=\"#000000\">gini = 0.473</text>\n<text text-anchor=\"middle\" x=\"2495.5\" y=\"-37.8\" font-family=\"Times,serif\" font-size=\"14.00\" fill=\"#000000\">samples = 103</text>\n<text text-anchor=\"middle\" x=\"2495.5\" y=\"-22.8\" font-family=\"Times,serif\" font-size=\"14.00\" fill=\"#000000\">value = [2895288, 1804934]</text>\n<text text-anchor=\"middle\" x=\"2495.5\" y=\"-7.8\" font-family=\"Times,serif\" font-size=\"14.00\" fill=\"#000000\">class = y[0]</text>\n</g>\n<!-- 25&#45;&gt;26 -->\n<g id=\"edge26\" class=\"edge\">\n<title>25&#45;&gt;26</title>\n<path fill=\"none\" stroke=\"#000000\" d=\"M2559.519,-103.9815C2551.1114,-94.7908 2542.1979,-85.0472 2533.7785,-75.8436\"/>\n<polygon fill=\"#000000\" stroke=\"#000000\" points=\"2536.1766,-73.2797 2526.8443,-68.2637 2531.0117,-78.0045 2536.1766,-73.2797\"/>\n</g>\n<!-- 27 -->\n<g id=\"node28\" class=\"node\">\n<title>27</title>\n<polygon fill=\"none\" stroke=\"#000000\" points=\"2806.5,-68 2606.5,-68 2606.5,0 2806.5,0 2806.5,-68\"/>\n<text text-anchor=\"middle\" x=\"2706.5\" y=\"-52.8\" font-family=\"Times,serif\" font-size=\"14.00\" fill=\"#000000\">gini = 0.497</text>\n<text text-anchor=\"middle\" x=\"2706.5\" y=\"-37.8\" font-family=\"Times,serif\" font-size=\"14.00\" fill=\"#000000\">samples = 846</text>\n<text text-anchor=\"middle\" x=\"2706.5\" y=\"-22.8\" font-family=\"Times,serif\" font-size=\"14.00\" fill=\"#000000\">value = [18205220, 21025042]</text>\n<text text-anchor=\"middle\" x=\"2706.5\" y=\"-7.8\" font-family=\"Times,serif\" font-size=\"14.00\" fill=\"#000000\">class = y[1]</text>\n</g>\n<!-- 25&#45;&gt;27 -->\n<g id=\"edge27\" class=\"edge\">\n<title>25&#45;&gt;27</title>\n<path fill=\"none\" stroke=\"#000000\" d=\"M2638.0876,-103.9815C2647.162,-94.6989 2656.7879,-84.8522 2665.8643,-75.5677\"/>\n<polygon fill=\"#000000\" stroke=\"#000000\" points=\"2668.5169,-77.8611 2673.0046,-68.2637 2663.5113,-72.9678 2668.5169,-77.8611\"/>\n</g>\n<!-- 29 -->\n<g id=\"node30\" class=\"node\">\n<title>29</title>\n<polygon fill=\"none\" stroke=\"#000000\" points=\"3024.5,-68 2824.5,-68 2824.5,0 3024.5,0 3024.5,-68\"/>\n<text text-anchor=\"middle\" x=\"2924.5\" y=\"-52.8\" font-family=\"Times,serif\" font-size=\"14.00\" fill=\"#000000\">gini = 0.5</text>\n<text text-anchor=\"middle\" x=\"2924.5\" y=\"-37.8\" font-family=\"Times,serif\" font-size=\"14.00\" fill=\"#000000\">samples = 538</text>\n<text text-anchor=\"middle\" x=\"2924.5\" y=\"-22.8\" font-family=\"Times,serif\" font-size=\"14.00\" fill=\"#000000\">value = [12151436, 12732102]</text>\n<text text-anchor=\"middle\" x=\"2924.5\" y=\"-7.8\" font-family=\"Times,serif\" font-size=\"14.00\" fill=\"#000000\">class = y[1]</text>\n</g>\n<!-- 28&#45;&gt;29 -->\n<g id=\"edge29\" class=\"edge\">\n<title>28&#45;&gt;29</title>\n<path fill=\"none\" stroke=\"#000000\" d=\"M2924.5,-103.9815C2924.5,-95.618 2924.5,-86.7965 2924.5,-78.3409\"/>\n<polygon fill=\"#000000\" stroke=\"#000000\" points=\"2928.0001,-78.2636 2924.5,-68.2637 2921.0001,-78.2637 2928.0001,-78.2636\"/>\n</g>\n<!-- 30 -->\n<g id=\"node31\" class=\"node\">\n<title>30</title>\n<polygon fill=\"none\" stroke=\"#000000\" points=\"3258,-68 3043,-68 3043,0 3258,0 3258,-68\"/>\n<text text-anchor=\"middle\" x=\"3150.5\" y=\"-52.8\" font-family=\"Times,serif\" font-size=\"14.00\" fill=\"#000000\">gini = 0.468</text>\n<text text-anchor=\"middle\" x=\"3150.5\" y=\"-37.8\" font-family=\"Times,serif\" font-size=\"14.00\" fill=\"#000000\">samples = 13821</text>\n<text text-anchor=\"middle\" x=\"3150.5\" y=\"-22.8\" font-family=\"Times,serif\" font-size=\"14.00\" fill=\"#000000\">value = [241581076, 405573548]</text>\n<text text-anchor=\"middle\" x=\"3150.5\" y=\"-7.8\" font-family=\"Times,serif\" font-size=\"14.00\" fill=\"#000000\">class = y[1]</text>\n</g>\n<!-- 28&#45;&gt;30 -->\n<g id=\"edge30\" class=\"edge\">\n<title>28&#45;&gt;30</title>\n<path fill=\"none\" stroke=\"#000000\" d=\"M3008.6541,-103.9815C3029.5343,-93.68 3051.8228,-82.6837 3072.3993,-72.532\"/>\n<polygon fill=\"#000000\" stroke=\"#000000\" points=\"3073.9923,-75.6489 3081.4116,-68.0856 3070.8951,-69.3713 3073.9923,-75.6489\"/>\n</g>\n</g>\n</svg>\n"
          },
          "metadata": {
            "tags": []
          },
          "execution_count": 16
        }
      ]
    },
    {
      "cell_type": "code",
      "metadata": {
        "id": "r5HtLDR0rPzF",
        "colab_type": "code",
        "colab": {
          "base_uri": "https://localhost:8080/",
          "height": 1000
        },
        "outputId": "ab234474-6aab-493a-b5df-88070a45907d"
      },
      "source": [
        "\n",
        "dtree = DecisionTreeClassifier(max_depth=5,class_weight=class_weight)\n",
        "dtree.fit(x_train, y_train)\n",
        "\n",
        "predict = dtree.predict(x_test)\n",
        "s = accuracy_score(y_test, predict)\n",
        "print(\"accuracy score: %.2f %%\" % (s*100))\n",
        "print(dtree)\n",
        "\n",
        "import graphviz\n",
        "from IPython.display import display\n",
        "columns=list(x_train.columns)\n",
        "dot_data = tree.export_graphviz(dtree,out_file=None,feature_names=columns,class_names=True)\n",
        "graph = graphviz.Source(dot_data)\n",
        "graph.render(\"image\",view=True)\n",
        "graph"
      ],
      "execution_count": 17,
      "outputs": [
        {
          "output_type": "stream",
          "text": [
            "accuracy score: 54.14 %\n",
            "DecisionTreeClassifier(ccp_alpha=0.0, class_weight={-1: 43868, 1: 48782},\n",
            "                       criterion='gini', max_depth=5, max_features=None,\n",
            "                       max_leaf_nodes=None, min_impurity_decrease=0.0,\n",
            "                       min_impurity_split=None, min_samples_leaf=1,\n",
            "                       min_samples_split=2, min_weight_fraction_leaf=0.0,\n",
            "                       presort='deprecated', random_state=None,\n",
            "                       splitter='best')\n"
          ],
          "name": "stdout"
        },
        {
          "output_type": "execute_result",
          "data": {
            "text/plain": [
              "<graphviz.files.Source at 0x7f3ac51adf98>"
            ],
            "image/svg+xml": "<?xml version=\"1.0\" encoding=\"UTF-8\" standalone=\"no\"?>\n<!DOCTYPE svg PUBLIC \"-//W3C//DTD SVG 1.1//EN\"\n \"http://www.w3.org/Graphics/SVG/1.1/DTD/svg11.dtd\">\n<!-- Generated by graphviz version 2.40.1 (20161225.0304)\n -->\n<!-- Title: Tree Pages: 1 -->\n<svg width=\"5546pt\" height=\"671pt\"\n viewBox=\"0.00 0.00 5546.00 671.00\" xmlns=\"http://www.w3.org/2000/svg\" xmlns:xlink=\"http://www.w3.org/1999/xlink\">\n<g id=\"graph0\" class=\"graph\" transform=\"scale(1 1) rotate(0) translate(4 667)\">\n<title>Tree</title>\n<polygon fill=\"#ffffff\" stroke=\"transparent\" points=\"-4,4 -4,-667 5542,-667 5542,4 -4,4\"/>\n<!-- 0 -->\n<g id=\"node1\" class=\"node\">\n<title>0</title>\n<polygon fill=\"none\" stroke=\"#000000\" points=\"2962.5,-663 2732.5,-663 2732.5,-580 2962.5,-580 2962.5,-663\"/>\n<text text-anchor=\"middle\" x=\"2847.5\" y=\"-647.8\" font-family=\"Times,serif\" font-size=\"14.00\" fill=\"#000000\">9 &lt;= 0.5</text>\n<text text-anchor=\"middle\" x=\"2847.5\" y=\"-632.8\" font-family=\"Times,serif\" font-size=\"14.00\" fill=\"#000000\">gini = 0.494</text>\n<text text-anchor=\"middle\" x=\"2847.5\" y=\"-617.8\" font-family=\"Times,serif\" font-size=\"14.00\" fill=\"#000000\">samples = 92650</text>\n<text text-anchor=\"middle\" x=\"2847.5\" y=\"-602.8\" font-family=\"Times,serif\" font-size=\"14.00\" fill=\"#000000\">value = [1924401424, 2379683524]</text>\n<text text-anchor=\"middle\" x=\"2847.5\" y=\"-587.8\" font-family=\"Times,serif\" font-size=\"14.00\" fill=\"#000000\">class = y[1]</text>\n</g>\n<!-- 1 -->\n<g id=\"node2\" class=\"node\">\n<title>1</title>\n<polygon fill=\"none\" stroke=\"#000000\" points=\"2217.5,-544 1987.5,-544 1987.5,-461 2217.5,-461 2217.5,-544\"/>\n<text text-anchor=\"middle\" x=\"2102.5\" y=\"-528.8\" font-family=\"Times,serif\" font-size=\"14.00\" fill=\"#000000\">57 &lt;= 0.5</text>\n<text text-anchor=\"middle\" x=\"2102.5\" y=\"-513.8\" font-family=\"Times,serif\" font-size=\"14.00\" fill=\"#000000\">gini = 0.497</text>\n<text text-anchor=\"middle\" x=\"2102.5\" y=\"-498.8\" font-family=\"Times,serif\" font-size=\"14.00\" fill=\"#000000\">samples = 76349</text>\n<text text-anchor=\"middle\" x=\"2102.5\" y=\"-483.8\" font-family=\"Times,serif\" font-size=\"14.00\" fill=\"#000000\">value = [1627327328, 1914839846]</text>\n<text text-anchor=\"middle\" x=\"2102.5\" y=\"-468.8\" font-family=\"Times,serif\" font-size=\"14.00\" fill=\"#000000\">class = y[1]</text>\n</g>\n<!-- 0&#45;&gt;1 -->\n<g id=\"edge1\" class=\"edge\">\n<title>0&#45;&gt;1</title>\n<path fill=\"none\" stroke=\"#000000\" d=\"M2732.3191,-603.102C2595.6095,-581.2651 2368.4733,-544.9843 2227.5693,-522.4775\"/>\n<polygon fill=\"#000000\" stroke=\"#000000\" points=\"2228.0026,-519.0024 2217.5757,-520.8812 2226.8984,-525.9148 2228.0026,-519.0024\"/>\n<text text-anchor=\"middle\" x=\"2232.2437\" y=\"-537.4259\" font-family=\"Times,serif\" font-size=\"14.00\" fill=\"#000000\">True</text>\n</g>\n<!-- 30 -->\n<g id=\"node31\" class=\"node\">\n<title>30</title>\n<polygon fill=\"none\" stroke=\"#000000\" points=\"3263,-544 3048,-544 3048,-461 3263,-461 3263,-544\"/>\n<text text-anchor=\"middle\" x=\"3155.5\" y=\"-528.8\" font-family=\"Times,serif\" font-size=\"14.00\" fill=\"#000000\">36 &lt;= &#45;0.5</text>\n<text text-anchor=\"middle\" x=\"3155.5\" y=\"-513.8\" font-family=\"Times,serif\" font-size=\"14.00\" fill=\"#000000\">gini = 0.476</text>\n<text text-anchor=\"middle\" x=\"3155.5\" y=\"-498.8\" font-family=\"Times,serif\" font-size=\"14.00\" fill=\"#000000\">samples = 16301</text>\n<text text-anchor=\"middle\" x=\"3155.5\" y=\"-483.8\" font-family=\"Times,serif\" font-size=\"14.00\" fill=\"#000000\">value = [297074096, 464843678]</text>\n<text text-anchor=\"middle\" x=\"3155.5\" y=\"-468.8\" font-family=\"Times,serif\" font-size=\"14.00\" fill=\"#000000\">class = y[1]</text>\n</g>\n<!-- 0&#45;&gt;30 -->\n<g id=\"edge30\" class=\"edge\">\n<title>0&#45;&gt;30</title>\n<path fill=\"none\" stroke=\"#000000\" d=\"M2955.2235,-579.8796C2982.0691,-569.5074 3010.9831,-558.3361 3038.2625,-547.7963\"/>\n<polygon fill=\"#000000\" stroke=\"#000000\" points=\"3039.7708,-550.9658 3047.8374,-544.0969 3037.248,-544.4362 3039.7708,-550.9658\"/>\n<text text-anchor=\"middle\" x=\"3037.7187\" y=\"-563.2576\" font-family=\"Times,serif\" font-size=\"14.00\" fill=\"#000000\">False</text>\n</g>\n<!-- 2 -->\n<g id=\"node3\" class=\"node\">\n<title>2</title>\n<polygon fill=\"none\" stroke=\"#000000\" points=\"1330.5,-425 1100.5,-425 1100.5,-342 1330.5,-342 1330.5,-425\"/>\n<text text-anchor=\"middle\" x=\"1215.5\" y=\"-409.8\" font-family=\"Times,serif\" font-size=\"14.00\" fill=\"#000000\">57 &lt;= &#45;0.5</text>\n<text text-anchor=\"middle\" x=\"1215.5\" y=\"-394.8\" font-family=\"Times,serif\" font-size=\"14.00\" fill=\"#000000\">gini = 0.498</text>\n<text text-anchor=\"middle\" x=\"1215.5\" y=\"-379.8\" font-family=\"Times,serif\" font-size=\"14.00\" fill=\"#000000\">samples = 72720</text>\n<text text-anchor=\"middle\" x=\"1215.5\" y=\"-364.8\" font-family=\"Times,serif\" font-size=\"14.00\" fill=\"#000000\">value = [1568939020, 1802738810]</text>\n<text text-anchor=\"middle\" x=\"1215.5\" y=\"-349.8\" font-family=\"Times,serif\" font-size=\"14.00\" fill=\"#000000\">class = y[1]</text>\n</g>\n<!-- 1&#45;&gt;2 -->\n<g id=\"edge2\" class=\"edge\">\n<title>1&#45;&gt;2</title>\n<path fill=\"none\" stroke=\"#000000\" d=\"M1987.4496,-487.0648C1820.7313,-464.6979 1513.1331,-423.4305 1340.8317,-400.3145\"/>\n<polygon fill=\"#000000\" stroke=\"#000000\" points=\"1341.0747,-396.8158 1330.6981,-398.955 1340.1439,-403.7537 1341.0747,-396.8158\"/>\n</g>\n<!-- 17 -->\n<g id=\"node18\" class=\"node\">\n<title>17</title>\n<polygon fill=\"none\" stroke=\"#000000\" points=\"2205.5,-425 1999.5,-425 1999.5,-342 2205.5,-342 2205.5,-425\"/>\n<text text-anchor=\"middle\" x=\"2102.5\" y=\"-409.8\" font-family=\"Times,serif\" font-size=\"14.00\" fill=\"#000000\">19 &lt;= &#45;0.5</text>\n<text text-anchor=\"middle\" x=\"2102.5\" y=\"-394.8\" font-family=\"Times,serif\" font-size=\"14.00\" fill=\"#000000\">gini = 0.45</text>\n<text text-anchor=\"middle\" x=\"2102.5\" y=\"-379.8\" font-family=\"Times,serif\" font-size=\"14.00\" fill=\"#000000\">samples = 3629</text>\n<text text-anchor=\"middle\" x=\"2102.5\" y=\"-364.8\" font-family=\"Times,serif\" font-size=\"14.00\" fill=\"#000000\">value = [58388308, 112101036]</text>\n<text text-anchor=\"middle\" x=\"2102.5\" y=\"-349.8\" font-family=\"Times,serif\" font-size=\"14.00\" fill=\"#000000\">class = y[1]</text>\n</g>\n<!-- 1&#45;&gt;17 -->\n<g id=\"edge17\" class=\"edge\">\n<title>1&#45;&gt;17</title>\n<path fill=\"none\" stroke=\"#000000\" d=\"M2102.5,-460.8796C2102.5,-452.6838 2102.5,-443.9891 2102.5,-435.5013\"/>\n<polygon fill=\"#000000\" stroke=\"#000000\" points=\"2106.0001,-435.298 2102.5,-425.2981 2099.0001,-435.2981 2106.0001,-435.298\"/>\n</g>\n<!-- 3 -->\n<g id=\"node4\" class=\"node\">\n<title>3</title>\n<polygon fill=\"none\" stroke=\"#000000\" points=\"648.5,-306 448.5,-306 448.5,-223 648.5,-223 648.5,-306\"/>\n<text text-anchor=\"middle\" x=\"548.5\" y=\"-290.8\" font-family=\"Times,serif\" font-size=\"14.00\" fill=\"#000000\">61 &lt;= &#45;0.5</text>\n<text text-anchor=\"middle\" x=\"548.5\" y=\"-275.8\" font-family=\"Times,serif\" font-size=\"14.00\" fill=\"#000000\">gini = 0.492</text>\n<text text-anchor=\"middle\" x=\"548.5\" y=\"-260.8\" font-family=\"Times,serif\" font-size=\"14.00\" fill=\"#000000\">samples = 3397</text>\n<text text-anchor=\"middle\" x=\"548.5\" y=\"-245.8\" font-family=\"Times,serif\" font-size=\"14.00\" fill=\"#000000\">value = [87736000, 68148454]</text>\n<text text-anchor=\"middle\" x=\"548.5\" y=\"-230.8\" font-family=\"Times,serif\" font-size=\"14.00\" fill=\"#000000\">class = y[0]</text>\n</g>\n<!-- 2&#45;&gt;3 -->\n<g id=\"edge3\" class=\"edge\">\n<title>2&#45;&gt;3</title>\n<path fill=\"none\" stroke=\"#000000\" d=\"M1100.459,-362.9754C976.5829,-340.8746 780.9049,-305.9635 658.8703,-284.1913\"/>\n<polygon fill=\"#000000\" stroke=\"#000000\" points=\"659.2154,-280.6976 648.7561,-282.3868 657.9859,-287.5888 659.2154,-280.6976\"/>\n</g>\n<!-- 10 -->\n<g id=\"node11\" class=\"node\">\n<title>10</title>\n<polygon fill=\"none\" stroke=\"#000000\" points=\"1330.5,-306 1100.5,-306 1100.5,-223 1330.5,-223 1330.5,-306\"/>\n<text text-anchor=\"middle\" x=\"1215.5\" y=\"-290.8\" font-family=\"Times,serif\" font-size=\"14.00\" fill=\"#000000\">53 &lt;= 0.5</text>\n<text text-anchor=\"middle\" x=\"1215.5\" y=\"-275.8\" font-family=\"Times,serif\" font-size=\"14.00\" fill=\"#000000\">gini = 0.497</text>\n<text text-anchor=\"middle\" x=\"1215.5\" y=\"-260.8\" font-family=\"Times,serif\" font-size=\"14.00\" fill=\"#000000\">samples = 69323</text>\n<text text-anchor=\"middle\" x=\"1215.5\" y=\"-245.8\" font-family=\"Times,serif\" font-size=\"14.00\" fill=\"#000000\">value = [1481203020, 1734590356]</text>\n<text text-anchor=\"middle\" x=\"1215.5\" y=\"-230.8\" font-family=\"Times,serif\" font-size=\"14.00\" fill=\"#000000\">class = y[1]</text>\n</g>\n<!-- 2&#45;&gt;10 -->\n<g id=\"edge10\" class=\"edge\">\n<title>2&#45;&gt;10</title>\n<path fill=\"none\" stroke=\"#000000\" d=\"M1215.5,-341.8796C1215.5,-333.6838 1215.5,-324.9891 1215.5,-316.5013\"/>\n<polygon fill=\"#000000\" stroke=\"#000000\" points=\"1219.0001,-316.298 1215.5,-306.2981 1212.0001,-316.2981 1219.0001,-316.298\"/>\n</g>\n<!-- 4 -->\n<g id=\"node5\" class=\"node\">\n<title>4</title>\n<polygon fill=\"none\" stroke=\"#000000\" points=\"346,-187 169,-187 169,-104 346,-104 346,-187\"/>\n<text text-anchor=\"middle\" x=\"257.5\" y=\"-171.8\" font-family=\"Times,serif\" font-size=\"14.00\" fill=\"#000000\">41 &lt;= 0.5</text>\n<text text-anchor=\"middle\" x=\"257.5\" y=\"-156.8\" font-family=\"Times,serif\" font-size=\"14.00\" fill=\"#000000\">gini = 0.371</text>\n<text text-anchor=\"middle\" x=\"257.5\" y=\"-141.8\" font-family=\"Times,serif\" font-size=\"14.00\" fill=\"#000000\">samples = 30</text>\n<text text-anchor=\"middle\" x=\"257.5\" y=\"-126.8\" font-family=\"Times,serif\" font-size=\"14.00\" fill=\"#000000\">value = [350944, 1073204]</text>\n<text text-anchor=\"middle\" x=\"257.5\" y=\"-111.8\" font-family=\"Times,serif\" font-size=\"14.00\" fill=\"#000000\">class = y[1]</text>\n</g>\n<!-- 3&#45;&gt;4 -->\n<g id=\"edge4\" class=\"edge\">\n<title>3&#45;&gt;4</title>\n<path fill=\"none\" stroke=\"#000000\" d=\"M448.3543,-223.547C418.3874,-211.2925 385.5687,-197.8717 355.7265,-185.6682\"/>\n<polygon fill=\"#000000\" stroke=\"#000000\" points=\"356.7302,-182.2974 346.1494,-181.7518 354.0806,-188.7766 356.7302,-182.2974\"/>\n</g>\n<!-- 7 -->\n<g id=\"node8\" class=\"node\">\n<title>7</title>\n<polygon fill=\"none\" stroke=\"#000000\" points=\"648.5,-187 448.5,-187 448.5,-104 648.5,-104 648.5,-187\"/>\n<text text-anchor=\"middle\" x=\"548.5\" y=\"-171.8\" font-family=\"Times,serif\" font-size=\"14.00\" fill=\"#000000\">40 &lt;= &#45;0.5</text>\n<text text-anchor=\"middle\" x=\"548.5\" y=\"-156.8\" font-family=\"Times,serif\" font-size=\"14.00\" fill=\"#000000\">gini = 0.491</text>\n<text text-anchor=\"middle\" x=\"548.5\" y=\"-141.8\" font-family=\"Times,serif\" font-size=\"14.00\" fill=\"#000000\">samples = 3367</text>\n<text text-anchor=\"middle\" x=\"548.5\" y=\"-126.8\" font-family=\"Times,serif\" font-size=\"14.00\" fill=\"#000000\">value = [87385056, 67075250]</text>\n<text text-anchor=\"middle\" x=\"548.5\" y=\"-111.8\" font-family=\"Times,serif\" font-size=\"14.00\" fill=\"#000000\">class = y[0]</text>\n</g>\n<!-- 3&#45;&gt;7 -->\n<g id=\"edge7\" class=\"edge\">\n<title>3&#45;&gt;7</title>\n<path fill=\"none\" stroke=\"#000000\" d=\"M548.5,-222.8796C548.5,-214.6838 548.5,-205.9891 548.5,-197.5013\"/>\n<polygon fill=\"#000000\" stroke=\"#000000\" points=\"552.0001,-197.298 548.5,-187.2981 545.0001,-197.2981 552.0001,-197.298\"/>\n</g>\n<!-- 5 -->\n<g id=\"node6\" class=\"node\">\n<title>5</title>\n<polygon fill=\"none\" stroke=\"#000000\" points=\"177,-68 0,-68 0,0 177,0 177,-68\"/>\n<text text-anchor=\"middle\" x=\"88.5\" y=\"-52.8\" font-family=\"Times,serif\" font-size=\"14.00\" fill=\"#000000\">gini = 0.316</text>\n<text text-anchor=\"middle\" x=\"88.5\" y=\"-37.8\" font-family=\"Times,serif\" font-size=\"14.00\" fill=\"#000000\">samples = 28</text>\n<text text-anchor=\"middle\" x=\"88.5\" y=\"-22.8\" font-family=\"Times,serif\" font-size=\"14.00\" fill=\"#000000\">value = [263208, 1073204]</text>\n<text text-anchor=\"middle\" x=\"88.5\" y=\"-7.8\" font-family=\"Times,serif\" font-size=\"14.00\" fill=\"#000000\">class = y[1]</text>\n</g>\n<!-- 4&#45;&gt;5 -->\n<g id=\"edge5\" class=\"edge\">\n<title>4&#45;&gt;5</title>\n<path fill=\"none\" stroke=\"#000000\" d=\"M194.5706,-103.9815C179.5868,-94.0957 163.6332,-83.5701 148.7718,-73.7651\"/>\n<polygon fill=\"#000000\" stroke=\"#000000\" points=\"150.4379,-70.6713 140.1634,-68.0856 146.583,-76.5142 150.4379,-70.6713\"/>\n</g>\n<!-- 6 -->\n<g id=\"node7\" class=\"node\">\n<title>6</title>\n<polygon fill=\"none\" stroke=\"#000000\" points=\"320,-68 195,-68 195,0 320,0 320,-68\"/>\n<text text-anchor=\"middle\" x=\"257.5\" y=\"-52.8\" font-family=\"Times,serif\" font-size=\"14.00\" fill=\"#000000\">gini = 0.0</text>\n<text text-anchor=\"middle\" x=\"257.5\" y=\"-37.8\" font-family=\"Times,serif\" font-size=\"14.00\" fill=\"#000000\">samples = 2</text>\n<text text-anchor=\"middle\" x=\"257.5\" y=\"-22.8\" font-family=\"Times,serif\" font-size=\"14.00\" fill=\"#000000\">value = [87736, 0]</text>\n<text text-anchor=\"middle\" x=\"257.5\" y=\"-7.8\" font-family=\"Times,serif\" font-size=\"14.00\" fill=\"#000000\">class = y[0]</text>\n</g>\n<!-- 4&#45;&gt;6 -->\n<g id=\"edge6\" class=\"edge\">\n<title>4&#45;&gt;6</title>\n<path fill=\"none\" stroke=\"#000000\" d=\"M257.5,-103.9815C257.5,-95.618 257.5,-86.7965 257.5,-78.3409\"/>\n<polygon fill=\"#000000\" stroke=\"#000000\" points=\"261.0001,-78.2636 257.5,-68.2637 254.0001,-78.2637 261.0001,-78.2636\"/>\n</g>\n<!-- 8 -->\n<g id=\"node9\" class=\"node\">\n<title>8</title>\n<polygon fill=\"none\" stroke=\"#000000\" points=\"515,-68 338,-68 338,0 515,0 515,-68\"/>\n<text text-anchor=\"middle\" x=\"426.5\" y=\"-52.8\" font-family=\"Times,serif\" font-size=\"14.00\" fill=\"#000000\">gini = 0.302</text>\n<text text-anchor=\"middle\" x=\"426.5\" y=\"-37.8\" font-family=\"Times,serif\" font-size=\"14.00\" fill=\"#000000\">samples = 53</text>\n<text text-anchor=\"middle\" x=\"426.5\" y=\"-22.8\" font-family=\"Times,serif\" font-size=\"14.00\" fill=\"#000000\">value = [1930192, 439038]</text>\n<text text-anchor=\"middle\" x=\"426.5\" y=\"-7.8\" font-family=\"Times,serif\" font-size=\"14.00\" fill=\"#000000\">class = y[0]</text>\n</g>\n<!-- 7&#45;&gt;8 -->\n<g id=\"edge8\" class=\"edge\">\n<title>7&#45;&gt;8</title>\n<path fill=\"none\" stroke=\"#000000\" d=\"M503.0717,-103.9815C492.7139,-94.5151 481.7141,-84.462 471.3794,-75.0168\"/>\n<polygon fill=\"#000000\" stroke=\"#000000\" points=\"473.7331,-72.4264 463.9903,-68.2637 469.0107,-77.5935 473.7331,-72.4264\"/>\n</g>\n<!-- 9 -->\n<g id=\"node10\" class=\"node\">\n<title>9</title>\n<polygon fill=\"none\" stroke=\"#000000\" points=\"733.5,-68 533.5,-68 533.5,0 733.5,0 733.5,-68\"/>\n<text text-anchor=\"middle\" x=\"633.5\" y=\"-52.8\" font-family=\"Times,serif\" font-size=\"14.00\" fill=\"#000000\">gini = 0.492</text>\n<text text-anchor=\"middle\" x=\"633.5\" y=\"-37.8\" font-family=\"Times,serif\" font-size=\"14.00\" fill=\"#000000\">samples = 3314</text>\n<text text-anchor=\"middle\" x=\"633.5\" y=\"-22.8\" font-family=\"Times,serif\" font-size=\"14.00\" fill=\"#000000\">value = [85454864, 66636212]</text>\n<text text-anchor=\"middle\" x=\"633.5\" y=\"-7.8\" font-family=\"Times,serif\" font-size=\"14.00\" fill=\"#000000\">class = y[0]</text>\n</g>\n<!-- 7&#45;&gt;9 -->\n<g id=\"edge9\" class=\"edge\">\n<title>7&#45;&gt;9</title>\n<path fill=\"none\" stroke=\"#000000\" d=\"M580.1509,-103.9815C587.0171,-94.9747 594.2882,-85.4367 601.1798,-76.3965\"/>\n<polygon fill=\"#000000\" stroke=\"#000000\" points=\"604.1005,-78.3383 607.3797,-68.2637 598.5336,-74.0945 604.1005,-78.3383\"/>\n</g>\n<!-- 11 -->\n<g id=\"node12\" class=\"node\">\n<title>11</title>\n<polygon fill=\"none\" stroke=\"#000000\" points=\"1214.5,-187 984.5,-187 984.5,-104 1214.5,-104 1214.5,-187\"/>\n<text text-anchor=\"middle\" x=\"1099.5\" y=\"-171.8\" font-family=\"Times,serif\" font-size=\"14.00\" fill=\"#000000\">32 &lt;= 0.5</text>\n<text text-anchor=\"middle\" x=\"1099.5\" y=\"-156.8\" font-family=\"Times,serif\" font-size=\"14.00\" fill=\"#000000\">gini = 0.496</text>\n<text text-anchor=\"middle\" x=\"1099.5\" y=\"-141.8\" font-family=\"Times,serif\" font-size=\"14.00\" fill=\"#000000\">samples = 66083</text>\n<text text-anchor=\"middle\" x=\"1099.5\" y=\"-126.8\" font-family=\"Times,serif\" font-size=\"14.00\" fill=\"#000000\">value = [1399125992, 1667807798]</text>\n<text text-anchor=\"middle\" x=\"1099.5\" y=\"-111.8\" font-family=\"Times,serif\" font-size=\"14.00\" fill=\"#000000\">class = y[1]</text>\n</g>\n<!-- 10&#45;&gt;11 -->\n<g id=\"edge11\" class=\"edge\">\n<title>10&#45;&gt;11</title>\n<path fill=\"none\" stroke=\"#000000\" d=\"M1174.9288,-222.8796C1166.0618,-213.7832 1156.5956,-204.0722 1147.4709,-194.7116\"/>\n<polygon fill=\"#000000\" stroke=\"#000000\" points=\"1149.7309,-192.0158 1140.2443,-187.2981 1144.7183,-196.9019 1149.7309,-192.0158\"/>\n</g>\n<!-- 14 -->\n<g id=\"node15\" class=\"node\">\n<title>14</title>\n<polygon fill=\"none\" stroke=\"#000000\" points=\"1432.5,-187 1232.5,-187 1232.5,-104 1432.5,-104 1432.5,-187\"/>\n<text text-anchor=\"middle\" x=\"1332.5\" y=\"-171.8\" font-family=\"Times,serif\" font-size=\"14.00\" fill=\"#000000\">86 &lt;= &#45;0.5</text>\n<text text-anchor=\"middle\" x=\"1332.5\" y=\"-156.8\" font-family=\"Times,serif\" font-size=\"14.00\" fill=\"#000000\">gini = 0.495</text>\n<text text-anchor=\"middle\" x=\"1332.5\" y=\"-141.8\" font-family=\"Times,serif\" font-size=\"14.00\" fill=\"#000000\">samples = 3240</text>\n<text text-anchor=\"middle\" x=\"1332.5\" y=\"-126.8\" font-family=\"Times,serif\" font-size=\"14.00\" fill=\"#000000\">value = [82077028, 66782558]</text>\n<text text-anchor=\"middle\" x=\"1332.5\" y=\"-111.8\" font-family=\"Times,serif\" font-size=\"14.00\" fill=\"#000000\">class = y[0]</text>\n</g>\n<!-- 10&#45;&gt;14 -->\n<g id=\"edge14\" class=\"edge\">\n<title>10&#45;&gt;14</title>\n<path fill=\"none\" stroke=\"#000000\" d=\"M1256.4209,-222.8796C1265.453,-213.6931 1275.1013,-203.8798 1284.3888,-194.4336\"/>\n<polygon fill=\"#000000\" stroke=\"#000000\" points=\"1286.8893,-196.8827 1291.4044,-187.2981 1281.8977,-191.975 1286.8893,-196.8827\"/>\n</g>\n<!-- 12 -->\n<g id=\"node13\" class=\"node\">\n<title>12</title>\n<polygon fill=\"none\" stroke=\"#000000\" points=\"981.5,-68 751.5,-68 751.5,0 981.5,0 981.5,-68\"/>\n<text text-anchor=\"middle\" x=\"866.5\" y=\"-52.8\" font-family=\"Times,serif\" font-size=\"14.00\" fill=\"#000000\">gini = 0.497</text>\n<text text-anchor=\"middle\" x=\"866.5\" y=\"-37.8\" font-family=\"Times,serif\" font-size=\"14.00\" fill=\"#000000\">samples = 58603</text>\n<text text-anchor=\"middle\" x=\"866.5\" y=\"-22.8\" font-family=\"Times,serif\" font-size=\"14.00\" fill=\"#000000\">value = [1258353580, 1459459876]</text>\n<text text-anchor=\"middle\" x=\"866.5\" y=\"-7.8\" font-family=\"Times,serif\" font-size=\"14.00\" fill=\"#000000\">class = y[1]</text>\n</g>\n<!-- 11&#45;&gt;12 -->\n<g id=\"edge12\" class=\"edge\">\n<title>11&#45;&gt;12</title>\n<path fill=\"none\" stroke=\"#000000\" d=\"M1012.7394,-103.9815C991.2124,-93.68 968.2336,-82.6837 947.0197,-72.532\"/>\n<polygon fill=\"#000000\" stroke=\"#000000\" points=\"948.2595,-69.2452 937.7283,-68.0856 945.2378,-75.5594 948.2595,-69.2452\"/>\n</g>\n<!-- 13 -->\n<g id=\"node14\" class=\"node\">\n<title>13</title>\n<polygon fill=\"none\" stroke=\"#000000\" points=\"1215,-68 1000,-68 1000,0 1215,0 1215,-68\"/>\n<text text-anchor=\"middle\" x=\"1107.5\" y=\"-52.8\" font-family=\"Times,serif\" font-size=\"14.00\" fill=\"#000000\">gini = 0.481</text>\n<text text-anchor=\"middle\" x=\"1107.5\" y=\"-37.8\" font-family=\"Times,serif\" font-size=\"14.00\" fill=\"#000000\">samples = 7480</text>\n<text text-anchor=\"middle\" x=\"1107.5\" y=\"-22.8\" font-family=\"Times,serif\" font-size=\"14.00\" fill=\"#000000\">value = [140772412, 208347922]</text>\n<text text-anchor=\"middle\" x=\"1107.5\" y=\"-7.8\" font-family=\"Times,serif\" font-size=\"14.00\" fill=\"#000000\">class = y[1]</text>\n</g>\n<!-- 11&#45;&gt;13 -->\n<g id=\"edge13\" class=\"edge\">\n<title>11&#45;&gt;13</title>\n<path fill=\"none\" stroke=\"#000000\" d=\"M1102.4789,-103.9815C1103.079,-95.618 1103.7119,-86.7965 1104.3186,-78.3409\"/>\n<polygon fill=\"#000000\" stroke=\"#000000\" points=\"1107.8169,-78.4885 1105.0416,-68.2637 1100.8349,-77.9875 1107.8169,-78.4885\"/>\n</g>\n<!-- 15 -->\n<g id=\"node16\" class=\"node\">\n<title>15</title>\n<polygon fill=\"none\" stroke=\"#000000\" points=\"1418,-68 1233,-68 1233,0 1418,0 1418,-68\"/>\n<text text-anchor=\"middle\" x=\"1325.5\" y=\"-52.8\" font-family=\"Times,serif\" font-size=\"14.00\" fill=\"#000000\">gini = 0.469</text>\n<text text-anchor=\"middle\" x=\"1325.5\" y=\"-37.8\" font-family=\"Times,serif\" font-size=\"14.00\" fill=\"#000000\">samples = 132</text>\n<text text-anchor=\"middle\" x=\"1325.5\" y=\"-22.8\" font-family=\"Times,serif\" font-size=\"14.00\" fill=\"#000000\">value = [2325004, 3853778]</text>\n<text text-anchor=\"middle\" x=\"1325.5\" y=\"-7.8\" font-family=\"Times,serif\" font-size=\"14.00\" fill=\"#000000\">class = y[1]</text>\n</g>\n<!-- 14&#45;&gt;15 -->\n<g id=\"edge15\" class=\"edge\">\n<title>14&#45;&gt;15</title>\n<path fill=\"none\" stroke=\"#000000\" d=\"M1329.8935,-103.9815C1329.3684,-95.618 1328.8146,-86.7965 1328.2837,-78.3409\"/>\n<polygon fill=\"#000000\" stroke=\"#000000\" points=\"1331.7709,-78.0247 1327.6511,-68.2637 1324.7846,-78.4634 1331.7709,-78.0247\"/>\n</g>\n<!-- 16 -->\n<g id=\"node17\" class=\"node\">\n<title>16</title>\n<polygon fill=\"none\" stroke=\"#000000\" points=\"1636.5,-68 1436.5,-68 1436.5,0 1636.5,0 1636.5,-68\"/>\n<text text-anchor=\"middle\" x=\"1536.5\" y=\"-52.8\" font-family=\"Times,serif\" font-size=\"14.00\" fill=\"#000000\">gini = 0.493</text>\n<text text-anchor=\"middle\" x=\"1536.5\" y=\"-37.8\" font-family=\"Times,serif\" font-size=\"14.00\" fill=\"#000000\">samples = 3108</text>\n<text text-anchor=\"middle\" x=\"1536.5\" y=\"-22.8\" font-family=\"Times,serif\" font-size=\"14.00\" fill=\"#000000\">value = [79752024, 62928780]</text>\n<text text-anchor=\"middle\" x=\"1536.5\" y=\"-7.8\" font-family=\"Times,serif\" font-size=\"14.00\" fill=\"#000000\">class = y[0]</text>\n</g>\n<!-- 14&#45;&gt;16 -->\n<g id=\"edge16\" class=\"edge\">\n<title>14&#45;&gt;16</title>\n<path fill=\"none\" stroke=\"#000000\" d=\"M1408.4621,-103.9815C1427.0562,-93.8186 1446.8874,-82.9794 1465.2516,-72.9421\"/>\n<polygon fill=\"#000000\" stroke=\"#000000\" points=\"1467.0408,-75.9529 1474.1371,-68.0856 1463.6836,-69.8105 1467.0408,-75.9529\"/>\n</g>\n<!-- 18 -->\n<g id=\"node19\" class=\"node\">\n<title>18</title>\n<polygon fill=\"none\" stroke=\"#000000\" points=\"1983,-306 1798,-306 1798,-223 1983,-223 1983,-306\"/>\n<text text-anchor=\"middle\" x=\"1890.5\" y=\"-290.8\" font-family=\"Times,serif\" font-size=\"14.00\" fill=\"#000000\">109 &lt;= &#45;0.5</text>\n<text text-anchor=\"middle\" x=\"1890.5\" y=\"-275.8\" font-family=\"Times,serif\" font-size=\"14.00\" fill=\"#000000\">gini = 0.34</text>\n<text text-anchor=\"middle\" x=\"1890.5\" y=\"-260.8\" font-family=\"Times,serif\" font-size=\"14.00\" fill=\"#000000\">samples = 161</text>\n<text text-anchor=\"middle\" x=\"1890.5\" y=\"-245.8\" font-family=\"Times,serif\" font-size=\"14.00\" fill=\"#000000\">value = [1666984, 6000186]</text>\n<text text-anchor=\"middle\" x=\"1890.5\" y=\"-230.8\" font-family=\"Times,serif\" font-size=\"14.00\" fill=\"#000000\">class = y[1]</text>\n</g>\n<!-- 17&#45;&gt;18 -->\n<g id=\"edge18\" class=\"edge\">\n<title>17&#45;&gt;18</title>\n<path fill=\"none\" stroke=\"#000000\" d=\"M2028.3527,-341.8796C2010.6007,-331.915 1991.5348,-321.2129 1973.4148,-311.0418\"/>\n<polygon fill=\"#000000\" stroke=\"#000000\" points=\"1975.0388,-307.9397 1964.6054,-306.0969 1971.6124,-314.0438 1975.0388,-307.9397\"/>\n</g>\n<!-- 23 -->\n<g id=\"node24\" class=\"node\">\n<title>23</title>\n<polygon fill=\"none\" stroke=\"#000000\" points=\"2314,-306 2107,-306 2107,-223 2314,-223 2314,-306\"/>\n<text text-anchor=\"middle\" x=\"2210.5\" y=\"-290.8\" font-family=\"Times,serif\" font-size=\"14.00\" fill=\"#000000\">69 &lt;= 0.5</text>\n<text text-anchor=\"middle\" x=\"2210.5\" y=\"-275.8\" font-family=\"Times,serif\" font-size=\"14.00\" fill=\"#000000\">gini = 0.454</text>\n<text text-anchor=\"middle\" x=\"2210.5\" y=\"-260.8\" font-family=\"Times,serif\" font-size=\"14.00\" fill=\"#000000\">samples = 3468</text>\n<text text-anchor=\"middle\" x=\"2210.5\" y=\"-245.8\" font-family=\"Times,serif\" font-size=\"14.00\" fill=\"#000000\">value = [56721324, 106100850]</text>\n<text text-anchor=\"middle\" x=\"2210.5\" y=\"-230.8\" font-family=\"Times,serif\" font-size=\"14.00\" fill=\"#000000\">class = y[1]</text>\n</g>\n<!-- 17&#45;&gt;23 -->\n<g id=\"edge23\" class=\"edge\">\n<title>17&#45;&gt;23</title>\n<path fill=\"none\" stroke=\"#000000\" d=\"M2140.2732,-341.8796C2148.5287,-332.7832 2157.342,-323.0722 2165.8374,-313.7116\"/>\n<polygon fill=\"#000000\" stroke=\"#000000\" points=\"2168.4368,-316.0553 2172.5656,-306.2981 2163.2533,-311.3509 2168.4368,-316.0553\"/>\n</g>\n<!-- 19 -->\n<g id=\"node20\" class=\"node\">\n<title>19</title>\n<polygon fill=\"none\" stroke=\"#000000\" points=\"1779.5,-179.5 1647.5,-179.5 1647.5,-111.5 1779.5,-111.5 1779.5,-179.5\"/>\n<text text-anchor=\"middle\" x=\"1713.5\" y=\"-164.3\" font-family=\"Times,serif\" font-size=\"14.00\" fill=\"#000000\">gini = 0.0</text>\n<text text-anchor=\"middle\" x=\"1713.5\" y=\"-149.3\" font-family=\"Times,serif\" font-size=\"14.00\" fill=\"#000000\">samples = 3</text>\n<text text-anchor=\"middle\" x=\"1713.5\" y=\"-134.3\" font-family=\"Times,serif\" font-size=\"14.00\" fill=\"#000000\">value = [131604, 0]</text>\n<text text-anchor=\"middle\" x=\"1713.5\" y=\"-119.3\" font-family=\"Times,serif\" font-size=\"14.00\" fill=\"#000000\">class = y[0]</text>\n</g>\n<!-- 18&#45;&gt;19 -->\n<g id=\"edge19\" class=\"edge\">\n<title>18&#45;&gt;19</title>\n<path fill=\"none\" stroke=\"#000000\" d=\"M1828.594,-222.8796C1810.5172,-210.7263 1790.8086,-197.4759 1772.8913,-185.4297\"/>\n<polygon fill=\"#000000\" stroke=\"#000000\" points=\"1774.5061,-182.2979 1764.2544,-179.623 1770.6004,-188.1071 1774.5061,-182.2979\"/>\n</g>\n<!-- 20 -->\n<g id=\"node21\" class=\"node\">\n<title>20</title>\n<polygon fill=\"none\" stroke=\"#000000\" points=\"1983,-187 1798,-187 1798,-104 1983,-104 1983,-187\"/>\n<text text-anchor=\"middle\" x=\"1890.5\" y=\"-171.8\" font-family=\"Times,serif\" font-size=\"14.00\" fill=\"#000000\">96 &lt;= &#45;0.5</text>\n<text text-anchor=\"middle\" x=\"1890.5\" y=\"-156.8\" font-family=\"Times,serif\" font-size=\"14.00\" fill=\"#000000\">gini = 0.324</text>\n<text text-anchor=\"middle\" x=\"1890.5\" y=\"-141.8\" font-family=\"Times,serif\" font-size=\"14.00\" fill=\"#000000\">samples = 158</text>\n<text text-anchor=\"middle\" x=\"1890.5\" y=\"-126.8\" font-family=\"Times,serif\" font-size=\"14.00\" fill=\"#000000\">value = [1535380, 6000186]</text>\n<text text-anchor=\"middle\" x=\"1890.5\" y=\"-111.8\" font-family=\"Times,serif\" font-size=\"14.00\" fill=\"#000000\">class = y[1]</text>\n</g>\n<!-- 18&#45;&gt;20 -->\n<g id=\"edge20\" class=\"edge\">\n<title>18&#45;&gt;20</title>\n<path fill=\"none\" stroke=\"#000000\" d=\"M1890.5,-222.8796C1890.5,-214.6838 1890.5,-205.9891 1890.5,-197.5013\"/>\n<polygon fill=\"#000000\" stroke=\"#000000\" points=\"1894.0001,-197.298 1890.5,-187.2981 1887.0001,-197.2981 1894.0001,-197.298\"/>\n</g>\n<!-- 21 -->\n<g id=\"node22\" class=\"node\">\n<title>21</title>\n<polygon fill=\"none\" stroke=\"#000000\" points=\"1780,-68 1655,-68 1655,0 1780,0 1780,-68\"/>\n<text text-anchor=\"middle\" x=\"1717.5\" y=\"-52.8\" font-family=\"Times,serif\" font-size=\"14.00\" fill=\"#000000\">gini = 0.0</text>\n<text text-anchor=\"middle\" x=\"1717.5\" y=\"-37.8\" font-family=\"Times,serif\" font-size=\"14.00\" fill=\"#000000\">samples = 2</text>\n<text text-anchor=\"middle\" x=\"1717.5\" y=\"-22.8\" font-family=\"Times,serif\" font-size=\"14.00\" fill=\"#000000\">value = [87736, 0]</text>\n<text text-anchor=\"middle\" x=\"1717.5\" y=\"-7.8\" font-family=\"Times,serif\" font-size=\"14.00\" fill=\"#000000\">class = y[0]</text>\n</g>\n<!-- 20&#45;&gt;21 -->\n<g id=\"edge21\" class=\"edge\">\n<title>20&#45;&gt;21</title>\n<path fill=\"none\" stroke=\"#000000\" d=\"M1826.0812,-103.9815C1810.7427,-94.0957 1794.4115,-83.5701 1779.1984,-73.7651\"/>\n<polygon fill=\"#000000\" stroke=\"#000000\" points=\"1780.6878,-70.5611 1770.3862,-68.0856 1776.8956,-76.445 1780.6878,-70.5611\"/>\n</g>\n<!-- 22 -->\n<g id=\"node23\" class=\"node\">\n<title>22</title>\n<polygon fill=\"none\" stroke=\"#000000\" points=\"1983,-68 1798,-68 1798,0 1983,0 1983,-68\"/>\n<text text-anchor=\"middle\" x=\"1890.5\" y=\"-52.8\" font-family=\"Times,serif\" font-size=\"14.00\" fill=\"#000000\">gini = 0.313</text>\n<text text-anchor=\"middle\" x=\"1890.5\" y=\"-37.8\" font-family=\"Times,serif\" font-size=\"14.00\" fill=\"#000000\">samples = 156</text>\n<text text-anchor=\"middle\" x=\"1890.5\" y=\"-22.8\" font-family=\"Times,serif\" font-size=\"14.00\" fill=\"#000000\">value = [1447644, 6000186]</text>\n<text text-anchor=\"middle\" x=\"1890.5\" y=\"-7.8\" font-family=\"Times,serif\" font-size=\"14.00\" fill=\"#000000\">class = y[1]</text>\n</g>\n<!-- 20&#45;&gt;22 -->\n<g id=\"edge22\" class=\"edge\">\n<title>20&#45;&gt;22</title>\n<path fill=\"none\" stroke=\"#000000\" d=\"M1890.5,-103.9815C1890.5,-95.618 1890.5,-86.7965 1890.5,-78.3409\"/>\n<polygon fill=\"#000000\" stroke=\"#000000\" points=\"1894.0001,-78.2636 1890.5,-68.2637 1887.0001,-78.2637 1894.0001,-78.2636\"/>\n</g>\n<!-- 24 -->\n<g id=\"node25\" class=\"node\">\n<title>24</title>\n<polygon fill=\"none\" stroke=\"#000000\" points=\"2314,-187 2107,-187 2107,-104 2314,-104 2314,-187\"/>\n<text text-anchor=\"middle\" x=\"2210.5\" y=\"-171.8\" font-family=\"Times,serif\" font-size=\"14.00\" fill=\"#000000\">9 &lt;= &#45;0.5</text>\n<text text-anchor=\"middle\" x=\"2210.5\" y=\"-156.8\" font-family=\"Times,serif\" font-size=\"14.00\" fill=\"#000000\">gini = 0.452</text>\n<text text-anchor=\"middle\" x=\"2210.5\" y=\"-141.8\" font-family=\"Times,serif\" font-size=\"14.00\" fill=\"#000000\">samples = 3426</text>\n<text text-anchor=\"middle\" x=\"2210.5\" y=\"-126.8\" font-family=\"Times,serif\" font-size=\"14.00\" fill=\"#000000\">value = [55624624, 105271556]</text>\n<text text-anchor=\"middle\" x=\"2210.5\" y=\"-111.8\" font-family=\"Times,serif\" font-size=\"14.00\" fill=\"#000000\">class = y[1]</text>\n</g>\n<!-- 23&#45;&gt;24 -->\n<g id=\"edge24\" class=\"edge\">\n<title>23&#45;&gt;24</title>\n<path fill=\"none\" stroke=\"#000000\" d=\"M2210.5,-222.8796C2210.5,-214.6838 2210.5,-205.9891 2210.5,-197.5013\"/>\n<polygon fill=\"#000000\" stroke=\"#000000\" points=\"2214.0001,-197.298 2210.5,-187.2981 2207.0001,-197.2981 2214.0001,-197.298\"/>\n</g>\n<!-- 27 -->\n<g id=\"node28\" class=\"node\">\n<title>27</title>\n<polygon fill=\"none\" stroke=\"#000000\" points=\"2614,-187 2437,-187 2437,-104 2614,-104 2614,-187\"/>\n<text text-anchor=\"middle\" x=\"2525.5\" y=\"-171.8\" font-family=\"Times,serif\" font-size=\"14.00\" fill=\"#000000\">104 &lt;= 0.5</text>\n<text text-anchor=\"middle\" x=\"2525.5\" y=\"-156.8\" font-family=\"Times,serif\" font-size=\"14.00\" fill=\"#000000\">gini = 0.49</text>\n<text text-anchor=\"middle\" x=\"2525.5\" y=\"-141.8\" font-family=\"Times,serif\" font-size=\"14.00\" fill=\"#000000\">samples = 42</text>\n<text text-anchor=\"middle\" x=\"2525.5\" y=\"-126.8\" font-family=\"Times,serif\" font-size=\"14.00\" fill=\"#000000\">value = [1096700, 829294]</text>\n<text text-anchor=\"middle\" x=\"2525.5\" y=\"-111.8\" font-family=\"Times,serif\" font-size=\"14.00\" fill=\"#000000\">class = y[0]</text>\n</g>\n<!-- 23&#45;&gt;27 -->\n<g id=\"edge27\" class=\"edge\">\n<title>23&#45;&gt;27</title>\n<path fill=\"none\" stroke=\"#000000\" d=\"M2314.0791,-225.3701C2350.5397,-211.5961 2391.3846,-196.1658 2427.3814,-182.567\"/>\n<polygon fill=\"#000000\" stroke=\"#000000\" points=\"2428.7911,-185.776 2436.9089,-178.9678 2426.3172,-179.2277 2428.7911,-185.776\"/>\n</g>\n<!-- 25 -->\n<g id=\"node26\" class=\"node\">\n<title>25</title>\n<polygon fill=\"none\" stroke=\"#000000\" points=\"2200,-68 2001,-68 2001,0 2200,0 2200,-68\"/>\n<text text-anchor=\"middle\" x=\"2100.5\" y=\"-52.8\" font-family=\"Times,serif\" font-size=\"14.00\" fill=\"#000000\">gini = 0.477</text>\n<text text-anchor=\"middle\" x=\"2100.5\" y=\"-37.8\" font-family=\"Times,serif\" font-size=\"14.00\" fill=\"#000000\">samples = 714</text>\n<text text-anchor=\"middle\" x=\"2100.5\" y=\"-22.8\" font-family=\"Times,serif\" font-size=\"14.00\" fill=\"#000000\">value = [13116532, 20244530]</text>\n<text text-anchor=\"middle\" x=\"2100.5\" y=\"-7.8\" font-family=\"Times,serif\" font-size=\"14.00\" fill=\"#000000\">class = y[1]</text>\n</g>\n<!-- 24&#45;&gt;25 -->\n<g id=\"edge25\" class=\"edge\">\n<title>24&#45;&gt;25</title>\n<path fill=\"none\" stroke=\"#000000\" d=\"M2169.5401,-103.9815C2160.3824,-94.6989 2150.6681,-84.8522 2141.5085,-75.5677\"/>\n<polygon fill=\"#000000\" stroke=\"#000000\" points=\"2143.8174,-72.9244 2134.3027,-68.2637 2138.8342,-77.8406 2143.8174,-72.9244\"/>\n</g>\n<!-- 26 -->\n<g id=\"node27\" class=\"node\">\n<title>26</title>\n<polygon fill=\"none\" stroke=\"#000000\" points=\"2418.5,-68 2218.5,-68 2218.5,0 2418.5,0 2418.5,-68\"/>\n<text text-anchor=\"middle\" x=\"2318.5\" y=\"-52.8\" font-family=\"Times,serif\" font-size=\"14.00\" fill=\"#000000\">gini = 0.444</text>\n<text text-anchor=\"middle\" x=\"2318.5\" y=\"-37.8\" font-family=\"Times,serif\" font-size=\"14.00\" fill=\"#000000\">samples = 2712</text>\n<text text-anchor=\"middle\" x=\"2318.5\" y=\"-22.8\" font-family=\"Times,serif\" font-size=\"14.00\" fill=\"#000000\">value = [42508092, 85027026]</text>\n<text text-anchor=\"middle\" x=\"2318.5\" y=\"-7.8\" font-family=\"Times,serif\" font-size=\"14.00\" fill=\"#000000\">class = y[1]</text>\n</g>\n<!-- 24&#45;&gt;26 -->\n<g id=\"edge26\" class=\"edge\">\n<title>24&#45;&gt;26</title>\n<path fill=\"none\" stroke=\"#000000\" d=\"M2250.7152,-103.9815C2259.7064,-94.6989 2269.244,-84.8522 2278.2371,-75.5677\"/>\n<polygon fill=\"#000000\" stroke=\"#000000\" points=\"2280.8684,-77.8817 2285.3119,-68.2637 2275.8404,-73.0115 2280.8684,-77.8817\"/>\n</g>\n<!-- 28 -->\n<g id=\"node29\" class=\"node\">\n<title>28</title>\n<polygon fill=\"none\" stroke=\"#000000\" points=\"2614,-68 2437,-68 2437,0 2614,0 2614,-68\"/>\n<text text-anchor=\"middle\" x=\"2525.5\" y=\"-52.8\" font-family=\"Times,serif\" font-size=\"14.00\" fill=\"#000000\">gini = 0.464</text>\n<text text-anchor=\"middle\" x=\"2525.5\" y=\"-37.8\" font-family=\"Times,serif\" font-size=\"14.00\" fill=\"#000000\">samples = 38</text>\n<text text-anchor=\"middle\" x=\"2525.5\" y=\"-22.8\" font-family=\"Times,serif\" font-size=\"14.00\" fill=\"#000000\">value = [1096700, 634166]</text>\n<text text-anchor=\"middle\" x=\"2525.5\" y=\"-7.8\" font-family=\"Times,serif\" font-size=\"14.00\" fill=\"#000000\">class = y[0]</text>\n</g>\n<!-- 27&#45;&gt;28 -->\n<g id=\"edge28\" class=\"edge\">\n<title>27&#45;&gt;28</title>\n<path fill=\"none\" stroke=\"#000000\" d=\"M2525.5,-103.9815C2525.5,-95.618 2525.5,-86.7965 2525.5,-78.3409\"/>\n<polygon fill=\"#000000\" stroke=\"#000000\" points=\"2529.0001,-78.2636 2525.5,-68.2637 2522.0001,-78.2637 2529.0001,-78.2636\"/>\n</g>\n<!-- 29 -->\n<g id=\"node30\" class=\"node\">\n<title>29</title>\n<polygon fill=\"none\" stroke=\"#000000\" points=\"2764.5,-68 2632.5,-68 2632.5,0 2764.5,0 2764.5,-68\"/>\n<text text-anchor=\"middle\" x=\"2698.5\" y=\"-52.8\" font-family=\"Times,serif\" font-size=\"14.00\" fill=\"#000000\">gini = 0.0</text>\n<text text-anchor=\"middle\" x=\"2698.5\" y=\"-37.8\" font-family=\"Times,serif\" font-size=\"14.00\" fill=\"#000000\">samples = 4</text>\n<text text-anchor=\"middle\" x=\"2698.5\" y=\"-22.8\" font-family=\"Times,serif\" font-size=\"14.00\" fill=\"#000000\">value = [0, 195128]</text>\n<text text-anchor=\"middle\" x=\"2698.5\" y=\"-7.8\" font-family=\"Times,serif\" font-size=\"14.00\" fill=\"#000000\">class = y[1]</text>\n</g>\n<!-- 27&#45;&gt;29 -->\n<g id=\"edge29\" class=\"edge\">\n<title>27&#45;&gt;29</title>\n<path fill=\"none\" stroke=\"#000000\" d=\"M2589.9188,-103.9815C2605.2573,-94.0957 2621.5885,-83.5701 2636.8016,-73.7651\"/>\n<polygon fill=\"#000000\" stroke=\"#000000\" points=\"2639.1044,-76.445 2645.6138,-68.0856 2635.3122,-70.5611 2639.1044,-76.445\"/>\n</g>\n<!-- 31 -->\n<g id=\"node32\" class=\"node\">\n<title>31</title>\n<polygon fill=\"none\" stroke=\"#000000\" points=\"3255.5,-425 3055.5,-425 3055.5,-342 3255.5,-342 3255.5,-425\"/>\n<text text-anchor=\"middle\" x=\"3155.5\" y=\"-409.8\" font-family=\"Times,serif\" font-size=\"14.00\" fill=\"#000000\">94 &lt;= &#45;0.5</text>\n<text text-anchor=\"middle\" x=\"3155.5\" y=\"-394.8\" font-family=\"Times,serif\" font-size=\"14.00\" fill=\"#000000\">gini = 0.499</text>\n<text text-anchor=\"middle\" x=\"3155.5\" y=\"-379.8\" font-family=\"Times,serif\" font-size=\"14.00\" fill=\"#000000\">samples = 993</text>\n<text text-anchor=\"middle\" x=\"3155.5\" y=\"-364.8\" font-family=\"Times,serif\" font-size=\"14.00\" fill=\"#000000\">value = [22241076, 23708052]</text>\n<text text-anchor=\"middle\" x=\"3155.5\" y=\"-349.8\" font-family=\"Times,serif\" font-size=\"14.00\" fill=\"#000000\">class = y[1]</text>\n</g>\n<!-- 30&#45;&gt;31 -->\n<g id=\"edge31\" class=\"edge\">\n<title>30&#45;&gt;31</title>\n<path fill=\"none\" stroke=\"#000000\" d=\"M3155.5,-460.8796C3155.5,-452.6838 3155.5,-443.9891 3155.5,-435.5013\"/>\n<polygon fill=\"#000000\" stroke=\"#000000\" points=\"3159.0001,-435.298 3155.5,-425.2981 3152.0001,-435.2981 3159.0001,-435.298\"/>\n</g>\n<!-- 44 -->\n<g id=\"node45\" class=\"node\">\n<title>44</title>\n<polygon fill=\"none\" stroke=\"#000000\" points=\"4400.5,-425 4186.5,-425 4186.5,-342 4400.5,-342 4400.5,-425\"/>\n<text text-anchor=\"middle\" x=\"4293.5\" y=\"-409.8\" font-family=\"Times,serif\" font-size=\"14.00\" fill=\"#000000\">22 &lt;= &#45;0.5</text>\n<text text-anchor=\"middle\" x=\"4293.5\" y=\"-394.8\" font-family=\"Times,serif\" font-size=\"14.00\" fill=\"#000000\">gini = 0.473</text>\n<text text-anchor=\"middle\" x=\"4293.5\" y=\"-379.8\" font-family=\"Times,serif\" font-size=\"14.00\" fill=\"#000000\">samples = 15308</text>\n<text text-anchor=\"middle\" x=\"4293.5\" y=\"-364.8\" font-family=\"Times,serif\" font-size=\"14.00\" fill=\"#000000\">value = [274833020, 441135626]</text>\n<text text-anchor=\"middle\" x=\"4293.5\" y=\"-349.8\" font-family=\"Times,serif\" font-size=\"14.00\" fill=\"#000000\">class = y[1]</text>\n</g>\n<!-- 30&#45;&gt;44 -->\n<g id=\"edge44\" class=\"edge\">\n<title>30&#45;&gt;44</title>\n<path fill=\"none\" stroke=\"#000000\" d=\"M3263.0728,-491.2512C3477.1121,-468.8692 3954.7766,-418.9201 4176.3954,-395.7456\"/>\n<polygon fill=\"#000000\" stroke=\"#000000\" points=\"4176.8487,-399.2173 4186.4305,-394.6962 4176.1207,-392.2553 4176.8487,-399.2173\"/>\n</g>\n<!-- 32 -->\n<g id=\"node33\" class=\"node\">\n<title>32</title>\n<polygon fill=\"none\" stroke=\"#000000\" points=\"3140,-306 2963,-306 2963,-223 3140,-223 3140,-306\"/>\n<text text-anchor=\"middle\" x=\"3051.5\" y=\"-290.8\" font-family=\"Times,serif\" font-size=\"14.00\" fill=\"#000000\">21 &lt;= &#45;0.5</text>\n<text text-anchor=\"middle\" x=\"3051.5\" y=\"-275.8\" font-family=\"Times,serif\" font-size=\"14.00\" fill=\"#000000\">gini = 0.389</text>\n<text text-anchor=\"middle\" x=\"3051.5\" y=\"-260.8\" font-family=\"Times,serif\" font-size=\"14.00\" fill=\"#000000\">samples = 45</text>\n<text text-anchor=\"middle\" x=\"3051.5\" y=\"-245.8\" font-family=\"Times,serif\" font-size=\"14.00\" fill=\"#000000\">value = [1491512, 536602]</text>\n<text text-anchor=\"middle\" x=\"3051.5\" y=\"-230.8\" font-family=\"Times,serif\" font-size=\"14.00\" fill=\"#000000\">class = y[0]</text>\n</g>\n<!-- 31&#45;&gt;32 -->\n<g id=\"edge32\" class=\"edge\">\n<title>31&#45;&gt;32</title>\n<path fill=\"none\" stroke=\"#000000\" d=\"M3119.1258,-341.8796C3111.2548,-332.8733 3102.8571,-323.2644 3094.7515,-313.9897\"/>\n<polygon fill=\"#000000\" stroke=\"#000000\" points=\"3097.2454,-311.5246 3088.0294,-306.2981 3091.9746,-316.131 3097.2454,-311.5246\"/>\n</g>\n<!-- 37 -->\n<g id=\"node38\" class=\"node\">\n<title>37</title>\n<polygon fill=\"none\" stroke=\"#000000\" points=\"3420.5,-306 3220.5,-306 3220.5,-223 3420.5,-223 3420.5,-306\"/>\n<text text-anchor=\"middle\" x=\"3320.5\" y=\"-290.8\" font-family=\"Times,serif\" font-size=\"14.00\" fill=\"#000000\">57 &lt;= &#45;0.5</text>\n<text text-anchor=\"middle\" x=\"3320.5\" y=\"-275.8\" font-family=\"Times,serif\" font-size=\"14.00\" fill=\"#000000\">gini = 0.498</text>\n<text text-anchor=\"middle\" x=\"3320.5\" y=\"-260.8\" font-family=\"Times,serif\" font-size=\"14.00\" fill=\"#000000\">samples = 948</text>\n<text text-anchor=\"middle\" x=\"3320.5\" y=\"-245.8\" font-family=\"Times,serif\" font-size=\"14.00\" fill=\"#000000\">value = [20749564, 23171450]</text>\n<text text-anchor=\"middle\" x=\"3320.5\" y=\"-230.8\" font-family=\"Times,serif\" font-size=\"14.00\" fill=\"#000000\">class = y[1]</text>\n</g>\n<!-- 31&#45;&gt;37 -->\n<g id=\"edge37\" class=\"edge\">\n<title>31&#45;&gt;37</title>\n<path fill=\"none\" stroke=\"#000000\" d=\"M3213.209,-341.8796C3226.523,-332.2774 3240.7866,-321.9903 3254.4259,-312.1534\"/>\n<polygon fill=\"#000000\" stroke=\"#000000\" points=\"3256.7602,-314.7852 3262.8236,-306.0969 3252.6655,-309.1077 3256.7602,-314.7852\"/>\n</g>\n<!-- 33 -->\n<g id=\"node34\" class=\"node\">\n<title>33</title>\n<polygon fill=\"none\" stroke=\"#000000\" points=\"2945,-179.5 2820,-179.5 2820,-111.5 2945,-111.5 2945,-179.5\"/>\n<text text-anchor=\"middle\" x=\"2882.5\" y=\"-164.3\" font-family=\"Times,serif\" font-size=\"14.00\" fill=\"#000000\">gini = 0.0</text>\n<text text-anchor=\"middle\" x=\"2882.5\" y=\"-149.3\" font-family=\"Times,serif\" font-size=\"14.00\" fill=\"#000000\">samples = 2</text>\n<text text-anchor=\"middle\" x=\"2882.5\" y=\"-134.3\" font-family=\"Times,serif\" font-size=\"14.00\" fill=\"#000000\">value = [0, 97564]</text>\n<text text-anchor=\"middle\" x=\"2882.5\" y=\"-119.3\" font-family=\"Times,serif\" font-size=\"14.00\" fill=\"#000000\">class = y[1]</text>\n</g>\n<!-- 32&#45;&gt;33 -->\n<g id=\"edge33\" class=\"edge\">\n<title>32&#45;&gt;33</title>\n<path fill=\"none\" stroke=\"#000000\" d=\"M2992.392,-222.8796C2975.1323,-210.7263 2956.3144,-197.4759 2939.207,-185.4297\"/>\n<polygon fill=\"#000000\" stroke=\"#000000\" points=\"2941.1519,-182.5187 2930.9604,-179.623 2937.1218,-188.2421 2941.1519,-182.5187\"/>\n</g>\n<!-- 34 -->\n<g id=\"node35\" class=\"node\">\n<title>34</title>\n<polygon fill=\"none\" stroke=\"#000000\" points=\"3140,-187 2963,-187 2963,-104 3140,-104 3140,-187\"/>\n<text text-anchor=\"middle\" x=\"3051.5\" y=\"-171.8\" font-family=\"Times,serif\" font-size=\"14.00\" fill=\"#000000\">73 &lt;= &#45;0.5</text>\n<text text-anchor=\"middle\" x=\"3051.5\" y=\"-156.8\" font-family=\"Times,serif\" font-size=\"14.00\" fill=\"#000000\">gini = 0.351</text>\n<text text-anchor=\"middle\" x=\"3051.5\" y=\"-141.8\" font-family=\"Times,serif\" font-size=\"14.00\" fill=\"#000000\">samples = 43</text>\n<text text-anchor=\"middle\" x=\"3051.5\" y=\"-126.8\" font-family=\"Times,serif\" font-size=\"14.00\" fill=\"#000000\">value = [1491512, 439038]</text>\n<text text-anchor=\"middle\" x=\"3051.5\" y=\"-111.8\" font-family=\"Times,serif\" font-size=\"14.00\" fill=\"#000000\">class = y[0]</text>\n</g>\n<!-- 32&#45;&gt;34 -->\n<g id=\"edge34\" class=\"edge\">\n<title>32&#45;&gt;34</title>\n<path fill=\"none\" stroke=\"#000000\" d=\"M3051.5,-222.8796C3051.5,-214.6838 3051.5,-205.9891 3051.5,-197.5013\"/>\n<polygon fill=\"#000000\" stroke=\"#000000\" points=\"3055.0001,-197.298 3051.5,-187.2981 3048.0001,-197.2981 3055.0001,-197.298\"/>\n</g>\n<!-- 35 -->\n<g id=\"node36\" class=\"node\">\n<title>35</title>\n<polygon fill=\"none\" stroke=\"#000000\" points=\"2944.5,-68 2782.5,-68 2782.5,0 2944.5,0 2944.5,-68\"/>\n<text text-anchor=\"middle\" x=\"2863.5\" y=\"-52.8\" font-family=\"Times,serif\" font-size=\"14.00\" fill=\"#000000\">gini = 0.355</text>\n<text text-anchor=\"middle\" x=\"2863.5\" y=\"-37.8\" font-family=\"Times,serif\" font-size=\"14.00\" fill=\"#000000\">samples = 4</text>\n<text text-anchor=\"middle\" x=\"2863.5\" y=\"-22.8\" font-family=\"Times,serif\" font-size=\"14.00\" fill=\"#000000\">value = [43868, 146346]</text>\n<text text-anchor=\"middle\" x=\"2863.5\" y=\"-7.8\" font-family=\"Times,serif\" font-size=\"14.00\" fill=\"#000000\">class = y[1]</text>\n</g>\n<!-- 34&#45;&gt;35 -->\n<g id=\"edge35\" class=\"edge\">\n<title>34&#45;&gt;35</title>\n<path fill=\"none\" stroke=\"#000000\" d=\"M2981.4957,-103.9815C2964.5158,-93.911 2946.4163,-83.1764 2929.6222,-73.2161\"/>\n<polygon fill=\"#000000\" stroke=\"#000000\" points=\"2931.3582,-70.1765 2920.9717,-68.0856 2927.7874,-76.1972 2931.3582,-70.1765\"/>\n</g>\n<!-- 36 -->\n<g id=\"node37\" class=\"node\">\n<title>36</title>\n<polygon fill=\"none\" stroke=\"#000000\" points=\"3140,-68 2963,-68 2963,0 3140,0 3140,-68\"/>\n<text text-anchor=\"middle\" x=\"3051.5\" y=\"-52.8\" font-family=\"Times,serif\" font-size=\"14.00\" fill=\"#000000\">gini = 0.28</text>\n<text text-anchor=\"middle\" x=\"3051.5\" y=\"-37.8\" font-family=\"Times,serif\" font-size=\"14.00\" fill=\"#000000\">samples = 39</text>\n<text text-anchor=\"middle\" x=\"3051.5\" y=\"-22.8\" font-family=\"Times,serif\" font-size=\"14.00\" fill=\"#000000\">value = [1447644, 292692]</text>\n<text text-anchor=\"middle\" x=\"3051.5\" y=\"-7.8\" font-family=\"Times,serif\" font-size=\"14.00\" fill=\"#000000\">class = y[0]</text>\n</g>\n<!-- 34&#45;&gt;36 -->\n<g id=\"edge36\" class=\"edge\">\n<title>34&#45;&gt;36</title>\n<path fill=\"none\" stroke=\"#000000\" d=\"M3051.5,-103.9815C3051.5,-95.618 3051.5,-86.7965 3051.5,-78.3409\"/>\n<polygon fill=\"#000000\" stroke=\"#000000\" points=\"3055.0001,-78.2636 3051.5,-68.2637 3048.0001,-78.2637 3055.0001,-78.2636\"/>\n</g>\n<!-- 38 -->\n<g id=\"node39\" class=\"node\">\n<title>38</title>\n<polygon fill=\"none\" stroke=\"#000000\" points=\"3408.5,-187 3232.5,-187 3232.5,-104 3408.5,-104 3408.5,-187\"/>\n<text text-anchor=\"middle\" x=\"3320.5\" y=\"-171.8\" font-family=\"Times,serif\" font-size=\"14.00\" fill=\"#000000\">6 &lt;= &#45;0.5</text>\n<text text-anchor=\"middle\" x=\"3320.5\" y=\"-156.8\" font-family=\"Times,serif\" font-size=\"14.00\" fill=\"#000000\">gini = 0.42</text>\n<text text-anchor=\"middle\" x=\"3320.5\" y=\"-141.8\" font-family=\"Times,serif\" font-size=\"14.00\" fill=\"#000000\">samples = 36</text>\n<text text-anchor=\"middle\" x=\"3320.5\" y=\"-126.8\" font-family=\"Times,serif\" font-size=\"14.00\" fill=\"#000000\">value = [1140568, 487820]</text>\n<text text-anchor=\"middle\" x=\"3320.5\" y=\"-111.8\" font-family=\"Times,serif\" font-size=\"14.00\" fill=\"#000000\">class = y[0]</text>\n</g>\n<!-- 37&#45;&gt;38 -->\n<g id=\"edge38\" class=\"edge\">\n<title>37&#45;&gt;38</title>\n<path fill=\"none\" stroke=\"#000000\" d=\"M3320.5,-222.8796C3320.5,-214.6838 3320.5,-205.9891 3320.5,-197.5013\"/>\n<polygon fill=\"#000000\" stroke=\"#000000\" points=\"3324.0001,-197.298 3320.5,-187.2981 3317.0001,-197.2981 3324.0001,-197.298\"/>\n</g>\n<!-- 41 -->\n<g id=\"node42\" class=\"node\">\n<title>41</title>\n<polygon fill=\"none\" stroke=\"#000000\" points=\"3687.5,-187 3487.5,-187 3487.5,-104 3687.5,-104 3687.5,-187\"/>\n<text text-anchor=\"middle\" x=\"3587.5\" y=\"-171.8\" font-family=\"Times,serif\" font-size=\"14.00\" fill=\"#000000\">53 &lt;= &#45;0.5</text>\n<text text-anchor=\"middle\" x=\"3587.5\" y=\"-156.8\" font-family=\"Times,serif\" font-size=\"14.00\" fill=\"#000000\">gini = 0.497</text>\n<text text-anchor=\"middle\" x=\"3587.5\" y=\"-141.8\" font-family=\"Times,serif\" font-size=\"14.00\" fill=\"#000000\">samples = 912</text>\n<text text-anchor=\"middle\" x=\"3587.5\" y=\"-126.8\" font-family=\"Times,serif\" font-size=\"14.00\" fill=\"#000000\">value = [19608996, 22683630]</text>\n<text text-anchor=\"middle\" x=\"3587.5\" y=\"-111.8\" font-family=\"Times,serif\" font-size=\"14.00\" fill=\"#000000\">class = y[1]</text>\n</g>\n<!-- 37&#45;&gt;41 -->\n<g id=\"edge41\" class=\"edge\">\n<title>37&#45;&gt;41</title>\n<path fill=\"none\" stroke=\"#000000\" d=\"M3413.8836,-222.8796C3436.8508,-212.6433 3461.5643,-201.6286 3484.9387,-191.2108\"/>\n<polygon fill=\"#000000\" stroke=\"#000000\" points=\"3486.46,-194.3647 3494.1691,-187.0969 3483.6104,-187.971 3486.46,-194.3647\"/>\n</g>\n<!-- 39 -->\n<g id=\"node40\" class=\"node\">\n<title>39</title>\n<polygon fill=\"none\" stroke=\"#000000\" points=\"3290.5,-68 3158.5,-68 3158.5,0 3290.5,0 3290.5,-68\"/>\n<text text-anchor=\"middle\" x=\"3224.5\" y=\"-52.8\" font-family=\"Times,serif\" font-size=\"14.00\" fill=\"#000000\">gini = 0.0</text>\n<text text-anchor=\"middle\" x=\"3224.5\" y=\"-37.8\" font-family=\"Times,serif\" font-size=\"14.00\" fill=\"#000000\">samples = 3</text>\n<text text-anchor=\"middle\" x=\"3224.5\" y=\"-22.8\" font-family=\"Times,serif\" font-size=\"14.00\" fill=\"#000000\">value = [0, 146346]</text>\n<text text-anchor=\"middle\" x=\"3224.5\" y=\"-7.8\" font-family=\"Times,serif\" font-size=\"14.00\" fill=\"#000000\">class = y[1]</text>\n</g>\n<!-- 38&#45;&gt;39 -->\n<g id=\"edge39\" class=\"edge\">\n<title>38&#45;&gt;39</title>\n<path fill=\"none\" stroke=\"#000000\" d=\"M3284.7531,-103.9815C3276.8401,-94.7908 3268.4509,-85.0472 3260.5268,-75.8436\"/>\n<polygon fill=\"#000000\" stroke=\"#000000\" points=\"3263.1776,-73.5582 3254.0006,-68.2637 3257.8729,-78.1255 3263.1776,-73.5582\"/>\n</g>\n<!-- 40 -->\n<g id=\"node41\" class=\"node\">\n<title>40</title>\n<polygon fill=\"none\" stroke=\"#000000\" points=\"3484.5,-68 3308.5,-68 3308.5,0 3484.5,0 3484.5,-68\"/>\n<text text-anchor=\"middle\" x=\"3396.5\" y=\"-52.8\" font-family=\"Times,serif\" font-size=\"14.00\" fill=\"#000000\">gini = 0.355</text>\n<text text-anchor=\"middle\" x=\"3396.5\" y=\"-37.8\" font-family=\"Times,serif\" font-size=\"14.00\" fill=\"#000000\">samples = 33</text>\n<text text-anchor=\"middle\" x=\"3396.5\" y=\"-22.8\" font-family=\"Times,serif\" font-size=\"14.00\" fill=\"#000000\">value = [1140568, 341474]</text>\n<text text-anchor=\"middle\" x=\"3396.5\" y=\"-7.8\" font-family=\"Times,serif\" font-size=\"14.00\" fill=\"#000000\">class = y[0]</text>\n</g>\n<!-- 38&#45;&gt;40 -->\n<g id=\"edge40\" class=\"edge\">\n<title>38&#45;&gt;40</title>\n<path fill=\"none\" stroke=\"#000000\" d=\"M3348.7996,-103.9815C3354.8762,-95.0666 3361.3074,-85.6313 3367.4132,-76.6734\"/>\n<polygon fill=\"#000000\" stroke=\"#000000\" points=\"3370.4052,-78.498 3373.1454,-68.2637 3364.6211,-74.5555 3370.4052,-78.498\"/>\n</g>\n<!-- 42 -->\n<g id=\"node43\" class=\"node\">\n<title>42</title>\n<polygon fill=\"none\" stroke=\"#000000\" points=\"3672.5,-68 3502.5,-68 3502.5,0 3672.5,0 3672.5,-68\"/>\n<text text-anchor=\"middle\" x=\"3587.5\" y=\"-52.8\" font-family=\"Times,serif\" font-size=\"14.00\" fill=\"#000000\">gini = 0.32</text>\n<text text-anchor=\"middle\" x=\"3587.5\" y=\"-37.8\" font-family=\"Times,serif\" font-size=\"14.00\" fill=\"#000000\">samples = 23</text>\n<text text-anchor=\"middle\" x=\"3587.5\" y=\"-22.8\" font-family=\"Times,serif\" font-size=\"14.00\" fill=\"#000000\">value = [219340, 878076]</text>\n<text text-anchor=\"middle\" x=\"3587.5\" y=\"-7.8\" font-family=\"Times,serif\" font-size=\"14.00\" fill=\"#000000\">class = y[1]</text>\n</g>\n<!-- 41&#45;&gt;42 -->\n<g id=\"edge42\" class=\"edge\">\n<title>41&#45;&gt;42</title>\n<path fill=\"none\" stroke=\"#000000\" d=\"M3587.5,-103.9815C3587.5,-95.618 3587.5,-86.7965 3587.5,-78.3409\"/>\n<polygon fill=\"#000000\" stroke=\"#000000\" points=\"3591.0001,-78.2636 3587.5,-68.2637 3584.0001,-78.2637 3591.0001,-78.2636\"/>\n</g>\n<!-- 43 -->\n<g id=\"node44\" class=\"node\">\n<title>43</title>\n<polygon fill=\"none\" stroke=\"#000000\" points=\"3890.5,-68 3690.5,-68 3690.5,0 3890.5,0 3890.5,-68\"/>\n<text text-anchor=\"middle\" x=\"3790.5\" y=\"-52.8\" font-family=\"Times,serif\" font-size=\"14.00\" fill=\"#000000\">gini = 0.498</text>\n<text text-anchor=\"middle\" x=\"3790.5\" y=\"-37.8\" font-family=\"Times,serif\" font-size=\"14.00\" fill=\"#000000\">samples = 889</text>\n<text text-anchor=\"middle\" x=\"3790.5\" y=\"-22.8\" font-family=\"Times,serif\" font-size=\"14.00\" fill=\"#000000\">value = [19389656, 21805554]</text>\n<text text-anchor=\"middle\" x=\"3790.5\" y=\"-7.8\" font-family=\"Times,serif\" font-size=\"14.00\" fill=\"#000000\">class = y[1]</text>\n</g>\n<!-- 41&#45;&gt;43 -->\n<g id=\"edge43\" class=\"edge\">\n<title>41&#45;&gt;43</title>\n<path fill=\"none\" stroke=\"#000000\" d=\"M3663.0897,-103.9815C3681.5926,-93.8186 3701.3267,-82.9794 3719.6009,-72.9421\"/>\n<polygon fill=\"#000000\" stroke=\"#000000\" points=\"3721.3629,-75.9676 3728.4428,-68.0856 3717.9929,-69.8322 3721.3629,-75.9676\"/>\n</g>\n<!-- 45 -->\n<g id=\"node46\" class=\"node\">\n<title>45</title>\n<polygon fill=\"none\" stroke=\"#000000\" points=\"4393,-306 4194,-306 4194,-223 4393,-223 4393,-306\"/>\n<text text-anchor=\"middle\" x=\"4293.5\" y=\"-290.8\" font-family=\"Times,serif\" font-size=\"14.00\" fill=\"#000000\">32 &lt;= &#45;0.5</text>\n<text text-anchor=\"middle\" x=\"4293.5\" y=\"-275.8\" font-family=\"Times,serif\" font-size=\"14.00\" fill=\"#000000\">gini = 0.499</text>\n<text text-anchor=\"middle\" x=\"4293.5\" y=\"-260.8\" font-family=\"Times,serif\" font-size=\"14.00\" fill=\"#000000\">samples = 949</text>\n<text text-anchor=\"middle\" x=\"4293.5\" y=\"-245.8\" font-family=\"Times,serif\" font-size=\"14.00\" fill=\"#000000\">value = [21100508, 22829976]</text>\n<text text-anchor=\"middle\" x=\"4293.5\" y=\"-230.8\" font-family=\"Times,serif\" font-size=\"14.00\" fill=\"#000000\">class = y[1]</text>\n</g>\n<!-- 44&#45;&gt;45 -->\n<g id=\"edge45\" class=\"edge\">\n<title>44&#45;&gt;45</title>\n<path fill=\"none\" stroke=\"#000000\" d=\"M4293.5,-341.8796C4293.5,-333.6838 4293.5,-324.9891 4293.5,-316.5013\"/>\n<polygon fill=\"#000000\" stroke=\"#000000\" points=\"4297.0001,-316.298 4293.5,-306.2981 4290.0001,-316.2981 4297.0001,-316.298\"/>\n</g>\n<!-- 52 -->\n<g id=\"node53\" class=\"node\">\n<title>52</title>\n<polygon fill=\"none\" stroke=\"#000000\" points=\"4990,-306 4775,-306 4775,-223 4990,-223 4990,-306\"/>\n<text text-anchor=\"middle\" x=\"4882.5\" y=\"-290.8\" font-family=\"Times,serif\" font-size=\"14.00\" fill=\"#000000\">103 &lt;= &#45;0.5</text>\n<text text-anchor=\"middle\" x=\"4882.5\" y=\"-275.8\" font-family=\"Times,serif\" font-size=\"14.00\" fill=\"#000000\">gini = 0.47</text>\n<text text-anchor=\"middle\" x=\"4882.5\" y=\"-260.8\" font-family=\"Times,serif\" font-size=\"14.00\" fill=\"#000000\">samples = 14359</text>\n<text text-anchor=\"middle\" x=\"4882.5\" y=\"-245.8\" font-family=\"Times,serif\" font-size=\"14.00\" fill=\"#000000\">value = [253732512, 418305650]</text>\n<text text-anchor=\"middle\" x=\"4882.5\" y=\"-230.8\" font-family=\"Times,serif\" font-size=\"14.00\" fill=\"#000000\">class = y[1]</text>\n</g>\n<!-- 44&#45;&gt;52 -->\n<g id=\"edge52\" class=\"edge\">\n<title>44&#45;&gt;52</title>\n<path fill=\"none\" stroke=\"#000000\" d=\"M4400.5049,-361.881C4503.4239,-341.0875 4658.6409,-309.7279 4764.9571,-288.2481\"/>\n<polygon fill=\"#000000\" stroke=\"#000000\" points=\"4765.6593,-291.677 4774.7681,-286.2659 4764.273,-284.8156 4765.6593,-291.677\"/>\n</g>\n<!-- 46 -->\n<g id=\"node47\" class=\"node\">\n<title>46</title>\n<polygon fill=\"none\" stroke=\"#000000\" points=\"4280,-187 4095,-187 4095,-104 4280,-104 4280,-187\"/>\n<text text-anchor=\"middle\" x=\"4187.5\" y=\"-171.8\" font-family=\"Times,serif\" font-size=\"14.00\" fill=\"#000000\">20 &lt;= 0.5</text>\n<text text-anchor=\"middle\" x=\"4187.5\" y=\"-156.8\" font-family=\"Times,serif\" font-size=\"14.00\" fill=\"#000000\">gini = 0.473</text>\n<text text-anchor=\"middle\" x=\"4187.5\" y=\"-141.8\" font-family=\"Times,serif\" font-size=\"14.00\" fill=\"#000000\">samples = 103</text>\n<text text-anchor=\"middle\" x=\"4187.5\" y=\"-126.8\" font-family=\"Times,serif\" font-size=\"14.00\" fill=\"#000000\">value = [2895288, 1804934]</text>\n<text text-anchor=\"middle\" x=\"4187.5\" y=\"-111.8\" font-family=\"Times,serif\" font-size=\"14.00\" fill=\"#000000\">class = y[0]</text>\n</g>\n<!-- 45&#45;&gt;46 -->\n<g id=\"edge46\" class=\"edge\">\n<title>45&#45;&gt;46</title>\n<path fill=\"none\" stroke=\"#000000\" d=\"M4256.4263,-222.8796C4248.4039,-213.8733 4239.8448,-204.2644 4231.5833,-194.9897\"/>\n<polygon fill=\"#000000\" stroke=\"#000000\" points=\"4233.9969,-192.4373 4224.7319,-187.2981 4228.7698,-197.0933 4233.9969,-192.4373\"/>\n</g>\n<!-- 49 -->\n<g id=\"node50\" class=\"node\">\n<title>49</title>\n<polygon fill=\"none\" stroke=\"#000000\" points=\"4498.5,-187 4298.5,-187 4298.5,-104 4498.5,-104 4498.5,-187\"/>\n<text text-anchor=\"middle\" x=\"4398.5\" y=\"-171.8\" font-family=\"Times,serif\" font-size=\"14.00\" fill=\"#000000\">103 &lt;= 0.5</text>\n<text text-anchor=\"middle\" x=\"4398.5\" y=\"-156.8\" font-family=\"Times,serif\" font-size=\"14.00\" fill=\"#000000\">gini = 0.497</text>\n<text text-anchor=\"middle\" x=\"4398.5\" y=\"-141.8\" font-family=\"Times,serif\" font-size=\"14.00\" fill=\"#000000\">samples = 846</text>\n<text text-anchor=\"middle\" x=\"4398.5\" y=\"-126.8\" font-family=\"Times,serif\" font-size=\"14.00\" fill=\"#000000\">value = [18205220, 21025042]</text>\n<text text-anchor=\"middle\" x=\"4398.5\" y=\"-111.8\" font-family=\"Times,serif\" font-size=\"14.00\" fill=\"#000000\">class = y[1]</text>\n</g>\n<!-- 45&#45;&gt;49 -->\n<g id=\"edge49\" class=\"edge\">\n<title>45&#45;&gt;49</title>\n<path fill=\"none\" stroke=\"#000000\" d=\"M4330.2239,-222.8796C4338.1707,-213.8733 4346.649,-204.2644 4354.8326,-194.9897\"/>\n<polygon fill=\"#000000\" stroke=\"#000000\" points=\"4357.6275,-197.1122 4361.6193,-187.2981 4352.3787,-192.4808 4357.6275,-197.1122\"/>\n</g>\n<!-- 47 -->\n<g id=\"node48\" class=\"node\">\n<title>47</title>\n<polygon fill=\"none\" stroke=\"#000000\" points=\"4094,-68 3909,-68 3909,0 4094,0 4094,-68\"/>\n<text text-anchor=\"middle\" x=\"4001.5\" y=\"-52.8\" font-family=\"Times,serif\" font-size=\"14.00\" fill=\"#000000\">gini = 0.457</text>\n<text text-anchor=\"middle\" x=\"4001.5\" y=\"-37.8\" font-family=\"Times,serif\" font-size=\"14.00\" fill=\"#000000\">samples = 97</text>\n<text text-anchor=\"middle\" x=\"4001.5\" y=\"-22.8\" font-family=\"Times,serif\" font-size=\"14.00\" fill=\"#000000\">value = [2851420, 1561024]</text>\n<text text-anchor=\"middle\" x=\"4001.5\" y=\"-7.8\" font-family=\"Times,serif\" font-size=\"14.00\" fill=\"#000000\">class = y[0]</text>\n</g>\n<!-- 46&#45;&gt;47 -->\n<g id=\"edge47\" class=\"edge\">\n<title>46&#45;&gt;47</title>\n<path fill=\"none\" stroke=\"#000000\" d=\"M4118.2405,-103.9815C4101.5953,-94.0034 4083.8627,-83.3733 4067.3764,-73.4904\"/>\n<polygon fill=\"#000000\" stroke=\"#000000\" points=\"4068.7369,-70.2253 4058.3603,-68.0856 4065.1377,-76.2292 4068.7369,-70.2253\"/>\n</g>\n<!-- 48 -->\n<g id=\"node49\" class=\"node\">\n<title>48</title>\n<polygon fill=\"none\" stroke=\"#000000\" points=\"4274.5,-68 4112.5,-68 4112.5,0 4274.5,0 4274.5,-68\"/>\n<text text-anchor=\"middle\" x=\"4193.5\" y=\"-52.8\" font-family=\"Times,serif\" font-size=\"14.00\" fill=\"#000000\">gini = 0.258</text>\n<text text-anchor=\"middle\" x=\"4193.5\" y=\"-37.8\" font-family=\"Times,serif\" font-size=\"14.00\" fill=\"#000000\">samples = 6</text>\n<text text-anchor=\"middle\" x=\"4193.5\" y=\"-22.8\" font-family=\"Times,serif\" font-size=\"14.00\" fill=\"#000000\">value = [43868, 243910]</text>\n<text text-anchor=\"middle\" x=\"4193.5\" y=\"-7.8\" font-family=\"Times,serif\" font-size=\"14.00\" fill=\"#000000\">class = y[1]</text>\n</g>\n<!-- 46&#45;&gt;48 -->\n<g id=\"edge48\" class=\"edge\">\n<title>46&#45;&gt;48</title>\n<path fill=\"none\" stroke=\"#000000\" d=\"M4189.7342,-103.9815C4190.1842,-95.618 4190.6589,-86.7965 4191.1139,-78.3409\"/>\n<polygon fill=\"#000000\" stroke=\"#000000\" points=\"4194.6137,-78.4373 4191.6562,-68.2637 4187.6238,-78.0611 4194.6137,-78.4373\"/>\n</g>\n<!-- 50 -->\n<g id=\"node51\" class=\"node\">\n<title>50</title>\n<polygon fill=\"none\" stroke=\"#000000\" points=\"4492.5,-68 4292.5,-68 4292.5,0 4492.5,0 4492.5,-68\"/>\n<text text-anchor=\"middle\" x=\"4392.5\" y=\"-52.8\" font-family=\"Times,serif\" font-size=\"14.00\" fill=\"#000000\">gini = 0.499</text>\n<text text-anchor=\"middle\" x=\"4392.5\" y=\"-37.8\" font-family=\"Times,serif\" font-size=\"14.00\" fill=\"#000000\">samples = 819</text>\n<text text-anchor=\"middle\" x=\"4392.5\" y=\"-22.8\" font-family=\"Times,serif\" font-size=\"14.00\" fill=\"#000000\">value = [17985880, 19951838]</text>\n<text text-anchor=\"middle\" x=\"4392.5\" y=\"-7.8\" font-family=\"Times,serif\" font-size=\"14.00\" fill=\"#000000\">class = y[1]</text>\n</g>\n<!-- 49&#45;&gt;50 -->\n<g id=\"edge50\" class=\"edge\">\n<title>49&#45;&gt;50</title>\n<path fill=\"none\" stroke=\"#000000\" d=\"M4396.2658,-103.9815C4395.8158,-95.618 4395.3411,-86.7965 4394.8861,-78.3409\"/>\n<polygon fill=\"#000000\" stroke=\"#000000\" points=\"4398.3762,-78.0611 4394.3438,-68.2637 4391.3863,-78.4373 4398.3762,-78.0611\"/>\n</g>\n<!-- 51 -->\n<g id=\"node52\" class=\"node\">\n<title>51</title>\n<polygon fill=\"none\" stroke=\"#000000\" points=\"4688,-68 4511,-68 4511,0 4688,0 4688,-68\"/>\n<text text-anchor=\"middle\" x=\"4599.5\" y=\"-52.8\" font-family=\"Times,serif\" font-size=\"14.00\" fill=\"#000000\">gini = 0.282</text>\n<text text-anchor=\"middle\" x=\"4599.5\" y=\"-37.8\" font-family=\"Times,serif\" font-size=\"14.00\" fill=\"#000000\">samples = 27</text>\n<text text-anchor=\"middle\" x=\"4599.5\" y=\"-22.8\" font-family=\"Times,serif\" font-size=\"14.00\" fill=\"#000000\">value = [219340, 1073204]</text>\n<text text-anchor=\"middle\" x=\"4599.5\" y=\"-7.8\" font-family=\"Times,serif\" font-size=\"14.00\" fill=\"#000000\">class = y[1]</text>\n</g>\n<!-- 49&#45;&gt;51 -->\n<g id=\"edge51\" class=\"edge\">\n<title>49&#45;&gt;51</title>\n<path fill=\"none\" stroke=\"#000000\" d=\"M4473.345,-103.9815C4491.6656,-93.8186 4511.2053,-82.9794 4529.2994,-72.9421\"/>\n<polygon fill=\"#000000\" stroke=\"#000000\" points=\"4531.0073,-75.9972 4538.0542,-68.0856 4527.6117,-69.8759 4531.0073,-75.9972\"/>\n</g>\n<!-- 53 -->\n<g id=\"node54\" class=\"node\">\n<title>53</title>\n<polygon fill=\"none\" stroke=\"#000000\" points=\"4982.5,-187 4782.5,-187 4782.5,-104 4982.5,-104 4982.5,-187\"/>\n<text text-anchor=\"middle\" x=\"4882.5\" y=\"-171.8\" font-family=\"Times,serif\" font-size=\"14.00\" fill=\"#000000\">72 &lt;= &#45;0.5</text>\n<text text-anchor=\"middle\" x=\"4882.5\" y=\"-156.8\" font-family=\"Times,serif\" font-size=\"14.00\" fill=\"#000000\">gini = 0.5</text>\n<text text-anchor=\"middle\" x=\"4882.5\" y=\"-141.8\" font-family=\"Times,serif\" font-size=\"14.00\" fill=\"#000000\">samples = 538</text>\n<text text-anchor=\"middle\" x=\"4882.5\" y=\"-126.8\" font-family=\"Times,serif\" font-size=\"14.00\" fill=\"#000000\">value = [12151436, 12732102]</text>\n<text text-anchor=\"middle\" x=\"4882.5\" y=\"-111.8\" font-family=\"Times,serif\" font-size=\"14.00\" fill=\"#000000\">class = y[1]</text>\n</g>\n<!-- 52&#45;&gt;53 -->\n<g id=\"edge53\" class=\"edge\">\n<title>52&#45;&gt;53</title>\n<path fill=\"none\" stroke=\"#000000\" d=\"M4882.5,-222.8796C4882.5,-214.6838 4882.5,-205.9891 4882.5,-197.5013\"/>\n<polygon fill=\"#000000\" stroke=\"#000000\" points=\"4886.0001,-197.298 4882.5,-187.2981 4879.0001,-197.2981 4886.0001,-197.298\"/>\n</g>\n<!-- 56 -->\n<g id=\"node57\" class=\"node\">\n<title>56</title>\n<polygon fill=\"none\" stroke=\"#000000\" points=\"5312,-187 5097,-187 5097,-104 5312,-104 5312,-187\"/>\n<text text-anchor=\"middle\" x=\"5204.5\" y=\"-171.8\" font-family=\"Times,serif\" font-size=\"14.00\" fill=\"#000000\">57 &lt;= &#45;0.5</text>\n<text text-anchor=\"middle\" x=\"5204.5\" y=\"-156.8\" font-family=\"Times,serif\" font-size=\"14.00\" fill=\"#000000\">gini = 0.468</text>\n<text text-anchor=\"middle\" x=\"5204.5\" y=\"-141.8\" font-family=\"Times,serif\" font-size=\"14.00\" fill=\"#000000\">samples = 13821</text>\n<text text-anchor=\"middle\" x=\"5204.5\" y=\"-126.8\" font-family=\"Times,serif\" font-size=\"14.00\" fill=\"#000000\">value = [241581076, 405573548]</text>\n<text text-anchor=\"middle\" x=\"5204.5\" y=\"-111.8\" font-family=\"Times,serif\" font-size=\"14.00\" fill=\"#000000\">class = y[1]</text>\n</g>\n<!-- 52&#45;&gt;56 -->\n<g id=\"edge56\" class=\"edge\">\n<title>52&#45;&gt;56</title>\n<path fill=\"none\" stroke=\"#000000\" d=\"M4990.169,-224.7093C5021.3183,-213.1976 5055.4701,-200.5763 5087.1769,-188.8585\"/>\n<polygon fill=\"#000000\" stroke=\"#000000\" points=\"5088.7658,-192.0028 5096.9324,-185.2532 5086.3392,-185.4368 5088.7658,-192.0028\"/>\n</g>\n<!-- 54 -->\n<g id=\"node55\" class=\"node\">\n<title>54</title>\n<polygon fill=\"none\" stroke=\"#000000\" points=\"4868.5,-68 4706.5,-68 4706.5,0 4868.5,0 4868.5,-68\"/>\n<text text-anchor=\"middle\" x=\"4787.5\" y=\"-52.8\" font-family=\"Times,serif\" font-size=\"14.00\" fill=\"#000000\">gini = 0.151</text>\n<text text-anchor=\"middle\" x=\"4787.5\" y=\"-37.8\" font-family=\"Times,serif\" font-size=\"14.00\" fill=\"#000000\">samples = 11</text>\n<text text-anchor=\"middle\" x=\"4787.5\" y=\"-22.8\" font-family=\"Times,serif\" font-size=\"14.00\" fill=\"#000000\">value = [43868, 487820]</text>\n<text text-anchor=\"middle\" x=\"4787.5\" y=\"-7.8\" font-family=\"Times,serif\" font-size=\"14.00\" fill=\"#000000\">class = y[1]</text>\n</g>\n<!-- 53&#45;&gt;54 -->\n<g id=\"edge54\" class=\"edge\">\n<title>53&#45;&gt;54</title>\n<path fill=\"none\" stroke=\"#000000\" d=\"M4847.1255,-103.9815C4839.3732,-94.8828 4831.1591,-85.242 4823.3869,-76.1199\"/>\n<polygon fill=\"#000000\" stroke=\"#000000\" points=\"4825.8428,-73.6056 4816.6933,-68.2637 4820.5146,-78.1454 4825.8428,-73.6056\"/>\n</g>\n<!-- 55 -->\n<g id=\"node56\" class=\"node\">\n<title>55</title>\n<polygon fill=\"none\" stroke=\"#000000\" points=\"5086.5,-68 4886.5,-68 4886.5,0 5086.5,0 5086.5,-68\"/>\n<text text-anchor=\"middle\" x=\"4986.5\" y=\"-52.8\" font-family=\"Times,serif\" font-size=\"14.00\" fill=\"#000000\">gini = 0.5</text>\n<text text-anchor=\"middle\" x=\"4986.5\" y=\"-37.8\" font-family=\"Times,serif\" font-size=\"14.00\" fill=\"#000000\">samples = 527</text>\n<text text-anchor=\"middle\" x=\"4986.5\" y=\"-22.8\" font-family=\"Times,serif\" font-size=\"14.00\" fill=\"#000000\">value = [12107568, 12244282]</text>\n<text text-anchor=\"middle\" x=\"4986.5\" y=\"-7.8\" font-family=\"Times,serif\" font-size=\"14.00\" fill=\"#000000\">class = y[1]</text>\n</g>\n<!-- 53&#45;&gt;55 -->\n<g id=\"edge55\" class=\"edge\">\n<title>53&#45;&gt;55</title>\n<path fill=\"none\" stroke=\"#000000\" d=\"M4921.2258,-103.9815C4929.7982,-94.7908 4938.8865,-85.0472 4947.471,-75.8436\"/>\n<polygon fill=\"#000000\" stroke=\"#000000\" points=\"4950.2796,-77.9637 4954.5411,-68.2637 4945.1607,-73.1891 4950.2796,-77.9637\"/>\n</g>\n<!-- 57 -->\n<g id=\"node58\" class=\"node\">\n<title>57</title>\n<polygon fill=\"none\" stroke=\"#000000\" points=\"5304.5,-68 5104.5,-68 5104.5,0 5304.5,0 5304.5,-68\"/>\n<text text-anchor=\"middle\" x=\"5204.5\" y=\"-52.8\" font-family=\"Times,serif\" font-size=\"14.00\" fill=\"#000000\">gini = 0.499</text>\n<text text-anchor=\"middle\" x=\"5204.5\" y=\"-37.8\" font-family=\"Times,serif\" font-size=\"14.00\" fill=\"#000000\">samples = 616</text>\n<text text-anchor=\"middle\" x=\"5204.5\" y=\"-22.8\" font-family=\"Times,serif\" font-size=\"14.00\" fill=\"#000000\">value = [13555212, 14976074]</text>\n<text text-anchor=\"middle\" x=\"5204.5\" y=\"-7.8\" font-family=\"Times,serif\" font-size=\"14.00\" fill=\"#000000\">class = y[1]</text>\n</g>\n<!-- 56&#45;&gt;57 -->\n<g id=\"edge57\" class=\"edge\">\n<title>56&#45;&gt;57</title>\n<path fill=\"none\" stroke=\"#000000\" d=\"M5204.5,-103.9815C5204.5,-95.618 5204.5,-86.7965 5204.5,-78.3409\"/>\n<polygon fill=\"#000000\" stroke=\"#000000\" points=\"5208.0001,-78.2636 5204.5,-68.2637 5201.0001,-78.2637 5208.0001,-78.2636\"/>\n</g>\n<!-- 58 -->\n<g id=\"node59\" class=\"node\">\n<title>58</title>\n<polygon fill=\"none\" stroke=\"#000000\" points=\"5538,-68 5323,-68 5323,0 5538,0 5538,-68\"/>\n<text text-anchor=\"middle\" x=\"5430.5\" y=\"-52.8\" font-family=\"Times,serif\" font-size=\"14.00\" fill=\"#000000\">gini = 0.465</text>\n<text text-anchor=\"middle\" x=\"5430.5\" y=\"-37.8\" font-family=\"Times,serif\" font-size=\"14.00\" fill=\"#000000\">samples = 13205</text>\n<text text-anchor=\"middle\" x=\"5430.5\" y=\"-22.8\" font-family=\"Times,serif\" font-size=\"14.00\" fill=\"#000000\">value = [228025864, 390597474]</text>\n<text text-anchor=\"middle\" x=\"5430.5\" y=\"-7.8\" font-family=\"Times,serif\" font-size=\"14.00\" fill=\"#000000\">class = y[1]</text>\n</g>\n<!-- 56&#45;&gt;58 -->\n<g id=\"edge58\" class=\"edge\">\n<title>56&#45;&gt;58</title>\n<path fill=\"none\" stroke=\"#000000\" d=\"M5288.6541,-103.9815C5309.5343,-93.68 5331.8228,-82.6837 5352.3993,-72.532\"/>\n<polygon fill=\"#000000\" stroke=\"#000000\" points=\"5353.9923,-75.6489 5361.4116,-68.0856 5350.8951,-69.3713 5353.9923,-75.6489\"/>\n</g>\n</g>\n</svg>\n"
          },
          "metadata": {
            "tags": []
          },
          "execution_count": 17
        }
      ]
    },
    {
      "cell_type": "markdown",
      "metadata": {
        "id": "92PDzgUc-fTo",
        "colab_type": "text"
      },
      "source": [
        "#### max_depth = 6"
      ]
    },
    {
      "cell_type": "code",
      "metadata": {
        "id": "BjUmCjzsunp1",
        "colab_type": "code",
        "colab": {
          "base_uri": "https://localhost:8080/",
          "height": 151
        },
        "outputId": "8b237f6f-766c-490c-dc2b-d93b3d47a4a0"
      },
      "source": [
        "\n",
        "dtree = DecisionTreeClassifier(max_depth=6,class_weight=class_weight)\n",
        "dtree.fit(x_train, y_train)\n",
        "\n",
        "predict = dtree.predict(x_test)\n",
        "s = accuracy_score(y_test, predict)\n",
        "print(\"accuracy score: %.2f %%\" % (s*100))\n",
        "print(dtree)"
      ],
      "execution_count": 18,
      "outputs": [
        {
          "output_type": "stream",
          "text": [
            "accuracy score: 54.21 %\n",
            "DecisionTreeClassifier(ccp_alpha=0.0, class_weight={-1: 43868, 1: 48782},\n",
            "                       criterion='gini', max_depth=6, max_features=None,\n",
            "                       max_leaf_nodes=None, min_impurity_decrease=0.0,\n",
            "                       min_impurity_split=None, min_samples_leaf=1,\n",
            "                       min_samples_split=2, min_weight_fraction_leaf=0.0,\n",
            "                       presort='deprecated', random_state=None,\n",
            "                       splitter='best')\n"
          ],
          "name": "stdout"
        }
      ]
    },
    {
      "cell_type": "markdown",
      "metadata": {
        "id": "_DMmDOF5-kuk",
        "colab_type": "text"
      },
      "source": [
        "#### max_depth = 8"
      ]
    },
    {
      "cell_type": "code",
      "metadata": {
        "id": "VX5NGFJbvXHK",
        "colab_type": "code",
        "colab": {
          "base_uri": "https://localhost:8080/",
          "height": 151
        },
        "outputId": "ac985ea8-7a9e-4a68-b1e9-d4d1d817edd7"
      },
      "source": [
        "\n",
        "dtree = DecisionTreeClassifier(max_depth=8,class_weight=class_weight)\n",
        "dtree.fit(x_train, y_train)\n",
        "\n",
        "predict = dtree.predict(x_test)\n",
        "s = accuracy_score(y_test, predict)\n",
        "print(\"accuracy score: %.2f %%\" % (s*100))\n",
        "print(dtree)"
      ],
      "execution_count": 19,
      "outputs": [
        {
          "output_type": "stream",
          "text": [
            "accuracy score: 55.39 %\n",
            "DecisionTreeClassifier(ccp_alpha=0.0, class_weight={-1: 43868, 1: 48782},\n",
            "                       criterion='gini', max_depth=8, max_features=None,\n",
            "                       max_leaf_nodes=None, min_impurity_decrease=0.0,\n",
            "                       min_impurity_split=None, min_samples_leaf=1,\n",
            "                       min_samples_split=2, min_weight_fraction_leaf=0.0,\n",
            "                       presort='deprecated', random_state=None,\n",
            "                       splitter='best')\n"
          ],
          "name": "stdout"
        }
      ]
    },
    {
      "cell_type": "markdown",
      "metadata": {
        "id": "YHGlk-IB-mJm",
        "colab_type": "text"
      },
      "source": [
        "#### max_depth = 10"
      ]
    },
    {
      "cell_type": "code",
      "metadata": {
        "id": "HuPT0jHMvXvP",
        "colab_type": "code",
        "colab": {
          "base_uri": "https://localhost:8080/",
          "height": 151
        },
        "outputId": "e33e5169-6236-4226-fde6-1264269d7c40"
      },
      "source": [
        "\n",
        "dtree = DecisionTreeClassifier(max_depth=10,class_weight=class_weight)\n",
        "dtree.fit(x_train, y_train)\n",
        "\n",
        "predict = dtree.predict(x_test)\n",
        "s = accuracy_score(y_test, predict)\n",
        "print(\"accuracy score: %.2f %%\" % (s*100))\n",
        "print(dtree)"
      ],
      "execution_count": 20,
      "outputs": [
        {
          "output_type": "stream",
          "text": [
            "accuracy score: 55.31 %\n",
            "DecisionTreeClassifier(ccp_alpha=0.0, class_weight={-1: 43868, 1: 48782},\n",
            "                       criterion='gini', max_depth=10, max_features=None,\n",
            "                       max_leaf_nodes=None, min_impurity_decrease=0.0,\n",
            "                       min_impurity_split=None, min_samples_leaf=1,\n",
            "                       min_samples_split=2, min_weight_fraction_leaf=0.0,\n",
            "                       presort='deprecated', random_state=None,\n",
            "                       splitter='best')\n"
          ],
          "name": "stdout"
        }
      ]
    },
    {
      "cell_type": "markdown",
      "metadata": {
        "id": "eG5WNRhb-osJ",
        "colab_type": "text"
      },
      "source": [
        "### LogisticRegression\n",
        "#### Defalut"
      ]
    },
    {
      "cell_type": "code",
      "metadata": {
        "id": "9nzNMgGExjfV",
        "colab_type": "code",
        "colab": {
          "base_uri": "https://localhost:8080/",
          "height": 118
        },
        "outputId": "39928349-efc6-4e82-bccc-fe4f55fad9c8"
      },
      "source": [
        "from sklearn.linear_model import LogisticRegression\n",
        "\n",
        "LR = LogisticRegression(class_weight=class_weight)\n",
        "LR.fit(x_train, y_train)\n",
        "\n",
        "result = LR.predict(x_test)\n",
        "s = accuracy_score(y_test, result)\n",
        "print(\"accuracy score: %.2f %%\" % (s*100))\n",
        "print(LR)\n",
        "\n"
      ],
      "execution_count": 21,
      "outputs": [
        {
          "output_type": "stream",
          "text": [
            "accuracy score: 59.50 %\n",
            "LogisticRegression(C=1.0, class_weight={-1: 43868, 1: 48782}, dual=False,\n",
            "                   fit_intercept=True, intercept_scaling=1, l1_ratio=None,\n",
            "                   max_iter=100, multi_class='auto', n_jobs=None, penalty='l2',\n",
            "                   random_state=None, solver='lbfgs', tol=0.0001, verbose=0,\n",
            "                   warm_start=False)\n"
          ],
          "name": "stdout"
        }
      ]
    },
    {
      "cell_type": "markdown",
      "metadata": {
        "id": "ZTDHMkHC-ylY",
        "colab_type": "text"
      },
      "source": [
        "#### 調整 Solver\n",
        "也沒有特別的增加"
      ]
    },
    {
      "cell_type": "code",
      "metadata": {
        "id": "qr6-rq53-1Yi",
        "colab_type": "code",
        "colab": {
          "base_uri": "https://localhost:8080/",
          "height": 420
        },
        "outputId": "7b343588-3218-4088-89b9-cb96c1a4c6e6"
      },
      "source": [
        "LR = LogisticRegression(class_weight=class_weight ,solver='newton-cg')\n",
        "LR.fit(x_train, y_train)\n",
        "\n",
        "result = LR.predict(x_test)\n",
        "s = accuracy_score(y_test, result)\n",
        "print(\"accuracy score: %.2f %%\" % (s*100))\n",
        "print(LR)\n",
        "\n",
        "LR = LogisticRegression(class_weight=class_weight ,solver='liblinear')\n",
        "LR.fit(x_train, y_train)\n",
        "\n",
        "result = LR.predict(x_test)\n",
        "s = accuracy_score(y_test, result)\n",
        "print(\"accuracy score: %.2f %%\" % (s*100))\n",
        "print(LR)\n",
        "\n",
        "LR = LogisticRegression(class_weight=class_weight ,solver='sag')\n",
        "LR.fit(x_train, y_train)\n",
        "\n",
        "result = LR.predict(x_test)\n",
        "s = accuracy_score(y_test, result)\n",
        "print(\"accuracy score: %.2f %%\" % (s*100))\n",
        "print(LR)\n",
        "\n",
        "LR = LogisticRegression(class_weight=class_weight ,solver='saga')\n",
        "LR.fit(x_train, y_train)\n",
        "\n",
        "result = LR.predict(x_test)\n",
        "s = accuracy_score(y_test, result)\n",
        "print(\"accuracy score: %.2f %%\" % (s*100))\n",
        "print(LR)\n"
      ],
      "execution_count": 22,
      "outputs": [
        {
          "output_type": "stream",
          "text": [
            "accuracy score: 59.50 %\n",
            "LogisticRegression(C=1.0, class_weight={-1: 43868, 1: 48782}, dual=False,\n",
            "                   fit_intercept=True, intercept_scaling=1, l1_ratio=None,\n",
            "                   max_iter=100, multi_class='auto', n_jobs=None, penalty='l2',\n",
            "                   random_state=None, solver='newton-cg', tol=0.0001, verbose=0,\n",
            "                   warm_start=False)\n",
            "accuracy score: 59.50 %\n",
            "LogisticRegression(C=1.0, class_weight={-1: 43868, 1: 48782}, dual=False,\n",
            "                   fit_intercept=True, intercept_scaling=1, l1_ratio=None,\n",
            "                   max_iter=100, multi_class='auto', n_jobs=None, penalty='l2',\n",
            "                   random_state=None, solver='liblinear', tol=0.0001, verbose=0,\n",
            "                   warm_start=False)\n",
            "accuracy score: 54.06 %\n",
            "LogisticRegression(C=1.0, class_weight={-1: 43868, 1: 48782}, dual=False,\n",
            "                   fit_intercept=True, intercept_scaling=1, l1_ratio=None,\n",
            "                   max_iter=100, multi_class='auto', n_jobs=None, penalty='l2',\n",
            "                   random_state=None, solver='sag', tol=0.0001, verbose=0,\n",
            "                   warm_start=False)\n",
            "accuracy score: 51.61 %\n",
            "LogisticRegression(C=1.0, class_weight={-1: 43868, 1: 48782}, dual=False,\n",
            "                   fit_intercept=True, intercept_scaling=1, l1_ratio=None,\n",
            "                   max_iter=100, multi_class='auto', n_jobs=None, penalty='l2',\n",
            "                   random_state=None, solver='saga', tol=0.0001, verbose=0,\n",
            "                   warm_start=False)\n"
          ],
          "name": "stdout"
        }
      ]
    },
    {
      "cell_type": "markdown",
      "metadata": {
        "id": "29ukbZ1hCTAT",
        "colab_type": "text"
      },
      "source": [
        "## NN"
      ]
    },
    {
      "cell_type": "code",
      "metadata": {
        "id": "acU4Fw791DqJ",
        "colab_type": "code",
        "colab": {
          "base_uri": "https://localhost:8080/",
          "height": 34
        },
        "outputId": "567eebcc-7493-4dad-b298-b37e9ac565ad"
      },
      "source": [
        "from keras import models, layers, optimizers, regularizers\n",
        "\n",
        "hidden_units = 10\n",
        "activation = 'relu'\n",
        "l2 = 0.001\n",
        "learning_rate = 0.01\n",
        "epochs = 10\n",
        "batch_size = 32"
      ],
      "execution_count": 23,
      "outputs": [
        {
          "output_type": "stream",
          "text": [
            "Using TensorFlow backend.\n"
          ],
          "name": "stderr"
        }
      ]
    },
    {
      "cell_type": "code",
      "metadata": {
        "id": "qZp9HdYz3iff",
        "colab_type": "code",
        "colab": {}
      },
      "source": [
        "MMap = {1:1, -1:0}\n",
        "y_train = y_train.map(MMap)\n",
        "y_test = y_test.map(MMap)"
      ],
      "execution_count": 0,
      "outputs": []
    },
    {
      "cell_type": "code",
      "metadata": {
        "id": "NSfFbc0T3_Dq",
        "colab_type": "code",
        "colab": {
          "base_uri": "https://localhost:8080/",
          "height": 50
        },
        "outputId": "0e096968-fde4-4572-d274-5ac0f6497d93"
      },
      "source": [
        "n = y_train.value_counts()\n",
        "print(\"0 : %d\" % n[0])\n",
        "print(\"1 : %d\" % n[1])\n",
        "class_weight = {\n",
        "    0: n[0],\n",
        "    1: n[1]\n",
        "}"
      ],
      "execution_count": 25,
      "outputs": [
        {
          "output_type": "stream",
          "text": [
            "0 : 43868\n",
            "1 : 48782\n"
          ],
          "name": "stdout"
        }
      ]
    },
    {
      "cell_type": "markdown",
      "metadata": {
        "id": "pTSDcYb1CW-6",
        "colab_type": "text"
      },
      "source": [
        "### 一開始 unit 調太多 有點overfitting"
      ]
    },
    {
      "cell_type": "code",
      "metadata": {
        "id": "8j9Ujgku1Udd",
        "colab_type": "code",
        "colab": {}
      },
      "source": [
        "model = models.Sequential()\n",
        "\n",
        "#hidden layer\n",
        "model.add(layers.Dense(input_dim = 111, units = 64, activation='relu'))\n",
        "\n",
        "#output layer\n",
        "model.add(layers.Dense(input_dim = 64, units = 1, activation='sigmoid'))\n",
        "\n",
        "#loss function and optimizer\n",
        "model.compile(loss='binary_crossentropy',\n",
        "              optimizer=optimizers.Adam(lr=learning_rate),\n",
        "              metrics=['accuracy'])"
      ],
      "execution_count": 0,
      "outputs": []
    },
    {
      "cell_type": "code",
      "metadata": {
        "id": "v4rRKvuG1gmQ",
        "colab_type": "code",
        "colab": {
          "base_uri": "https://localhost:8080/",
          "height": 386
        },
        "outputId": "7a17e149-2b0f-4995-cf2c-43b56f60235c"
      },
      "source": [
        "# train\n",
        "history = model.fit(x_train, y_train, epochs=epochs, batch_size=batch_size,class_weight=class_weight)\n",
        "\n",
        "# evaluate accuracy\n",
        "test_acc = model.evaluate(x_test, y_test, batch_size=32)[1]\n",
        "print('Testing accuracy: %s' % test_acc)"
      ],
      "execution_count": 27,
      "outputs": [
        {
          "output_type": "stream",
          "text": [
            "Epoch 1/10\n",
            "92650/92650 [==============================] - 4s 42us/step - loss: 31083.3667 - accuracy: 0.5826\n",
            "Epoch 2/10\n",
            "92650/92650 [==============================] - 4s 40us/step - loss: 30881.4140 - accuracy: 0.5900\n",
            "Epoch 3/10\n",
            "92650/92650 [==============================] - 4s 40us/step - loss: 30788.7553 - accuracy: 0.5933\n",
            "Epoch 4/10\n",
            "92650/92650 [==============================] - 4s 41us/step - loss: 30712.2784 - accuracy: 0.5957\n",
            "Epoch 5/10\n",
            "92650/92650 [==============================] - 4s 41us/step - loss: 30584.2191 - accuracy: 0.5988\n",
            "Epoch 6/10\n",
            "92650/92650 [==============================] - 4s 40us/step - loss: 30413.2892 - accuracy: 0.6029\n",
            "Epoch 7/10\n",
            "92650/92650 [==============================] - 4s 45us/step - loss: 30234.9571 - accuracy: 0.6093\n",
            "Epoch 8/10\n",
            "92650/92650 [==============================] - 4s 47us/step - loss: 30030.7161 - accuracy: 0.6161\n",
            "Epoch 9/10\n",
            "92650/92650 [==============================] - 4s 46us/step - loss: 29781.4192 - accuracy: 0.6201\n",
            "Epoch 10/10\n",
            "92650/92650 [==============================] - 4s 41us/step - loss: 29581.3509 - accuracy: 0.6245\n",
            "10294/10294 [==============================] - 0s 21us/step\n",
            "Testing accuracy: 0.5769380331039429\n"
          ],
          "name": "stdout"
        }
      ]
    },
    {
      "cell_type": "code",
      "metadata": {
        "id": "ga6v8hCm1hq9",
        "colab_type": "code",
        "colab": {}
      },
      "source": [
        "model = models.Sequential()\n",
        "\n",
        "#hidden layer\n",
        "model.add(layers.Dense(input_dim = 111, units = 32, activation='relu'))\n",
        "\n",
        "#output layer\n",
        "model.add(layers.Dense(input_dim = 32, units = 1, activation='sigmoid'))\n",
        "\n",
        "#loss function and optimizer\n",
        "model.compile(loss='binary_crossentropy',\n",
        "              optimizer=optimizers.Adam(lr=learning_rate),\n",
        "              metrics=['accuracy'])"
      ],
      "execution_count": 0,
      "outputs": []
    },
    {
      "cell_type": "code",
      "metadata": {
        "id": "6vCYrX2M1hsZ",
        "colab_type": "code",
        "colab": {
          "base_uri": "https://localhost:8080/",
          "height": 386
        },
        "outputId": "cf48dca2-7b95-424c-ab57-f4ce4d47ac72"
      },
      "source": [
        "# train\n",
        "history = model.fit(x_train, y_train, epochs=epochs, batch_size=batch_size,class_weight=class_weight)\n",
        "\n",
        "# evaluate accuracy\n",
        "test_acc = model.evaluate(x_test, y_test, batch_size=32)[1]\n",
        "print('Testing accuracy: %s' % test_acc)"
      ],
      "execution_count": 29,
      "outputs": [
        {
          "output_type": "stream",
          "text": [
            "Epoch 1/10\n",
            "92650/92650 [==============================] - 4s 39us/step - loss: 30997.0623 - accuracy: 0.5838\n",
            "Epoch 2/10\n",
            "92650/92650 [==============================] - 4s 41us/step - loss: 30824.3313 - accuracy: 0.5920\n",
            "Epoch 3/10\n",
            "92650/92650 [==============================] - 4s 41us/step - loss: 30751.9476 - accuracy: 0.5931\n",
            "Epoch 4/10\n",
            "92650/92650 [==============================] - 4s 39us/step - loss: 30689.5044 - accuracy: 0.5951\n",
            "Epoch 5/10\n",
            "92650/92650 [==============================] - 4s 40us/step - loss: 30575.4060 - accuracy: 0.5988\n",
            "Epoch 6/10\n",
            "92650/92650 [==============================] - 4s 42us/step - loss: 30483.2089 - accuracy: 0.6022\n",
            "Epoch 7/10\n",
            "92650/92650 [==============================] - 4s 41us/step - loss: 30384.9960 - accuracy: 0.6062\n",
            "Epoch 8/10\n",
            "92650/92650 [==============================] - 4s 42us/step - loss: 30293.6295 - accuracy: 0.6072\n",
            "Epoch 9/10\n",
            "92650/92650 [==============================] - 4s 40us/step - loss: 30178.1919 - accuracy: 0.6114\n",
            "Epoch 10/10\n",
            "92650/92650 [==============================] - 4s 41us/step - loss: 30092.6620 - accuracy: 0.6121\n",
            "10294/10294 [==============================] - 0s 20us/step\n",
            "Testing accuracy: 0.5818923711776733\n"
          ],
          "name": "stdout"
        }
      ]
    },
    {
      "cell_type": "code",
      "metadata": {
        "id": "ZE7ApbC21hv3",
        "colab_type": "code",
        "colab": {}
      },
      "source": [
        "model = models.Sequential()\n",
        "\n",
        "#hidden layer\n",
        "model.add(layers.Dense(input_dim = 111, units = 16, activation='relu'))\n",
        "\n",
        "#output layer\n",
        "model.add(layers.Dense(input_dim = 16, units = 1, activation='sigmoid'))\n",
        "\n",
        "#loss function and optimizer\n",
        "model.compile(loss='binary_crossentropy',\n",
        "              optimizer=optimizers.Adam(lr=learning_rate),\n",
        "              metrics=['accuracy'])"
      ],
      "execution_count": 0,
      "outputs": []
    },
    {
      "cell_type": "code",
      "metadata": {
        "id": "ww6iJaRy1hym",
        "colab_type": "code",
        "colab": {
          "base_uri": "https://localhost:8080/",
          "height": 386
        },
        "outputId": "a093084e-2c6d-4ac5-92c1-9e82bce190cf"
      },
      "source": [
        "# train\n",
        "history = model.fit(x_train, y_train, epochs=epochs, batch_size=batch_size,class_weight=class_weight)\n",
        "\n",
        "# evaluate accuracy\n",
        "test_acc = model.evaluate(x_test, y_test, batch_size=32)[1]\n",
        "print('Testing accuracy: %s' % test_acc)"
      ],
      "execution_count": 31,
      "outputs": [
        {
          "output_type": "stream",
          "text": [
            "Epoch 1/10\n",
            "92650/92650 [==============================] - 4s 39us/step - loss: 30948.5190 - accuracy: 0.5847\n",
            "Epoch 2/10\n",
            "92650/92650 [==============================] - 4s 39us/step - loss: 30809.1506 - accuracy: 0.5896\n",
            "Epoch 3/10\n",
            "92650/92650 [==============================] - 4s 38us/step - loss: 30718.5123 - accuracy: 0.5944\n",
            "Epoch 4/10\n",
            "92650/92650 [==============================] - 4s 41us/step - loss: 30694.2034 - accuracy: 0.5950\n",
            "Epoch 5/10\n",
            "92650/92650 [==============================] - 4s 39us/step - loss: 30649.7187 - accuracy: 0.5972\n",
            "Epoch 6/10\n",
            "92650/92650 [==============================] - 4s 39us/step - loss: 30585.1224 - accuracy: 0.5996\n",
            "Epoch 7/10\n",
            "92650/92650 [==============================] - 4s 40us/step - loss: 30564.4126 - accuracy: 0.6004\n",
            "Epoch 8/10\n",
            "92650/92650 [==============================] - 4s 41us/step - loss: 30510.2812 - accuracy: 0.6014\n",
            "Epoch 9/10\n",
            "92650/92650 [==============================] - 4s 39us/step - loss: 30467.2077 - accuracy: 0.6015\n",
            "Epoch 10/10\n",
            "92650/92650 [==============================] - 4s 39us/step - loss: 30439.4614 - accuracy: 0.6027\n",
            "10294/10294 [==============================] - 0s 20us/step\n",
            "Testing accuracy: 0.5926753282546997\n"
          ],
          "name": "stdout"
        }
      ]
    },
    {
      "cell_type": "code",
      "metadata": {
        "id": "IBCTmoz35MTI",
        "colab_type": "code",
        "colab": {}
      },
      "source": [
        "model = models.Sequential()\n",
        "\n",
        "#hidden layer\n",
        "model.add(layers.Dense(input_dim = 111, units = 8, activation='relu'))\n",
        "\n",
        "#output layer\n",
        "model.add(layers.Dense(input_dim = 8, units = 1, activation='sigmoid'))\n",
        "\n",
        "#loss function and optimizer\n",
        "model.compile(loss='binary_crossentropy',\n",
        "              optimizer=optimizers.Adam(lr=learning_rate),\n",
        "              metrics=['accuracy'])"
      ],
      "execution_count": 0,
      "outputs": []
    },
    {
      "cell_type": "code",
      "metadata": {
        "id": "-76-ntVA5MXZ",
        "colab_type": "code",
        "colab": {
          "base_uri": "https://localhost:8080/",
          "height": 386
        },
        "outputId": "75985b07-ad22-4fae-c6e7-e97ccac039eb"
      },
      "source": [
        "# train\n",
        "history = model.fit(x_train, y_train, epochs=epochs, batch_size=batch_size,class_weight=class_weight)\n",
        "\n",
        "# evaluate accuracy\n",
        "test_acc = model.evaluate(x_test, y_test, batch_size=32)[1]\n",
        "print('Testing accuracy: %s' % test_acc)"
      ],
      "execution_count": 33,
      "outputs": [
        {
          "output_type": "stream",
          "text": [
            "Epoch 1/10\n",
            "92650/92650 [==============================] - 4s 40us/step - loss: 30906.7596 - accuracy: 0.5874\n",
            "Epoch 2/10\n",
            "92650/92650 [==============================] - 4s 38us/step - loss: 30761.4731 - accuracy: 0.5917\n",
            "Epoch 3/10\n",
            "92650/92650 [==============================] - 4s 39us/step - loss: 30727.2025 - accuracy: 0.5947\n",
            "Epoch 4/10\n",
            "92650/92650 [==============================] - 4s 41us/step - loss: 30689.4758 - accuracy: 0.5952\n",
            "Epoch 5/10\n",
            "92650/92650 [==============================] - 4s 43us/step - loss: 30660.5323 - accuracy: 0.5964\n",
            "Epoch 6/10\n",
            "92650/92650 [==============================] - 4s 41us/step - loss: 30638.0574 - accuracy: 0.5981\n",
            "Epoch 7/10\n",
            "92650/92650 [==============================] - 4s 39us/step - loss: 30604.2315 - accuracy: 0.5978\n",
            "Epoch 8/10\n",
            "92650/92650 [==============================] - 4s 39us/step - loss: 30600.9917 - accuracy: 0.5991\n",
            "Epoch 9/10\n",
            "92650/92650 [==============================] - 4s 39us/step - loss: 30587.1361 - accuracy: 0.5999\n",
            "Epoch 10/10\n",
            "92650/92650 [==============================] - 4s 39us/step - loss: 30557.9438 - accuracy: 0.5981\n",
            "10294/10294 [==============================] - 0s 20us/step\n",
            "Testing accuracy: 0.5932582020759583\n"
          ],
          "name": "stdout"
        }
      ]
    },
    {
      "cell_type": "markdown",
      "metadata": {
        "id": "Lz_zwDIzCkwH",
        "colab_type": "text"
      },
      "source": [
        "差不多 60% 多一層試試"
      ]
    },
    {
      "cell_type": "code",
      "metadata": {
        "id": "qfxoD5zT5MaS",
        "colab_type": "code",
        "colab": {}
      },
      "source": [
        "model = models.Sequential()\n",
        "\n",
        "#hidden layer\n",
        "model.add(layers.Dense(input_dim = 111, units = 8, activation='relu'))\n",
        "\n",
        "model.add(layers.Dense(input_dim = 8, units = 8, activation='relu'))\n",
        "\n",
        "#output layer\n",
        "model.add(layers.Dense(input_dim = 8, units = 1, activation='sigmoid'))\n",
        "\n",
        "#loss function and optimizer\n",
        "model.compile(loss='binary_crossentropy',\n",
        "              optimizer=optimizers.Adam(lr=learning_rate),\n",
        "              metrics=['accuracy'])"
      ],
      "execution_count": 0,
      "outputs": []
    },
    {
      "cell_type": "code",
      "metadata": {
        "id": "XskF_pX85M3z",
        "colab_type": "code",
        "colab": {
          "base_uri": "https://localhost:8080/",
          "height": 386
        },
        "outputId": "9f99df71-5e9d-4144-f711-f146eb74e51c"
      },
      "source": [
        "# train\n",
        "history = model.fit(x_train, y_train, epochs=epochs, batch_size=batch_size,class_weight=class_weight)\n",
        "\n",
        "# evaluate accuracy\n",
        "test_acc = model.evaluate(x_test, y_test, batch_size=32)[1]\n",
        "print('Testing accuracy: %s' % test_acc)"
      ],
      "execution_count": 35,
      "outputs": [
        {
          "output_type": "stream",
          "text": [
            "Epoch 1/10\n",
            "92650/92650 [==============================] - 4s 41us/step - loss: 30927.7081 - accuracy: 0.5870\n",
            "Epoch 2/10\n",
            "92650/92650 [==============================] - 4s 39us/step - loss: 30740.6544 - accuracy: 0.5926\n",
            "Epoch 3/10\n",
            "92650/92650 [==============================] - 4s 40us/step - loss: 30689.1847 - accuracy: 0.5939\n",
            "Epoch 4/10\n",
            "92650/92650 [==============================] - 4s 40us/step - loss: 30648.0706 - accuracy: 0.5948\n",
            "Epoch 5/10\n",
            "92650/92650 [==============================] - 4s 40us/step - loss: 30603.0705 - accuracy: 0.5971\n",
            "Epoch 6/10\n",
            "92650/92650 [==============================] - 4s 40us/step - loss: 30589.4307 - accuracy: 0.5979\n",
            "Epoch 7/10\n",
            "92650/92650 [==============================] - 4s 40us/step - loss: 30557.5406 - accuracy: 0.5981\n",
            "Epoch 8/10\n",
            "92650/92650 [==============================] - 4s 41us/step - loss: 30525.7489 - accuracy: 0.5986\n",
            "Epoch 9/10\n",
            "92650/92650 [==============================] - 4s 39us/step - loss: 30511.2742 - accuracy: 0.5992\n",
            "Epoch 10/10\n",
            "92650/92650 [==============================] - 4s 42us/step - loss: 30481.9203 - accuracy: 0.5979\n",
            "10294/10294 [==============================] - 0s 20us/step\n",
            "Testing accuracy: 0.5865553021430969\n"
          ],
          "name": "stdout"
        }
      ]
    },
    {
      "cell_type": "markdown",
      "metadata": {
        "id": "fNVZ6v49CwAj",
        "colab_type": "text"
      },
      "source": [
        "似乎沒啥差"
      ]
    },
    {
      "cell_type": "markdown",
      "metadata": {
        "id": "0Q5LWgmoDSJd",
        "colab_type": "text"
      },
      "source": [
        "## Summary\n",
        "用 NN 跟 LR 的結果最高都在60%左右，可見 Dota2 的平衡性做得不差，由一開始資料分析看英雄勝率最高最低也才差 7% 。 即使今天一隊都選很強的英雄另一隊都選爛角，可能勝負機率也會在20%以內。所以我們的預測結果只有60%也算可以接受。"
      ]
    }
  ]
}